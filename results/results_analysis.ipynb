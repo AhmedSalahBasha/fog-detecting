{
 "cells": [
  {
   "cell_type": "code",
   "execution_count": 1,
   "metadata": {},
   "outputs": [],
   "source": [
    "import pandas as pd"
   ]
  },
  {
   "cell_type": "markdown",
   "metadata": {},
   "source": [
    "## Experiments"
   ]
  },
  {
   "cell_type": "code",
   "execution_count": 2,
   "metadata": {},
   "outputs": [],
   "source": [
    "df = pd.read_csv('experiments_results.csv', sep=',')\n",
    "results_df = df.groupby(['model_name', 'sensor_pos', 'sensor_type', 'features'])[['f1_score', 'precision' , 'recall', 'accuracy']].mean()\n",
    "results_df = results_df.reset_index()"
   ]
  },
  {
   "cell_type": "markdown",
   "metadata": {},
   "source": [
    "### 1- acc and shank and stat"
   ]
  },
  {
   "cell_type": "code",
   "execution_count": 3,
   "metadata": {},
   "outputs": [
    {
     "data": {
      "text/plain": "                                 model_name sensor_pos sensor_type features  \\\n101  K-NearestNeighbors_DynamicTimeWrapping      shank         acc     stat   \n74                       K-NearestNeighbors      shank         acc     stat   \n128                                    LSTM      shank         acc     stat   \n20                             DecisionTree      shank         acc     stat   \n155                            RandomForest      shank         acc     stat   \n47                       GaussianNaiveBayes      shank         acc     stat   \n182                   SupportVectorsMachine      shank         acc     stat   \n\n     f1_score  precision    recall  accuracy  \n101  0.778099   0.874357  0.750357  0.750357  \n74   0.776689   0.873907  0.748855  0.748855  \n128  0.732448   0.727001  0.727001  0.727001  \n20   0.720101   0.860318  0.707880  0.707880  \n155  0.718096   0.850722  0.746051  0.746051  \n47   0.680728   0.794244  0.662724  0.662724  \n182  0.642990   0.808332  0.588220  0.588220  ",
      "text/html": "<div>\n<style scoped>\n    .dataframe tbody tr th:only-of-type {\n        vertical-align: middle;\n    }\n\n    .dataframe tbody tr th {\n        vertical-align: top;\n    }\n\n    .dataframe thead th {\n        text-align: right;\n    }\n</style>\n<table border=\"1\" class=\"dataframe\">\n  <thead>\n    <tr style=\"text-align: right;\">\n      <th></th>\n      <th>model_name</th>\n      <th>sensor_pos</th>\n      <th>sensor_type</th>\n      <th>features</th>\n      <th>f1_score</th>\n      <th>precision</th>\n      <th>recall</th>\n      <th>accuracy</th>\n    </tr>\n  </thead>\n  <tbody>\n    <tr>\n      <th>101</th>\n      <td>K-NearestNeighbors_DynamicTimeWrapping</td>\n      <td>shank</td>\n      <td>acc</td>\n      <td>stat</td>\n      <td>0.778099</td>\n      <td>0.874357</td>\n      <td>0.750357</td>\n      <td>0.750357</td>\n    </tr>\n    <tr>\n      <th>74</th>\n      <td>K-NearestNeighbors</td>\n      <td>shank</td>\n      <td>acc</td>\n      <td>stat</td>\n      <td>0.776689</td>\n      <td>0.873907</td>\n      <td>0.748855</td>\n      <td>0.748855</td>\n    </tr>\n    <tr>\n      <th>128</th>\n      <td>LSTM</td>\n      <td>shank</td>\n      <td>acc</td>\n      <td>stat</td>\n      <td>0.732448</td>\n      <td>0.727001</td>\n      <td>0.727001</td>\n      <td>0.727001</td>\n    </tr>\n    <tr>\n      <th>20</th>\n      <td>DecisionTree</td>\n      <td>shank</td>\n      <td>acc</td>\n      <td>stat</td>\n      <td>0.720101</td>\n      <td>0.860318</td>\n      <td>0.707880</td>\n      <td>0.707880</td>\n    </tr>\n    <tr>\n      <th>155</th>\n      <td>RandomForest</td>\n      <td>shank</td>\n      <td>acc</td>\n      <td>stat</td>\n      <td>0.718096</td>\n      <td>0.850722</td>\n      <td>0.746051</td>\n      <td>0.746051</td>\n    </tr>\n    <tr>\n      <th>47</th>\n      <td>GaussianNaiveBayes</td>\n      <td>shank</td>\n      <td>acc</td>\n      <td>stat</td>\n      <td>0.680728</td>\n      <td>0.794244</td>\n      <td>0.662724</td>\n      <td>0.662724</td>\n    </tr>\n    <tr>\n      <th>182</th>\n      <td>SupportVectorsMachine</td>\n      <td>shank</td>\n      <td>acc</td>\n      <td>stat</td>\n      <td>0.642990</td>\n      <td>0.808332</td>\n      <td>0.588220</td>\n      <td>0.588220</td>\n    </tr>\n  </tbody>\n</table>\n</div>"
     },
     "execution_count": 3,
     "metadata": {},
     "output_type": "execute_result"
    }
   ],
   "source": [
    "acc_shank_stat = results_df.loc[(results_df['sensor_type'] == 'acc') & \n",
    "                                (results_df['sensor_pos'] == 'shank') & \n",
    "                                (results_df['features'] == 'stat')]\n",
    "acc_shank_stat.sort_values(by=['f1_score'], ascending=False)"
   ]
  },
  {
   "cell_type": "markdown",
   "metadata": {},
   "source": [
    "### 2- acc and shank and freq"
   ]
  },
  {
   "cell_type": "code",
   "execution_count": 4,
   "metadata": {},
   "outputs": [
    {
     "data": {
      "text/plain": "                                 model_name sensor_pos sensor_type features  \\\n154                            RandomForest      shank         acc     freq   \n19                             DecisionTree      shank         acc     freq   \n127                                    LSTM      shank         acc     freq   \n73                       K-NearestNeighbors      shank         acc     freq   \n100  K-NearestNeighbors_DynamicTimeWrapping      shank         acc     freq   \n181                   SupportVectorsMachine      shank         acc     freq   \n46                       GaussianNaiveBayes      shank         acc     freq   \n\n     f1_score  precision    recall  accuracy  \n154  0.873862   0.922176  0.860270  0.860270  \n19   0.866423   0.919419  0.846020  0.846020  \n127  0.842373   0.842016  0.842016  0.842016  \n73   0.840654   0.905584  0.814411  0.814411  \n100  0.826369   0.899835  0.797045  0.797045  \n181  0.743843   0.867750  0.703270  0.703270  \n46   0.686277   0.859335  0.629862  0.629862  ",
      "text/html": "<div>\n<style scoped>\n    .dataframe tbody tr th:only-of-type {\n        vertical-align: middle;\n    }\n\n    .dataframe tbody tr th {\n        vertical-align: top;\n    }\n\n    .dataframe thead th {\n        text-align: right;\n    }\n</style>\n<table border=\"1\" class=\"dataframe\">\n  <thead>\n    <tr style=\"text-align: right;\">\n      <th></th>\n      <th>model_name</th>\n      <th>sensor_pos</th>\n      <th>sensor_type</th>\n      <th>features</th>\n      <th>f1_score</th>\n      <th>precision</th>\n      <th>recall</th>\n      <th>accuracy</th>\n    </tr>\n  </thead>\n  <tbody>\n    <tr>\n      <th>154</th>\n      <td>RandomForest</td>\n      <td>shank</td>\n      <td>acc</td>\n      <td>freq</td>\n      <td>0.873862</td>\n      <td>0.922176</td>\n      <td>0.860270</td>\n      <td>0.860270</td>\n    </tr>\n    <tr>\n      <th>19</th>\n      <td>DecisionTree</td>\n      <td>shank</td>\n      <td>acc</td>\n      <td>freq</td>\n      <td>0.866423</td>\n      <td>0.919419</td>\n      <td>0.846020</td>\n      <td>0.846020</td>\n    </tr>\n    <tr>\n      <th>127</th>\n      <td>LSTM</td>\n      <td>shank</td>\n      <td>acc</td>\n      <td>freq</td>\n      <td>0.842373</td>\n      <td>0.842016</td>\n      <td>0.842016</td>\n      <td>0.842016</td>\n    </tr>\n    <tr>\n      <th>73</th>\n      <td>K-NearestNeighbors</td>\n      <td>shank</td>\n      <td>acc</td>\n      <td>freq</td>\n      <td>0.840654</td>\n      <td>0.905584</td>\n      <td>0.814411</td>\n      <td>0.814411</td>\n    </tr>\n    <tr>\n      <th>100</th>\n      <td>K-NearestNeighbors_DynamicTimeWrapping</td>\n      <td>shank</td>\n      <td>acc</td>\n      <td>freq</td>\n      <td>0.826369</td>\n      <td>0.899835</td>\n      <td>0.797045</td>\n      <td>0.797045</td>\n    </tr>\n    <tr>\n      <th>181</th>\n      <td>SupportVectorsMachine</td>\n      <td>shank</td>\n      <td>acc</td>\n      <td>freq</td>\n      <td>0.743843</td>\n      <td>0.867750</td>\n      <td>0.703270</td>\n      <td>0.703270</td>\n    </tr>\n    <tr>\n      <th>46</th>\n      <td>GaussianNaiveBayes</td>\n      <td>shank</td>\n      <td>acc</td>\n      <td>freq</td>\n      <td>0.686277</td>\n      <td>0.859335</td>\n      <td>0.629862</td>\n      <td>0.629862</td>\n    </tr>\n  </tbody>\n</table>\n</div>"
     },
     "execution_count": 4,
     "metadata": {},
     "output_type": "execute_result"
    }
   ],
   "source": [
    "acc_shank_freq = results_df.loc[(results_df['sensor_type'] == 'acc') & \n",
    "                                (results_df['sensor_pos'] == 'shank') & \n",
    "                                (results_df['features'] == 'freq')]\n",
    "acc_shank_freq.sort_values(by=['f1_score'], ascending=False)"
   ]
  },
  {
   "cell_type": "markdown",
   "metadata": {},
   "source": [
    "### 3- acc and shank and all"
   ]
  },
  {
   "cell_type": "code",
   "execution_count": 5,
   "metadata": {},
   "outputs": [
    {
     "data": {
      "text/plain": "                                 model_name sensor_pos sensor_type features  \\\n153                            RandomForest      shank         acc      all   \n72                       K-NearestNeighbors      shank         acc      all   \n18                             DecisionTree      shank         acc      all   \n99   K-NearestNeighbors_DynamicTimeWrapping      shank         acc      all   \n126                                    LSTM      shank         acc      all   \n45                       GaussianNaiveBayes      shank         acc      all   \n180                   SupportVectorsMachine      shank         acc      all   \n\n     f1_score  precision    recall  accuracy  \n153  0.844065   0.922192  0.837930  0.837930  \n72   0.837192   0.910400  0.813744  0.813744  \n18   0.835736   0.906199  0.815240  0.815240  \n99   0.828947   0.905277  0.804619  0.804619  \n126  0.753043   0.747998  0.747998  0.747998  \n45   0.703269   0.830611  0.664484  0.664484  \n180  0.696154   0.825401  0.648804  0.648804  ",
      "text/html": "<div>\n<style scoped>\n    .dataframe tbody tr th:only-of-type {\n        vertical-align: middle;\n    }\n\n    .dataframe tbody tr th {\n        vertical-align: top;\n    }\n\n    .dataframe thead th {\n        text-align: right;\n    }\n</style>\n<table border=\"1\" class=\"dataframe\">\n  <thead>\n    <tr style=\"text-align: right;\">\n      <th></th>\n      <th>model_name</th>\n      <th>sensor_pos</th>\n      <th>sensor_type</th>\n      <th>features</th>\n      <th>f1_score</th>\n      <th>precision</th>\n      <th>recall</th>\n      <th>accuracy</th>\n    </tr>\n  </thead>\n  <tbody>\n    <tr>\n      <th>153</th>\n      <td>RandomForest</td>\n      <td>shank</td>\n      <td>acc</td>\n      <td>all</td>\n      <td>0.844065</td>\n      <td>0.922192</td>\n      <td>0.837930</td>\n      <td>0.837930</td>\n    </tr>\n    <tr>\n      <th>72</th>\n      <td>K-NearestNeighbors</td>\n      <td>shank</td>\n      <td>acc</td>\n      <td>all</td>\n      <td>0.837192</td>\n      <td>0.910400</td>\n      <td>0.813744</td>\n      <td>0.813744</td>\n    </tr>\n    <tr>\n      <th>18</th>\n      <td>DecisionTree</td>\n      <td>shank</td>\n      <td>acc</td>\n      <td>all</td>\n      <td>0.835736</td>\n      <td>0.906199</td>\n      <td>0.815240</td>\n      <td>0.815240</td>\n    </tr>\n    <tr>\n      <th>99</th>\n      <td>K-NearestNeighbors_DynamicTimeWrapping</td>\n      <td>shank</td>\n      <td>acc</td>\n      <td>all</td>\n      <td>0.828947</td>\n      <td>0.905277</td>\n      <td>0.804619</td>\n      <td>0.804619</td>\n    </tr>\n    <tr>\n      <th>126</th>\n      <td>LSTM</td>\n      <td>shank</td>\n      <td>acc</td>\n      <td>all</td>\n      <td>0.753043</td>\n      <td>0.747998</td>\n      <td>0.747998</td>\n      <td>0.747998</td>\n    </tr>\n    <tr>\n      <th>45</th>\n      <td>GaussianNaiveBayes</td>\n      <td>shank</td>\n      <td>acc</td>\n      <td>all</td>\n      <td>0.703269</td>\n      <td>0.830611</td>\n      <td>0.664484</td>\n      <td>0.664484</td>\n    </tr>\n    <tr>\n      <th>180</th>\n      <td>SupportVectorsMachine</td>\n      <td>shank</td>\n      <td>acc</td>\n      <td>all</td>\n      <td>0.696154</td>\n      <td>0.825401</td>\n      <td>0.648804</td>\n      <td>0.648804</td>\n    </tr>\n  </tbody>\n</table>\n</div>"
     },
     "execution_count": 5,
     "metadata": {},
     "output_type": "execute_result"
    }
   ],
   "source": [
    "acc_shank_all = results_df.loc[(results_df['sensor_type'] == 'acc') & \n",
    "                               (results_df['sensor_pos'] == 'shank') & \n",
    "                               (results_df['features'] == 'all')]\n",
    "acc_shank_all.sort_values(by=['f1_score'], ascending=False)"
   ]
  },
  {
   "cell_type": "markdown",
   "metadata": {},
   "source": [
    "### 4- acc and feet and stat"
   ]
  },
  {
   "cell_type": "code",
   "execution_count": 6,
   "metadata": {},
   "outputs": [
    {
     "data": {
      "text/plain": "                                 model_name sensor_pos sensor_type features  \\\n119                                    LSTM       feet         acc     stat   \n92   K-NearestNeighbors_DynamicTimeWrapping       feet         acc     stat   \n65                       K-NearestNeighbors       feet         acc     stat   \n38                       GaussianNaiveBayes       feet         acc     stat   \n173                   SupportVectorsMachine       feet         acc     stat   \n11                             DecisionTree       feet         acc     stat   \n146                            RandomForest       feet         acc     stat   \n\n     f1_score  precision    recall  accuracy  \n119  0.733250   0.727807  0.727807  0.727807  \n92   0.730679   0.876545  0.703023  0.703023  \n65   0.720458   0.863071  0.693548  0.693548  \n38   0.704650   0.836247  0.636287  0.636287  \n173  0.702122   0.817325  0.649157  0.649157  \n11   0.686898   0.789387  0.694897  0.694897  \n146  0.676017   0.654057  0.728250  0.728250  ",
      "text/html": "<div>\n<style scoped>\n    .dataframe tbody tr th:only-of-type {\n        vertical-align: middle;\n    }\n\n    .dataframe tbody tr th {\n        vertical-align: top;\n    }\n\n    .dataframe thead th {\n        text-align: right;\n    }\n</style>\n<table border=\"1\" class=\"dataframe\">\n  <thead>\n    <tr style=\"text-align: right;\">\n      <th></th>\n      <th>model_name</th>\n      <th>sensor_pos</th>\n      <th>sensor_type</th>\n      <th>features</th>\n      <th>f1_score</th>\n      <th>precision</th>\n      <th>recall</th>\n      <th>accuracy</th>\n    </tr>\n  </thead>\n  <tbody>\n    <tr>\n      <th>119</th>\n      <td>LSTM</td>\n      <td>feet</td>\n      <td>acc</td>\n      <td>stat</td>\n      <td>0.733250</td>\n      <td>0.727807</td>\n      <td>0.727807</td>\n      <td>0.727807</td>\n    </tr>\n    <tr>\n      <th>92</th>\n      <td>K-NearestNeighbors_DynamicTimeWrapping</td>\n      <td>feet</td>\n      <td>acc</td>\n      <td>stat</td>\n      <td>0.730679</td>\n      <td>0.876545</td>\n      <td>0.703023</td>\n      <td>0.703023</td>\n    </tr>\n    <tr>\n      <th>65</th>\n      <td>K-NearestNeighbors</td>\n      <td>feet</td>\n      <td>acc</td>\n      <td>stat</td>\n      <td>0.720458</td>\n      <td>0.863071</td>\n      <td>0.693548</td>\n      <td>0.693548</td>\n    </tr>\n    <tr>\n      <th>38</th>\n      <td>GaussianNaiveBayes</td>\n      <td>feet</td>\n      <td>acc</td>\n      <td>stat</td>\n      <td>0.704650</td>\n      <td>0.836247</td>\n      <td>0.636287</td>\n      <td>0.636287</td>\n    </tr>\n    <tr>\n      <th>173</th>\n      <td>SupportVectorsMachine</td>\n      <td>feet</td>\n      <td>acc</td>\n      <td>stat</td>\n      <td>0.702122</td>\n      <td>0.817325</td>\n      <td>0.649157</td>\n      <td>0.649157</td>\n    </tr>\n    <tr>\n      <th>11</th>\n      <td>DecisionTree</td>\n      <td>feet</td>\n      <td>acc</td>\n      <td>stat</td>\n      <td>0.686898</td>\n      <td>0.789387</td>\n      <td>0.694897</td>\n      <td>0.694897</td>\n    </tr>\n    <tr>\n      <th>146</th>\n      <td>RandomForest</td>\n      <td>feet</td>\n      <td>acc</td>\n      <td>stat</td>\n      <td>0.676017</td>\n      <td>0.654057</td>\n      <td>0.728250</td>\n      <td>0.728250</td>\n    </tr>\n  </tbody>\n</table>\n</div>"
     },
     "execution_count": 6,
     "metadata": {},
     "output_type": "execute_result"
    }
   ],
   "source": [
    "acc_feet_stat = results_df.loc[(results_df['sensor_type'] == 'acc') & \n",
    "                               (results_df['sensor_pos'] == 'feet') & \n",
    "                               (results_df['features'] == 'stat')]\n",
    "acc_feet_stat.sort_values(by=['f1_score'], ascending=False)"
   ]
  },
  {
   "cell_type": "markdown",
   "metadata": {},
   "source": [
    "### 5- acc and feet and freq"
   ]
  },
  {
   "cell_type": "code",
   "execution_count": 7,
   "metadata": {},
   "outputs": [
    {
     "data": {
      "text/plain": "                                 model_name sensor_pos sensor_type features  \\\n145                            RandomForest       feet         acc     freq   \n10                             DecisionTree       feet         acc     freq   \n118                                    LSTM       feet         acc     freq   \n64                       K-NearestNeighbors       feet         acc     freq   \n91   K-NearestNeighbors_DynamicTimeWrapping       feet         acc     freq   \n172                   SupportVectorsMachine       feet         acc     freq   \n37                       GaussianNaiveBayes       feet         acc     freq   \n\n     f1_score  precision    recall  accuracy  \n145  0.858171   0.924359  0.842209  0.842209  \n10   0.857721   0.926281  0.831107  0.831107  \n118  0.825190   0.824842  0.824842  0.824842  \n64   0.815282   0.900096  0.778539  0.778539  \n91   0.809813   0.901048  0.768642  0.768642  \n172  0.690845   0.824877  0.647046  0.647046  \n37   0.669489   0.897522  0.596516  0.596516  ",
      "text/html": "<div>\n<style scoped>\n    .dataframe tbody tr th:only-of-type {\n        vertical-align: middle;\n    }\n\n    .dataframe tbody tr th {\n        vertical-align: top;\n    }\n\n    .dataframe thead th {\n        text-align: right;\n    }\n</style>\n<table border=\"1\" class=\"dataframe\">\n  <thead>\n    <tr style=\"text-align: right;\">\n      <th></th>\n      <th>model_name</th>\n      <th>sensor_pos</th>\n      <th>sensor_type</th>\n      <th>features</th>\n      <th>f1_score</th>\n      <th>precision</th>\n      <th>recall</th>\n      <th>accuracy</th>\n    </tr>\n  </thead>\n  <tbody>\n    <tr>\n      <th>145</th>\n      <td>RandomForest</td>\n      <td>feet</td>\n      <td>acc</td>\n      <td>freq</td>\n      <td>0.858171</td>\n      <td>0.924359</td>\n      <td>0.842209</td>\n      <td>0.842209</td>\n    </tr>\n    <tr>\n      <th>10</th>\n      <td>DecisionTree</td>\n      <td>feet</td>\n      <td>acc</td>\n      <td>freq</td>\n      <td>0.857721</td>\n      <td>0.926281</td>\n      <td>0.831107</td>\n      <td>0.831107</td>\n    </tr>\n    <tr>\n      <th>118</th>\n      <td>LSTM</td>\n      <td>feet</td>\n      <td>acc</td>\n      <td>freq</td>\n      <td>0.825190</td>\n      <td>0.824842</td>\n      <td>0.824842</td>\n      <td>0.824842</td>\n    </tr>\n    <tr>\n      <th>64</th>\n      <td>K-NearestNeighbors</td>\n      <td>feet</td>\n      <td>acc</td>\n      <td>freq</td>\n      <td>0.815282</td>\n      <td>0.900096</td>\n      <td>0.778539</td>\n      <td>0.778539</td>\n    </tr>\n    <tr>\n      <th>91</th>\n      <td>K-NearestNeighbors_DynamicTimeWrapping</td>\n      <td>feet</td>\n      <td>acc</td>\n      <td>freq</td>\n      <td>0.809813</td>\n      <td>0.901048</td>\n      <td>0.768642</td>\n      <td>0.768642</td>\n    </tr>\n    <tr>\n      <th>172</th>\n      <td>SupportVectorsMachine</td>\n      <td>feet</td>\n      <td>acc</td>\n      <td>freq</td>\n      <td>0.690845</td>\n      <td>0.824877</td>\n      <td>0.647046</td>\n      <td>0.647046</td>\n    </tr>\n    <tr>\n      <th>37</th>\n      <td>GaussianNaiveBayes</td>\n      <td>feet</td>\n      <td>acc</td>\n      <td>freq</td>\n      <td>0.669489</td>\n      <td>0.897522</td>\n      <td>0.596516</td>\n      <td>0.596516</td>\n    </tr>\n  </tbody>\n</table>\n</div>"
     },
     "execution_count": 7,
     "metadata": {},
     "output_type": "execute_result"
    }
   ],
   "source": [
    "acc_shank_freq = results_df.loc[(results_df['sensor_type'] == 'acc') & \n",
    "                                (results_df['sensor_pos'] == 'feet') & \n",
    "                                (results_df['features'] == 'freq')]\n",
    "acc_shank_freq.sort_values(by=['f1_score'], ascending=False)"
   ]
  },
  {
   "cell_type": "markdown",
   "metadata": {},
   "source": [
    "### 6- acc and feet and all"
   ]
  },
  {
   "cell_type": "code",
   "execution_count": 8,
   "metadata": {},
   "outputs": [
    {
     "data": {
      "text/plain": "                                 model_name sensor_pos sensor_type features  \\\n9                              DecisionTree       feet         acc      all   \n144                            RandomForest       feet         acc      all   \n63                       K-NearestNeighbors       feet         acc      all   \n90   K-NearestNeighbors_DynamicTimeWrapping       feet         acc      all   \n117                                    LSTM       feet         acc      all   \n171                   SupportVectorsMachine       feet         acc      all   \n36                       GaussianNaiveBayes       feet         acc      all   \n\n     f1_score  precision    recall  accuracy  \n9    0.796054   0.896445  0.783719  0.783719  \n144  0.780991   0.808864  0.798514  0.798514  \n63   0.778517   0.889839  0.750154  0.750154  \n90   0.767993   0.887648  0.737521  0.737521  \n117  0.754226   0.753508  0.753508  0.753508  \n171  0.713302   0.820849  0.664008  0.664008  \n36   0.695701   0.859146  0.617624  0.617624  ",
      "text/html": "<div>\n<style scoped>\n    .dataframe tbody tr th:only-of-type {\n        vertical-align: middle;\n    }\n\n    .dataframe tbody tr th {\n        vertical-align: top;\n    }\n\n    .dataframe thead th {\n        text-align: right;\n    }\n</style>\n<table border=\"1\" class=\"dataframe\">\n  <thead>\n    <tr style=\"text-align: right;\">\n      <th></th>\n      <th>model_name</th>\n      <th>sensor_pos</th>\n      <th>sensor_type</th>\n      <th>features</th>\n      <th>f1_score</th>\n      <th>precision</th>\n      <th>recall</th>\n      <th>accuracy</th>\n    </tr>\n  </thead>\n  <tbody>\n    <tr>\n      <th>9</th>\n      <td>DecisionTree</td>\n      <td>feet</td>\n      <td>acc</td>\n      <td>all</td>\n      <td>0.796054</td>\n      <td>0.896445</td>\n      <td>0.783719</td>\n      <td>0.783719</td>\n    </tr>\n    <tr>\n      <th>144</th>\n      <td>RandomForest</td>\n      <td>feet</td>\n      <td>acc</td>\n      <td>all</td>\n      <td>0.780991</td>\n      <td>0.808864</td>\n      <td>0.798514</td>\n      <td>0.798514</td>\n    </tr>\n    <tr>\n      <th>63</th>\n      <td>K-NearestNeighbors</td>\n      <td>feet</td>\n      <td>acc</td>\n      <td>all</td>\n      <td>0.778517</td>\n      <td>0.889839</td>\n      <td>0.750154</td>\n      <td>0.750154</td>\n    </tr>\n    <tr>\n      <th>90</th>\n      <td>K-NearestNeighbors_DynamicTimeWrapping</td>\n      <td>feet</td>\n      <td>acc</td>\n      <td>all</td>\n      <td>0.767993</td>\n      <td>0.887648</td>\n      <td>0.737521</td>\n      <td>0.737521</td>\n    </tr>\n    <tr>\n      <th>117</th>\n      <td>LSTM</td>\n      <td>feet</td>\n      <td>acc</td>\n      <td>all</td>\n      <td>0.754226</td>\n      <td>0.753508</td>\n      <td>0.753508</td>\n      <td>0.753508</td>\n    </tr>\n    <tr>\n      <th>171</th>\n      <td>SupportVectorsMachine</td>\n      <td>feet</td>\n      <td>acc</td>\n      <td>all</td>\n      <td>0.713302</td>\n      <td>0.820849</td>\n      <td>0.664008</td>\n      <td>0.664008</td>\n    </tr>\n    <tr>\n      <th>36</th>\n      <td>GaussianNaiveBayes</td>\n      <td>feet</td>\n      <td>acc</td>\n      <td>all</td>\n      <td>0.695701</td>\n      <td>0.859146</td>\n      <td>0.617624</td>\n      <td>0.617624</td>\n    </tr>\n  </tbody>\n</table>\n</div>"
     },
     "execution_count": 8,
     "metadata": {},
     "output_type": "execute_result"
    }
   ],
   "source": [
    "acc_feet_all = results_df.loc[(results_df['sensor_type'] == 'acc') & \n",
    "                                (results_df['sensor_pos'] == 'feet') & \n",
    "                                (results_df['features'] == 'all')]\n",
    "acc_feet_all.sort_values(by=['f1_score'], ascending=False)"
   ]
  },
  {
   "cell_type": "markdown",
   "metadata": {},
   "source": [
    "### 7- acc and all and stat"
   ]
  },
  {
   "cell_type": "code",
   "execution_count": 9,
   "metadata": {},
   "outputs": [
    {
     "data": {
      "text/plain": "                                 model_name sensor_pos sensor_type features  \\\n83   K-NearestNeighbors_DynamicTimeWrapping        all         acc     stat   \n56                       K-NearestNeighbors        all         acc     stat   \n110                                    LSTM        all         acc     stat   \n2                              DecisionTree        all         acc     stat   \n164                   SupportVectorsMachine        all         acc     stat   \n137                            RandomForest        all         acc     stat   \n29                       GaussianNaiveBayes        all         acc     stat   \n\n     f1_score  precision    recall  accuracy  \n83   0.800260   0.895402  0.781641  0.781641  \n56   0.799419   0.892633  0.779977  0.779977  \n110  0.740853   0.735453  0.735453  0.735453  \n2    0.738387   0.892114  0.727088  0.727088  \n164  0.725235   0.816262  0.686907  0.686907  \n137  0.700499   0.777403  0.742112  0.742112  \n29   0.694423   0.831730  0.635874  0.635874  ",
      "text/html": "<div>\n<style scoped>\n    .dataframe tbody tr th:only-of-type {\n        vertical-align: middle;\n    }\n\n    .dataframe tbody tr th {\n        vertical-align: top;\n    }\n\n    .dataframe thead th {\n        text-align: right;\n    }\n</style>\n<table border=\"1\" class=\"dataframe\">\n  <thead>\n    <tr style=\"text-align: right;\">\n      <th></th>\n      <th>model_name</th>\n      <th>sensor_pos</th>\n      <th>sensor_type</th>\n      <th>features</th>\n      <th>f1_score</th>\n      <th>precision</th>\n      <th>recall</th>\n      <th>accuracy</th>\n    </tr>\n  </thead>\n  <tbody>\n    <tr>\n      <th>83</th>\n      <td>K-NearestNeighbors_DynamicTimeWrapping</td>\n      <td>all</td>\n      <td>acc</td>\n      <td>stat</td>\n      <td>0.800260</td>\n      <td>0.895402</td>\n      <td>0.781641</td>\n      <td>0.781641</td>\n    </tr>\n    <tr>\n      <th>56</th>\n      <td>K-NearestNeighbors</td>\n      <td>all</td>\n      <td>acc</td>\n      <td>stat</td>\n      <td>0.799419</td>\n      <td>0.892633</td>\n      <td>0.779977</td>\n      <td>0.779977</td>\n    </tr>\n    <tr>\n      <th>110</th>\n      <td>LSTM</td>\n      <td>all</td>\n      <td>acc</td>\n      <td>stat</td>\n      <td>0.740853</td>\n      <td>0.735453</td>\n      <td>0.735453</td>\n      <td>0.735453</td>\n    </tr>\n    <tr>\n      <th>2</th>\n      <td>DecisionTree</td>\n      <td>all</td>\n      <td>acc</td>\n      <td>stat</td>\n      <td>0.738387</td>\n      <td>0.892114</td>\n      <td>0.727088</td>\n      <td>0.727088</td>\n    </tr>\n    <tr>\n      <th>164</th>\n      <td>SupportVectorsMachine</td>\n      <td>all</td>\n      <td>acc</td>\n      <td>stat</td>\n      <td>0.725235</td>\n      <td>0.816262</td>\n      <td>0.686907</td>\n      <td>0.686907</td>\n    </tr>\n    <tr>\n      <th>137</th>\n      <td>RandomForest</td>\n      <td>all</td>\n      <td>acc</td>\n      <td>stat</td>\n      <td>0.700499</td>\n      <td>0.777403</td>\n      <td>0.742112</td>\n      <td>0.742112</td>\n    </tr>\n    <tr>\n      <th>29</th>\n      <td>GaussianNaiveBayes</td>\n      <td>all</td>\n      <td>acc</td>\n      <td>stat</td>\n      <td>0.694423</td>\n      <td>0.831730</td>\n      <td>0.635874</td>\n      <td>0.635874</td>\n    </tr>\n  </tbody>\n</table>\n</div>"
     },
     "execution_count": 9,
     "metadata": {},
     "output_type": "execute_result"
    }
   ],
   "source": [
    "acc_all_stat = results_df.loc[(results_df['sensor_type'] == 'acc') & \n",
    "                                (results_df['sensor_pos'] == 'all') & \n",
    "                                (results_df['features'] == 'stat')]\n",
    "acc_all_stat.sort_values(by=['f1_score'], ascending=False)"
   ]
  },
  {
   "cell_type": "markdown",
   "metadata": {},
   "source": [
    "### 8- acc and all and freq"
   ]
  },
  {
   "cell_type": "code",
   "execution_count": 10,
   "metadata": {},
   "outputs": [
    {
     "data": {
      "text/plain": "                                 model_name sensor_pos sensor_type features  \\\n136                            RandomForest        all         acc     freq   \n1                              DecisionTree        all         acc     freq   \n55                       K-NearestNeighbors        all         acc     freq   \n109                                    LSTM        all         acc     freq   \n82   K-NearestNeighbors_DynamicTimeWrapping        all         acc     freq   \n163                   SupportVectorsMachine        all         acc     freq   \n28                       GaussianNaiveBayes        all         acc     freq   \n\n     f1_score  precision    recall  accuracy  \n136  0.888522   0.936904  0.875471  0.875471  \n1    0.874033   0.925937  0.851423  0.851423  \n55   0.835084   0.905421  0.807236  0.807236  \n109  0.833775   0.833546  0.833546  0.833546  \n82   0.817341   0.898763  0.783403  0.783403  \n163  0.745471   0.863180  0.697470  0.697470  \n28   0.688931   0.891731  0.616777  0.616777  ",
      "text/html": "<div>\n<style scoped>\n    .dataframe tbody tr th:only-of-type {\n        vertical-align: middle;\n    }\n\n    .dataframe tbody tr th {\n        vertical-align: top;\n    }\n\n    .dataframe thead th {\n        text-align: right;\n    }\n</style>\n<table border=\"1\" class=\"dataframe\">\n  <thead>\n    <tr style=\"text-align: right;\">\n      <th></th>\n      <th>model_name</th>\n      <th>sensor_pos</th>\n      <th>sensor_type</th>\n      <th>features</th>\n      <th>f1_score</th>\n      <th>precision</th>\n      <th>recall</th>\n      <th>accuracy</th>\n    </tr>\n  </thead>\n  <tbody>\n    <tr>\n      <th>136</th>\n      <td>RandomForest</td>\n      <td>all</td>\n      <td>acc</td>\n      <td>freq</td>\n      <td>0.888522</td>\n      <td>0.936904</td>\n      <td>0.875471</td>\n      <td>0.875471</td>\n    </tr>\n    <tr>\n      <th>1</th>\n      <td>DecisionTree</td>\n      <td>all</td>\n      <td>acc</td>\n      <td>freq</td>\n      <td>0.874033</td>\n      <td>0.925937</td>\n      <td>0.851423</td>\n      <td>0.851423</td>\n    </tr>\n    <tr>\n      <th>55</th>\n      <td>K-NearestNeighbors</td>\n      <td>all</td>\n      <td>acc</td>\n      <td>freq</td>\n      <td>0.835084</td>\n      <td>0.905421</td>\n      <td>0.807236</td>\n      <td>0.807236</td>\n    </tr>\n    <tr>\n      <th>109</th>\n      <td>LSTM</td>\n      <td>all</td>\n      <td>acc</td>\n      <td>freq</td>\n      <td>0.833775</td>\n      <td>0.833546</td>\n      <td>0.833546</td>\n      <td>0.833546</td>\n    </tr>\n    <tr>\n      <th>82</th>\n      <td>K-NearestNeighbors_DynamicTimeWrapping</td>\n      <td>all</td>\n      <td>acc</td>\n      <td>freq</td>\n      <td>0.817341</td>\n      <td>0.898763</td>\n      <td>0.783403</td>\n      <td>0.783403</td>\n    </tr>\n    <tr>\n      <th>163</th>\n      <td>SupportVectorsMachine</td>\n      <td>all</td>\n      <td>acc</td>\n      <td>freq</td>\n      <td>0.745471</td>\n      <td>0.863180</td>\n      <td>0.697470</td>\n      <td>0.697470</td>\n    </tr>\n    <tr>\n      <th>28</th>\n      <td>GaussianNaiveBayes</td>\n      <td>all</td>\n      <td>acc</td>\n      <td>freq</td>\n      <td>0.688931</td>\n      <td>0.891731</td>\n      <td>0.616777</td>\n      <td>0.616777</td>\n    </tr>\n  </tbody>\n</table>\n</div>"
     },
     "execution_count": 10,
     "metadata": {},
     "output_type": "execute_result"
    }
   ],
   "source": [
    "acc_all_freq = results_df.loc[(results_df['sensor_type'] == 'acc') & \n",
    "                                (results_df['sensor_pos'] == 'all') & \n",
    "                                (results_df['features'] == 'freq')]\n",
    "acc_all_freq.sort_values(by=['f1_score'], ascending=False)"
   ]
  },
  {
   "cell_type": "markdown",
   "metadata": {},
   "source": [
    "### 9- acc and all and all"
   ]
  },
  {
   "cell_type": "code",
   "execution_count": 11,
   "metadata": {},
   "outputs": [
    {
     "data": {
      "text/plain": "                                 model_name sensor_pos sensor_type features  \\\n54                       K-NearestNeighbors        all         acc      all   \n81   K-NearestNeighbors_DynamicTimeWrapping        all         acc      all   \n0                              DecisionTree        all         acc      all   \n135                            RandomForest        all         acc      all   \n108                                    LSTM        all         acc      all   \n162                   SupportVectorsMachine        all         acc      all   \n27                       GaussianNaiveBayes        all         acc      all   \n\n     f1_score  precision    recall  accuracy  \n54   0.835666   0.902918  0.813712  0.813712  \n81   0.831592   0.903988  0.809082  0.809082  \n0    0.824437   0.903810  0.800808  0.800808  \n135  0.808485   0.931757  0.820237  0.820237  \n108  0.734942   0.729508  0.729508  0.729508  \n162  0.718624   0.820501  0.687418  0.687418  \n27   0.709711   0.849870  0.638094  0.638094  ",
      "text/html": "<div>\n<style scoped>\n    .dataframe tbody tr th:only-of-type {\n        vertical-align: middle;\n    }\n\n    .dataframe tbody tr th {\n        vertical-align: top;\n    }\n\n    .dataframe thead th {\n        text-align: right;\n    }\n</style>\n<table border=\"1\" class=\"dataframe\">\n  <thead>\n    <tr style=\"text-align: right;\">\n      <th></th>\n      <th>model_name</th>\n      <th>sensor_pos</th>\n      <th>sensor_type</th>\n      <th>features</th>\n      <th>f1_score</th>\n      <th>precision</th>\n      <th>recall</th>\n      <th>accuracy</th>\n    </tr>\n  </thead>\n  <tbody>\n    <tr>\n      <th>54</th>\n      <td>K-NearestNeighbors</td>\n      <td>all</td>\n      <td>acc</td>\n      <td>all</td>\n      <td>0.835666</td>\n      <td>0.902918</td>\n      <td>0.813712</td>\n      <td>0.813712</td>\n    </tr>\n    <tr>\n      <th>81</th>\n      <td>K-NearestNeighbors_DynamicTimeWrapping</td>\n      <td>all</td>\n      <td>acc</td>\n      <td>all</td>\n      <td>0.831592</td>\n      <td>0.903988</td>\n      <td>0.809082</td>\n      <td>0.809082</td>\n    </tr>\n    <tr>\n      <th>0</th>\n      <td>DecisionTree</td>\n      <td>all</td>\n      <td>acc</td>\n      <td>all</td>\n      <td>0.824437</td>\n      <td>0.903810</td>\n      <td>0.800808</td>\n      <td>0.800808</td>\n    </tr>\n    <tr>\n      <th>135</th>\n      <td>RandomForest</td>\n      <td>all</td>\n      <td>acc</td>\n      <td>all</td>\n      <td>0.808485</td>\n      <td>0.931757</td>\n      <td>0.820237</td>\n      <td>0.820237</td>\n    </tr>\n    <tr>\n      <th>108</th>\n      <td>LSTM</td>\n      <td>all</td>\n      <td>acc</td>\n      <td>all</td>\n      <td>0.734942</td>\n      <td>0.729508</td>\n      <td>0.729508</td>\n      <td>0.729508</td>\n    </tr>\n    <tr>\n      <th>162</th>\n      <td>SupportVectorsMachine</td>\n      <td>all</td>\n      <td>acc</td>\n      <td>all</td>\n      <td>0.718624</td>\n      <td>0.820501</td>\n      <td>0.687418</td>\n      <td>0.687418</td>\n    </tr>\n    <tr>\n      <th>27</th>\n      <td>GaussianNaiveBayes</td>\n      <td>all</td>\n      <td>acc</td>\n      <td>all</td>\n      <td>0.709711</td>\n      <td>0.849870</td>\n      <td>0.638094</td>\n      <td>0.638094</td>\n    </tr>\n  </tbody>\n</table>\n</div>"
     },
     "execution_count": 11,
     "metadata": {},
     "output_type": "execute_result"
    }
   ],
   "source": [
    "acc_all_all = results_df.loc[(results_df['sensor_type'] == 'acc') & \n",
    "                                (results_df['sensor_pos'] == 'all') & \n",
    "                                (results_df['features'] == 'all')]\n",
    "acc_all_all.sort_values(by=['f1_score'], ascending=False)"
   ]
  },
  {
   "cell_type": "markdown",
   "metadata": {},
   "source": [
    "### 10- gyro and shank and stat"
   ]
  },
  {
   "cell_type": "code",
   "execution_count": 12,
   "metadata": {},
   "outputs": [
    {
     "data": {
      "text/plain": "                                 model_name sensor_pos sensor_type features  \\\n161                            RandomForest      shank        gyro     stat   \n80                       K-NearestNeighbors      shank        gyro     stat   \n107  K-NearestNeighbors_DynamicTimeWrapping      shank        gyro     stat   \n26                             DecisionTree      shank        gyro     stat   \n53                       GaussianNaiveBayes      shank        gyro     stat   \n188                   SupportVectorsMachine      shank        gyro     stat   \n134                                    LSTM      shank        gyro     stat   \n\n     f1_score  precision    recall  accuracy  \n161  0.810097   0.878622  0.812125  0.812125  \n80   0.788720   0.866731  0.752992  0.752992  \n107  0.785077   0.866898  0.746421  0.746421  \n26   0.771323   0.858231  0.731812  0.731812  \n53   0.769928   0.850706  0.724049  0.724049  \n188  0.750602   0.819290  0.726403  0.726403  \n134  0.591626   0.595542  0.595542  0.595542  ",
      "text/html": "<div>\n<style scoped>\n    .dataframe tbody tr th:only-of-type {\n        vertical-align: middle;\n    }\n\n    .dataframe tbody tr th {\n        vertical-align: top;\n    }\n\n    .dataframe thead th {\n        text-align: right;\n    }\n</style>\n<table border=\"1\" class=\"dataframe\">\n  <thead>\n    <tr style=\"text-align: right;\">\n      <th></th>\n      <th>model_name</th>\n      <th>sensor_pos</th>\n      <th>sensor_type</th>\n      <th>features</th>\n      <th>f1_score</th>\n      <th>precision</th>\n      <th>recall</th>\n      <th>accuracy</th>\n    </tr>\n  </thead>\n  <tbody>\n    <tr>\n      <th>161</th>\n      <td>RandomForest</td>\n      <td>shank</td>\n      <td>gyro</td>\n      <td>stat</td>\n      <td>0.810097</td>\n      <td>0.878622</td>\n      <td>0.812125</td>\n      <td>0.812125</td>\n    </tr>\n    <tr>\n      <th>80</th>\n      <td>K-NearestNeighbors</td>\n      <td>shank</td>\n      <td>gyro</td>\n      <td>stat</td>\n      <td>0.788720</td>\n      <td>0.866731</td>\n      <td>0.752992</td>\n      <td>0.752992</td>\n    </tr>\n    <tr>\n      <th>107</th>\n      <td>K-NearestNeighbors_DynamicTimeWrapping</td>\n      <td>shank</td>\n      <td>gyro</td>\n      <td>stat</td>\n      <td>0.785077</td>\n      <td>0.866898</td>\n      <td>0.746421</td>\n      <td>0.746421</td>\n    </tr>\n    <tr>\n      <th>26</th>\n      <td>DecisionTree</td>\n      <td>shank</td>\n      <td>gyro</td>\n      <td>stat</td>\n      <td>0.771323</td>\n      <td>0.858231</td>\n      <td>0.731812</td>\n      <td>0.731812</td>\n    </tr>\n    <tr>\n      <th>53</th>\n      <td>GaussianNaiveBayes</td>\n      <td>shank</td>\n      <td>gyro</td>\n      <td>stat</td>\n      <td>0.769928</td>\n      <td>0.850706</td>\n      <td>0.724049</td>\n      <td>0.724049</td>\n    </tr>\n    <tr>\n      <th>188</th>\n      <td>SupportVectorsMachine</td>\n      <td>shank</td>\n      <td>gyro</td>\n      <td>stat</td>\n      <td>0.750602</td>\n      <td>0.819290</td>\n      <td>0.726403</td>\n      <td>0.726403</td>\n    </tr>\n    <tr>\n      <th>134</th>\n      <td>LSTM</td>\n      <td>shank</td>\n      <td>gyro</td>\n      <td>stat</td>\n      <td>0.591626</td>\n      <td>0.595542</td>\n      <td>0.595542</td>\n      <td>0.595542</td>\n    </tr>\n  </tbody>\n</table>\n</div>"
     },
     "execution_count": 12,
     "metadata": {},
     "output_type": "execute_result"
    }
   ],
   "source": [
    "gyro_shank_stat = results_df.loc[(results_df['sensor_type'] == 'gyro') & \n",
    "                                (results_df['sensor_pos'] == 'shank') & \n",
    "                                (results_df['features'] == 'stat')]\n",
    "gyro_shank_stat.sort_values(by=['f1_score'], ascending=False)"
   ]
  },
  {
   "cell_type": "markdown",
   "metadata": {},
   "source": [
    "### 11- gyro and shank and freq"
   ]
  },
  {
   "cell_type": "code",
   "execution_count": 13,
   "metadata": {},
   "outputs": [
    {
     "data": {
      "text/plain": "                                 model_name sensor_pos sensor_type features  \\\n160                            RandomForest      shank        gyro     freq   \n25                             DecisionTree      shank        gyro     freq   \n133                                    LSTM      shank        gyro     freq   \n79                       K-NearestNeighbors      shank        gyro     freq   \n106  K-NearestNeighbors_DynamicTimeWrapping      shank        gyro     freq   \n187                   SupportVectorsMachine      shank        gyro     freq   \n52                       GaussianNaiveBayes      shank        gyro     freq   \n\n     f1_score  precision    recall  accuracy  \n160  0.908682   0.937864  0.896012  0.896012  \n25   0.899764   0.933456  0.878707  0.878707  \n133  0.851151   0.852884  0.852884  0.852884  \n79   0.844731   0.903001  0.814846  0.814846  \n106  0.834128   0.895592  0.801317  0.801317  \n187  0.752215   0.823240  0.725883  0.725883  \n52   0.739998   0.870017  0.674161  0.674161  ",
      "text/html": "<div>\n<style scoped>\n    .dataframe tbody tr th:only-of-type {\n        vertical-align: middle;\n    }\n\n    .dataframe tbody tr th {\n        vertical-align: top;\n    }\n\n    .dataframe thead th {\n        text-align: right;\n    }\n</style>\n<table border=\"1\" class=\"dataframe\">\n  <thead>\n    <tr style=\"text-align: right;\">\n      <th></th>\n      <th>model_name</th>\n      <th>sensor_pos</th>\n      <th>sensor_type</th>\n      <th>features</th>\n      <th>f1_score</th>\n      <th>precision</th>\n      <th>recall</th>\n      <th>accuracy</th>\n    </tr>\n  </thead>\n  <tbody>\n    <tr>\n      <th>160</th>\n      <td>RandomForest</td>\n      <td>shank</td>\n      <td>gyro</td>\n      <td>freq</td>\n      <td>0.908682</td>\n      <td>0.937864</td>\n      <td>0.896012</td>\n      <td>0.896012</td>\n    </tr>\n    <tr>\n      <th>25</th>\n      <td>DecisionTree</td>\n      <td>shank</td>\n      <td>gyro</td>\n      <td>freq</td>\n      <td>0.899764</td>\n      <td>0.933456</td>\n      <td>0.878707</td>\n      <td>0.878707</td>\n    </tr>\n    <tr>\n      <th>133</th>\n      <td>LSTM</td>\n      <td>shank</td>\n      <td>gyro</td>\n      <td>freq</td>\n      <td>0.851151</td>\n      <td>0.852884</td>\n      <td>0.852884</td>\n      <td>0.852884</td>\n    </tr>\n    <tr>\n      <th>79</th>\n      <td>K-NearestNeighbors</td>\n      <td>shank</td>\n      <td>gyro</td>\n      <td>freq</td>\n      <td>0.844731</td>\n      <td>0.903001</td>\n      <td>0.814846</td>\n      <td>0.814846</td>\n    </tr>\n    <tr>\n      <th>106</th>\n      <td>K-NearestNeighbors_DynamicTimeWrapping</td>\n      <td>shank</td>\n      <td>gyro</td>\n      <td>freq</td>\n      <td>0.834128</td>\n      <td>0.895592</td>\n      <td>0.801317</td>\n      <td>0.801317</td>\n    </tr>\n    <tr>\n      <th>187</th>\n      <td>SupportVectorsMachine</td>\n      <td>shank</td>\n      <td>gyro</td>\n      <td>freq</td>\n      <td>0.752215</td>\n      <td>0.823240</td>\n      <td>0.725883</td>\n      <td>0.725883</td>\n    </tr>\n    <tr>\n      <th>52</th>\n      <td>GaussianNaiveBayes</td>\n      <td>shank</td>\n      <td>gyro</td>\n      <td>freq</td>\n      <td>0.739998</td>\n      <td>0.870017</td>\n      <td>0.674161</td>\n      <td>0.674161</td>\n    </tr>\n  </tbody>\n</table>\n</div>"
     },
     "execution_count": 13,
     "metadata": {},
     "output_type": "execute_result"
    }
   ],
   "source": [
    "gyro_shank_freq = results_df.loc[(results_df['sensor_type'] == 'gyro') & \n",
    "                                (results_df['sensor_pos'] == 'shank') & \n",
    "                                (results_df['features'] == 'freq')]\n",
    "gyro_shank_freq.sort_values(by=['f1_score'], ascending=False)"
   ]
  },
  {
   "cell_type": "markdown",
   "metadata": {},
   "source": [
    "### 12- gyro and shank and all"
   ]
  },
  {
   "cell_type": "code",
   "execution_count": 14,
   "metadata": {},
   "outputs": [
    {
     "data": {
      "text/plain": "                                 model_name sensor_pos sensor_type features  \\\n159                            RandomForest      shank        gyro      all   \n24                             DecisionTree      shank        gyro      all   \n78                       K-NearestNeighbors      shank        gyro      all   \n105  K-NearestNeighbors_DynamicTimeWrapping      shank        gyro      all   \n132                                    LSTM      shank        gyro      all   \n51                       GaussianNaiveBayes      shank        gyro      all   \n186                   SupportVectorsMachine      shank        gyro      all   \n\n     f1_score  precision    recall  accuracy  \n159  0.912248   0.937895  0.904108  0.904108  \n24   0.884089   0.923944  0.861444  0.861444  \n78   0.846582   0.901098  0.815697  0.815697  \n105  0.830769   0.887125  0.799356  0.799356  \n132  0.823949   0.821208  0.821208  0.821208  \n51   0.763155   0.858581  0.709614  0.709614  \n186  0.751632   0.820847  0.727809  0.727809  ",
      "text/html": "<div>\n<style scoped>\n    .dataframe tbody tr th:only-of-type {\n        vertical-align: middle;\n    }\n\n    .dataframe tbody tr th {\n        vertical-align: top;\n    }\n\n    .dataframe thead th {\n        text-align: right;\n    }\n</style>\n<table border=\"1\" class=\"dataframe\">\n  <thead>\n    <tr style=\"text-align: right;\">\n      <th></th>\n      <th>model_name</th>\n      <th>sensor_pos</th>\n      <th>sensor_type</th>\n      <th>features</th>\n      <th>f1_score</th>\n      <th>precision</th>\n      <th>recall</th>\n      <th>accuracy</th>\n    </tr>\n  </thead>\n  <tbody>\n    <tr>\n      <th>159</th>\n      <td>RandomForest</td>\n      <td>shank</td>\n      <td>gyro</td>\n      <td>all</td>\n      <td>0.912248</td>\n      <td>0.937895</td>\n      <td>0.904108</td>\n      <td>0.904108</td>\n    </tr>\n    <tr>\n      <th>24</th>\n      <td>DecisionTree</td>\n      <td>shank</td>\n      <td>gyro</td>\n      <td>all</td>\n      <td>0.884089</td>\n      <td>0.923944</td>\n      <td>0.861444</td>\n      <td>0.861444</td>\n    </tr>\n    <tr>\n      <th>78</th>\n      <td>K-NearestNeighbors</td>\n      <td>shank</td>\n      <td>gyro</td>\n      <td>all</td>\n      <td>0.846582</td>\n      <td>0.901098</td>\n      <td>0.815697</td>\n      <td>0.815697</td>\n    </tr>\n    <tr>\n      <th>105</th>\n      <td>K-NearestNeighbors_DynamicTimeWrapping</td>\n      <td>shank</td>\n      <td>gyro</td>\n      <td>all</td>\n      <td>0.830769</td>\n      <td>0.887125</td>\n      <td>0.799356</td>\n      <td>0.799356</td>\n    </tr>\n    <tr>\n      <th>132</th>\n      <td>LSTM</td>\n      <td>shank</td>\n      <td>gyro</td>\n      <td>all</td>\n      <td>0.823949</td>\n      <td>0.821208</td>\n      <td>0.821208</td>\n      <td>0.821208</td>\n    </tr>\n    <tr>\n      <th>51</th>\n      <td>GaussianNaiveBayes</td>\n      <td>shank</td>\n      <td>gyro</td>\n      <td>all</td>\n      <td>0.763155</td>\n      <td>0.858581</td>\n      <td>0.709614</td>\n      <td>0.709614</td>\n    </tr>\n    <tr>\n      <th>186</th>\n      <td>SupportVectorsMachine</td>\n      <td>shank</td>\n      <td>gyro</td>\n      <td>all</td>\n      <td>0.751632</td>\n      <td>0.820847</td>\n      <td>0.727809</td>\n      <td>0.727809</td>\n    </tr>\n  </tbody>\n</table>\n</div>"
     },
     "execution_count": 14,
     "metadata": {},
     "output_type": "execute_result"
    }
   ],
   "source": [
    "gyro_shank_all = results_df.loc[(results_df['sensor_type'] == 'gyro') & \n",
    "                                (results_df['sensor_pos'] == 'shank') & \n",
    "                                (results_df['features'] == 'all')]\n",
    "gyro_shank_all.sort_values(by=['f1_score'], ascending=False)"
   ]
  },
  {
   "cell_type": "markdown",
   "metadata": {},
   "source": [
    "### 13- gyro and feet and stat"
   ]
  },
  {
   "cell_type": "code",
   "execution_count": 15,
   "metadata": {},
   "outputs": [
    {
     "data": {
      "text/plain": "                                 model_name sensor_pos sensor_type features  \\\n44                       GaussianNaiveBayes       feet        gyro     stat   \n17                             DecisionTree       feet        gyro     stat   \n179                   SupportVectorsMachine       feet        gyro     stat   \n152                            RandomForest       feet        gyro     stat   \n98   K-NearestNeighbors_DynamicTimeWrapping       feet        gyro     stat   \n71                       K-NearestNeighbors       feet        gyro     stat   \n125                                    LSTM       feet        gyro     stat   \n\n     f1_score  precision    recall  accuracy  \n44   0.768285   0.849333  0.721383  0.721383  \n17   0.751132   0.858884  0.719284  0.719284  \n179  0.748364   0.819345  0.727401  0.727401  \n152  0.744734   0.845347  0.756075  0.756075  \n98   0.744112   0.852381  0.699726  0.699726  \n71   0.739106   0.854729  0.700302  0.700302  \n125  0.670536   0.666653  0.666653  0.666653  ",
      "text/html": "<div>\n<style scoped>\n    .dataframe tbody tr th:only-of-type {\n        vertical-align: middle;\n    }\n\n    .dataframe tbody tr th {\n        vertical-align: top;\n    }\n\n    .dataframe thead th {\n        text-align: right;\n    }\n</style>\n<table border=\"1\" class=\"dataframe\">\n  <thead>\n    <tr style=\"text-align: right;\">\n      <th></th>\n      <th>model_name</th>\n      <th>sensor_pos</th>\n      <th>sensor_type</th>\n      <th>features</th>\n      <th>f1_score</th>\n      <th>precision</th>\n      <th>recall</th>\n      <th>accuracy</th>\n    </tr>\n  </thead>\n  <tbody>\n    <tr>\n      <th>44</th>\n      <td>GaussianNaiveBayes</td>\n      <td>feet</td>\n      <td>gyro</td>\n      <td>stat</td>\n      <td>0.768285</td>\n      <td>0.849333</td>\n      <td>0.721383</td>\n      <td>0.721383</td>\n    </tr>\n    <tr>\n      <th>17</th>\n      <td>DecisionTree</td>\n      <td>feet</td>\n      <td>gyro</td>\n      <td>stat</td>\n      <td>0.751132</td>\n      <td>0.858884</td>\n      <td>0.719284</td>\n      <td>0.719284</td>\n    </tr>\n    <tr>\n      <th>179</th>\n      <td>SupportVectorsMachine</td>\n      <td>feet</td>\n      <td>gyro</td>\n      <td>stat</td>\n      <td>0.748364</td>\n      <td>0.819345</td>\n      <td>0.727401</td>\n      <td>0.727401</td>\n    </tr>\n    <tr>\n      <th>152</th>\n      <td>RandomForest</td>\n      <td>feet</td>\n      <td>gyro</td>\n      <td>stat</td>\n      <td>0.744734</td>\n      <td>0.845347</td>\n      <td>0.756075</td>\n      <td>0.756075</td>\n    </tr>\n    <tr>\n      <th>98</th>\n      <td>K-NearestNeighbors_DynamicTimeWrapping</td>\n      <td>feet</td>\n      <td>gyro</td>\n      <td>stat</td>\n      <td>0.744112</td>\n      <td>0.852381</td>\n      <td>0.699726</td>\n      <td>0.699726</td>\n    </tr>\n    <tr>\n      <th>71</th>\n      <td>K-NearestNeighbors</td>\n      <td>feet</td>\n      <td>gyro</td>\n      <td>stat</td>\n      <td>0.739106</td>\n      <td>0.854729</td>\n      <td>0.700302</td>\n      <td>0.700302</td>\n    </tr>\n    <tr>\n      <th>125</th>\n      <td>LSTM</td>\n      <td>feet</td>\n      <td>gyro</td>\n      <td>stat</td>\n      <td>0.670536</td>\n      <td>0.666653</td>\n      <td>0.666653</td>\n      <td>0.666653</td>\n    </tr>\n  </tbody>\n</table>\n</div>"
     },
     "execution_count": 15,
     "metadata": {},
     "output_type": "execute_result"
    }
   ],
   "source": [
    "gyro_feet_stat = results_df.loc[(results_df['sensor_type'] == 'gyro') & \n",
    "                                (results_df['sensor_pos'] == 'feet') & \n",
    "                                (results_df['features'] == 'stat')]\n",
    "gyro_feet_stat.sort_values(by=['f1_score'], ascending=False)"
   ]
  },
  {
   "cell_type": "markdown",
   "metadata": {},
   "source": [
    "### 14- gyro and feet and freq"
   ]
  },
  {
   "cell_type": "code",
   "execution_count": 16,
   "metadata": {},
   "outputs": [
    {
     "data": {
      "text/plain": "                                 model_name sensor_pos sensor_type features  \\\n151                            RandomForest       feet        gyro     freq   \n16                             DecisionTree       feet        gyro     freq   \n70                       K-NearestNeighbors       feet        gyro     freq   \n97   K-NearestNeighbors_DynamicTimeWrapping       feet        gyro     freq   \n124                                    LSTM       feet        gyro     freq   \n43                       GaussianNaiveBayes       feet        gyro     freq   \n178                   SupportVectorsMachine       feet        gyro     freq   \n\n     f1_score  precision    recall  accuracy  \n151  0.879044   0.924272  0.865683  0.865683  \n16   0.869272   0.914596  0.845246  0.845246  \n70   0.821846   0.895861  0.790878  0.790878  \n97   0.819907   0.889206  0.784955  0.784955  \n124  0.807356   0.807087  0.807087  0.807087  \n43   0.753475   0.884435  0.687226  0.687226  \n178  0.747376   0.825455  0.724487  0.724487  ",
      "text/html": "<div>\n<style scoped>\n    .dataframe tbody tr th:only-of-type {\n        vertical-align: middle;\n    }\n\n    .dataframe tbody tr th {\n        vertical-align: top;\n    }\n\n    .dataframe thead th {\n        text-align: right;\n    }\n</style>\n<table border=\"1\" class=\"dataframe\">\n  <thead>\n    <tr style=\"text-align: right;\">\n      <th></th>\n      <th>model_name</th>\n      <th>sensor_pos</th>\n      <th>sensor_type</th>\n      <th>features</th>\n      <th>f1_score</th>\n      <th>precision</th>\n      <th>recall</th>\n      <th>accuracy</th>\n    </tr>\n  </thead>\n  <tbody>\n    <tr>\n      <th>151</th>\n      <td>RandomForest</td>\n      <td>feet</td>\n      <td>gyro</td>\n      <td>freq</td>\n      <td>0.879044</td>\n      <td>0.924272</td>\n      <td>0.865683</td>\n      <td>0.865683</td>\n    </tr>\n    <tr>\n      <th>16</th>\n      <td>DecisionTree</td>\n      <td>feet</td>\n      <td>gyro</td>\n      <td>freq</td>\n      <td>0.869272</td>\n      <td>0.914596</td>\n      <td>0.845246</td>\n      <td>0.845246</td>\n    </tr>\n    <tr>\n      <th>70</th>\n      <td>K-NearestNeighbors</td>\n      <td>feet</td>\n      <td>gyro</td>\n      <td>freq</td>\n      <td>0.821846</td>\n      <td>0.895861</td>\n      <td>0.790878</td>\n      <td>0.790878</td>\n    </tr>\n    <tr>\n      <th>97</th>\n      <td>K-NearestNeighbors_DynamicTimeWrapping</td>\n      <td>feet</td>\n      <td>gyro</td>\n      <td>freq</td>\n      <td>0.819907</td>\n      <td>0.889206</td>\n      <td>0.784955</td>\n      <td>0.784955</td>\n    </tr>\n    <tr>\n      <th>124</th>\n      <td>LSTM</td>\n      <td>feet</td>\n      <td>gyro</td>\n      <td>freq</td>\n      <td>0.807356</td>\n      <td>0.807087</td>\n      <td>0.807087</td>\n      <td>0.807087</td>\n    </tr>\n    <tr>\n      <th>43</th>\n      <td>GaussianNaiveBayes</td>\n      <td>feet</td>\n      <td>gyro</td>\n      <td>freq</td>\n      <td>0.753475</td>\n      <td>0.884435</td>\n      <td>0.687226</td>\n      <td>0.687226</td>\n    </tr>\n    <tr>\n      <th>178</th>\n      <td>SupportVectorsMachine</td>\n      <td>feet</td>\n      <td>gyro</td>\n      <td>freq</td>\n      <td>0.747376</td>\n      <td>0.825455</td>\n      <td>0.724487</td>\n      <td>0.724487</td>\n    </tr>\n  </tbody>\n</table>\n</div>"
     },
     "execution_count": 16,
     "metadata": {},
     "output_type": "execute_result"
    }
   ],
   "source": [
    "gyro_feet_freq = results_df.loc[(results_df['sensor_type'] == 'gyro') & \n",
    "                                (results_df['sensor_pos'] == 'feet') & \n",
    "                                (results_df['features'] == 'freq')]\n",
    "gyro_feet_freq.sort_values(by=['f1_score'], ascending=False)"
   ]
  },
  {
   "cell_type": "markdown",
   "metadata": {},
   "source": [
    "### 15- gyro and feet and all"
   ]
  },
  {
   "cell_type": "code",
   "execution_count": 17,
   "metadata": {},
   "outputs": [
    {
     "data": {
      "text/plain": "                                 model_name sensor_pos sensor_type features  \\\n150                            RandomForest       feet        gyro      all   \n15                             DecisionTree       feet        gyro      all   \n69                       K-NearestNeighbors       feet        gyro      all   \n96   K-NearestNeighbors_DynamicTimeWrapping       feet        gyro      all   \n123                                    LSTM       feet        gyro      all   \n42                       GaussianNaiveBayes       feet        gyro      all   \n177                   SupportVectorsMachine       feet        gyro      all   \n\n     f1_score  precision    recall  accuracy  \n150  0.857040   0.910766  0.846477  0.846477  \n15   0.841199   0.896943  0.815447  0.815447  \n69   0.812608   0.893059  0.778779  0.778779  \n96   0.808507   0.889138  0.770352  0.770352  \n123  0.777841   0.774006  0.774006  0.774006  \n42   0.766309   0.867264  0.708850  0.708850  \n177  0.750222   0.823659  0.729595  0.729595  ",
      "text/html": "<div>\n<style scoped>\n    .dataframe tbody tr th:only-of-type {\n        vertical-align: middle;\n    }\n\n    .dataframe tbody tr th {\n        vertical-align: top;\n    }\n\n    .dataframe thead th {\n        text-align: right;\n    }\n</style>\n<table border=\"1\" class=\"dataframe\">\n  <thead>\n    <tr style=\"text-align: right;\">\n      <th></th>\n      <th>model_name</th>\n      <th>sensor_pos</th>\n      <th>sensor_type</th>\n      <th>features</th>\n      <th>f1_score</th>\n      <th>precision</th>\n      <th>recall</th>\n      <th>accuracy</th>\n    </tr>\n  </thead>\n  <tbody>\n    <tr>\n      <th>150</th>\n      <td>RandomForest</td>\n      <td>feet</td>\n      <td>gyro</td>\n      <td>all</td>\n      <td>0.857040</td>\n      <td>0.910766</td>\n      <td>0.846477</td>\n      <td>0.846477</td>\n    </tr>\n    <tr>\n      <th>15</th>\n      <td>DecisionTree</td>\n      <td>feet</td>\n      <td>gyro</td>\n      <td>all</td>\n      <td>0.841199</td>\n      <td>0.896943</td>\n      <td>0.815447</td>\n      <td>0.815447</td>\n    </tr>\n    <tr>\n      <th>69</th>\n      <td>K-NearestNeighbors</td>\n      <td>feet</td>\n      <td>gyro</td>\n      <td>all</td>\n      <td>0.812608</td>\n      <td>0.893059</td>\n      <td>0.778779</td>\n      <td>0.778779</td>\n    </tr>\n    <tr>\n      <th>96</th>\n      <td>K-NearestNeighbors_DynamicTimeWrapping</td>\n      <td>feet</td>\n      <td>gyro</td>\n      <td>all</td>\n      <td>0.808507</td>\n      <td>0.889138</td>\n      <td>0.770352</td>\n      <td>0.770352</td>\n    </tr>\n    <tr>\n      <th>123</th>\n      <td>LSTM</td>\n      <td>feet</td>\n      <td>gyro</td>\n      <td>all</td>\n      <td>0.777841</td>\n      <td>0.774006</td>\n      <td>0.774006</td>\n      <td>0.774006</td>\n    </tr>\n    <tr>\n      <th>42</th>\n      <td>GaussianNaiveBayes</td>\n      <td>feet</td>\n      <td>gyro</td>\n      <td>all</td>\n      <td>0.766309</td>\n      <td>0.867264</td>\n      <td>0.708850</td>\n      <td>0.708850</td>\n    </tr>\n    <tr>\n      <th>177</th>\n      <td>SupportVectorsMachine</td>\n      <td>feet</td>\n      <td>gyro</td>\n      <td>all</td>\n      <td>0.750222</td>\n      <td>0.823659</td>\n      <td>0.729595</td>\n      <td>0.729595</td>\n    </tr>\n  </tbody>\n</table>\n</div>"
     },
     "execution_count": 17,
     "metadata": {},
     "output_type": "execute_result"
    }
   ],
   "source": [
    "gyro_feet_all = results_df.loc[(results_df['sensor_type'] == 'gyro') & \n",
    "                                (results_df['sensor_pos'] == 'feet') & \n",
    "                                (results_df['features'] == 'all')]\n",
    "gyro_feet_all.sort_values(by=['f1_score'], ascending=False)"
   ]
  },
  {
   "cell_type": "markdown",
   "metadata": {},
   "source": [
    "### 16- gyro and all and stat"
   ]
  },
  {
   "cell_type": "code",
   "execution_count": 18,
   "metadata": {},
   "outputs": [
    {
     "data": {
      "text/plain": "                                 model_name sensor_pos sensor_type features  \\\n62                       K-NearestNeighbors        all        gyro     stat   \n89   K-NearestNeighbors_DynamicTimeWrapping        all        gyro     stat   \n143                            RandomForest        all        gyro     stat   \n35                       GaussianNaiveBayes        all        gyro     stat   \n170                   SupportVectorsMachine        all        gyro     stat   \n8                              DecisionTree        all        gyro     stat   \n116                                    LSTM        all        gyro     stat   \n\n     f1_score  precision    recall  accuracy  \n62   0.791666   0.871848  0.762129  0.762129  \n89   0.780254   0.868203  0.744276  0.744276  \n143  0.778144   0.854466  0.786563  0.786563  \n35   0.772210   0.848640  0.726982  0.726982  \n170  0.751636   0.820497  0.729869  0.729869  \n8    0.744203   0.861659  0.714751  0.714751  \n116  0.703298   0.703516  0.703516  0.703516  ",
      "text/html": "<div>\n<style scoped>\n    .dataframe tbody tr th:only-of-type {\n        vertical-align: middle;\n    }\n\n    .dataframe tbody tr th {\n        vertical-align: top;\n    }\n\n    .dataframe thead th {\n        text-align: right;\n    }\n</style>\n<table border=\"1\" class=\"dataframe\">\n  <thead>\n    <tr style=\"text-align: right;\">\n      <th></th>\n      <th>model_name</th>\n      <th>sensor_pos</th>\n      <th>sensor_type</th>\n      <th>features</th>\n      <th>f1_score</th>\n      <th>precision</th>\n      <th>recall</th>\n      <th>accuracy</th>\n    </tr>\n  </thead>\n  <tbody>\n    <tr>\n      <th>62</th>\n      <td>K-NearestNeighbors</td>\n      <td>all</td>\n      <td>gyro</td>\n      <td>stat</td>\n      <td>0.791666</td>\n      <td>0.871848</td>\n      <td>0.762129</td>\n      <td>0.762129</td>\n    </tr>\n    <tr>\n      <th>89</th>\n      <td>K-NearestNeighbors_DynamicTimeWrapping</td>\n      <td>all</td>\n      <td>gyro</td>\n      <td>stat</td>\n      <td>0.780254</td>\n      <td>0.868203</td>\n      <td>0.744276</td>\n      <td>0.744276</td>\n    </tr>\n    <tr>\n      <th>143</th>\n      <td>RandomForest</td>\n      <td>all</td>\n      <td>gyro</td>\n      <td>stat</td>\n      <td>0.778144</td>\n      <td>0.854466</td>\n      <td>0.786563</td>\n      <td>0.786563</td>\n    </tr>\n    <tr>\n      <th>35</th>\n      <td>GaussianNaiveBayes</td>\n      <td>all</td>\n      <td>gyro</td>\n      <td>stat</td>\n      <td>0.772210</td>\n      <td>0.848640</td>\n      <td>0.726982</td>\n      <td>0.726982</td>\n    </tr>\n    <tr>\n      <th>170</th>\n      <td>SupportVectorsMachine</td>\n      <td>all</td>\n      <td>gyro</td>\n      <td>stat</td>\n      <td>0.751636</td>\n      <td>0.820497</td>\n      <td>0.729869</td>\n      <td>0.729869</td>\n    </tr>\n    <tr>\n      <th>8</th>\n      <td>DecisionTree</td>\n      <td>all</td>\n      <td>gyro</td>\n      <td>stat</td>\n      <td>0.744203</td>\n      <td>0.861659</td>\n      <td>0.714751</td>\n      <td>0.714751</td>\n    </tr>\n    <tr>\n      <th>116</th>\n      <td>LSTM</td>\n      <td>all</td>\n      <td>gyro</td>\n      <td>stat</td>\n      <td>0.703298</td>\n      <td>0.703516</td>\n      <td>0.703516</td>\n      <td>0.703516</td>\n    </tr>\n  </tbody>\n</table>\n</div>"
     },
     "execution_count": 18,
     "metadata": {},
     "output_type": "execute_result"
    }
   ],
   "source": [
    "gyro_all_stat = results_df.loc[(results_df['sensor_type'] == 'gyro') & \n",
    "                                (results_df['sensor_pos'] == 'all') & \n",
    "                                (results_df['features'] == 'stat')]\n",
    "gyro_all_stat.sort_values(by=['f1_score'], ascending=False)"
   ]
  },
  {
   "cell_type": "markdown",
   "metadata": {},
   "source": [
    "### 17- gyro and all and freq"
   ]
  },
  {
   "cell_type": "code",
   "execution_count": 19,
   "metadata": {},
   "outputs": [
    {
     "data": {
      "text/plain": "                                 model_name sensor_pos sensor_type features  \\\n142                            RandomForest        all        gyro     freq   \n7                              DecisionTree        all        gyro     freq   \n115                                    LSTM        all        gyro     freq   \n61                       K-NearestNeighbors        all        gyro     freq   \n88   K-NearestNeighbors_DynamicTimeWrapping        all        gyro     freq   \n34                       GaussianNaiveBayes        all        gyro     freq   \n169                   SupportVectorsMachine        all        gyro     freq   \n\n     f1_score  precision    recall  accuracy  \n142  0.904259   0.938228  0.892052  0.892052  \n7    0.898933   0.934725  0.876860  0.876860  \n115  0.837663   0.838368  0.838368  0.838368  \n61   0.832819   0.899457  0.802093  0.802093  \n88   0.823707   0.889754  0.789051  0.789051  \n34   0.754151   0.874789  0.689859  0.689859  \n169  0.748756   0.823629  0.724599  0.724599  ",
      "text/html": "<div>\n<style scoped>\n    .dataframe tbody tr th:only-of-type {\n        vertical-align: middle;\n    }\n\n    .dataframe tbody tr th {\n        vertical-align: top;\n    }\n\n    .dataframe thead th {\n        text-align: right;\n    }\n</style>\n<table border=\"1\" class=\"dataframe\">\n  <thead>\n    <tr style=\"text-align: right;\">\n      <th></th>\n      <th>model_name</th>\n      <th>sensor_pos</th>\n      <th>sensor_type</th>\n      <th>features</th>\n      <th>f1_score</th>\n      <th>precision</th>\n      <th>recall</th>\n      <th>accuracy</th>\n    </tr>\n  </thead>\n  <tbody>\n    <tr>\n      <th>142</th>\n      <td>RandomForest</td>\n      <td>all</td>\n      <td>gyro</td>\n      <td>freq</td>\n      <td>0.904259</td>\n      <td>0.938228</td>\n      <td>0.892052</td>\n      <td>0.892052</td>\n    </tr>\n    <tr>\n      <th>7</th>\n      <td>DecisionTree</td>\n      <td>all</td>\n      <td>gyro</td>\n      <td>freq</td>\n      <td>0.898933</td>\n      <td>0.934725</td>\n      <td>0.876860</td>\n      <td>0.876860</td>\n    </tr>\n    <tr>\n      <th>115</th>\n      <td>LSTM</td>\n      <td>all</td>\n      <td>gyro</td>\n      <td>freq</td>\n      <td>0.837663</td>\n      <td>0.838368</td>\n      <td>0.838368</td>\n      <td>0.838368</td>\n    </tr>\n    <tr>\n      <th>61</th>\n      <td>K-NearestNeighbors</td>\n      <td>all</td>\n      <td>gyro</td>\n      <td>freq</td>\n      <td>0.832819</td>\n      <td>0.899457</td>\n      <td>0.802093</td>\n      <td>0.802093</td>\n    </tr>\n    <tr>\n      <th>88</th>\n      <td>K-NearestNeighbors_DynamicTimeWrapping</td>\n      <td>all</td>\n      <td>gyro</td>\n      <td>freq</td>\n      <td>0.823707</td>\n      <td>0.889754</td>\n      <td>0.789051</td>\n      <td>0.789051</td>\n    </tr>\n    <tr>\n      <th>34</th>\n      <td>GaussianNaiveBayes</td>\n      <td>all</td>\n      <td>gyro</td>\n      <td>freq</td>\n      <td>0.754151</td>\n      <td>0.874789</td>\n      <td>0.689859</td>\n      <td>0.689859</td>\n    </tr>\n    <tr>\n      <th>169</th>\n      <td>SupportVectorsMachine</td>\n      <td>all</td>\n      <td>gyro</td>\n      <td>freq</td>\n      <td>0.748756</td>\n      <td>0.823629</td>\n      <td>0.724599</td>\n      <td>0.724599</td>\n    </tr>\n  </tbody>\n</table>\n</div>"
     },
     "execution_count": 19,
     "metadata": {},
     "output_type": "execute_result"
    }
   ],
   "source": [
    "gyro_all_freq = results_df.loc[(results_df['sensor_type'] == 'gyro') & \n",
    "                                (results_df['sensor_pos'] == 'all') & \n",
    "                                (results_df['features'] == 'freq')]\n",
    "gyro_all_freq.sort_values(by=['f1_score'], ascending=False)"
   ]
  },
  {
   "cell_type": "markdown",
   "metadata": {},
   "source": [
    "### 18- gyro and all and all"
   ]
  },
  {
   "cell_type": "code",
   "execution_count": 20,
   "metadata": {},
   "outputs": [
    {
     "data": {
      "text/plain": "                                 model_name sensor_pos sensor_type features  \\\n141                            RandomForest        all        gyro      all   \n6                              DecisionTree        all        gyro      all   \n60                       K-NearestNeighbors        all        gyro      all   \n87   K-NearestNeighbors_DynamicTimeWrapping        all        gyro      all   \n33                       GaussianNaiveBayes        all        gyro      all   \n168                   SupportVectorsMachine        all        gyro      all   \n114                                    LSTM        all        gyro      all   \n\n     f1_score  precision    recall  accuracy  \n141  0.893470   0.933678  0.883481  0.883481  \n6    0.883686   0.919333  0.863354  0.863354  \n60   0.831064   0.892206  0.800842  0.800842  \n87   0.815948   0.878609  0.785585  0.785585  \n33   0.771069   0.863000  0.716834  0.716834  \n168  0.752207   0.821811  0.730256  0.730256  \n114  0.707286   0.703348  0.703348  0.703348  ",
      "text/html": "<div>\n<style scoped>\n    .dataframe tbody tr th:only-of-type {\n        vertical-align: middle;\n    }\n\n    .dataframe tbody tr th {\n        vertical-align: top;\n    }\n\n    .dataframe thead th {\n        text-align: right;\n    }\n</style>\n<table border=\"1\" class=\"dataframe\">\n  <thead>\n    <tr style=\"text-align: right;\">\n      <th></th>\n      <th>model_name</th>\n      <th>sensor_pos</th>\n      <th>sensor_type</th>\n      <th>features</th>\n      <th>f1_score</th>\n      <th>precision</th>\n      <th>recall</th>\n      <th>accuracy</th>\n    </tr>\n  </thead>\n  <tbody>\n    <tr>\n      <th>141</th>\n      <td>RandomForest</td>\n      <td>all</td>\n      <td>gyro</td>\n      <td>all</td>\n      <td>0.893470</td>\n      <td>0.933678</td>\n      <td>0.883481</td>\n      <td>0.883481</td>\n    </tr>\n    <tr>\n      <th>6</th>\n      <td>DecisionTree</td>\n      <td>all</td>\n      <td>gyro</td>\n      <td>all</td>\n      <td>0.883686</td>\n      <td>0.919333</td>\n      <td>0.863354</td>\n      <td>0.863354</td>\n    </tr>\n    <tr>\n      <th>60</th>\n      <td>K-NearestNeighbors</td>\n      <td>all</td>\n      <td>gyro</td>\n      <td>all</td>\n      <td>0.831064</td>\n      <td>0.892206</td>\n      <td>0.800842</td>\n      <td>0.800842</td>\n    </tr>\n    <tr>\n      <th>87</th>\n      <td>K-NearestNeighbors_DynamicTimeWrapping</td>\n      <td>all</td>\n      <td>gyro</td>\n      <td>all</td>\n      <td>0.815948</td>\n      <td>0.878609</td>\n      <td>0.785585</td>\n      <td>0.785585</td>\n    </tr>\n    <tr>\n      <th>33</th>\n      <td>GaussianNaiveBayes</td>\n      <td>all</td>\n      <td>gyro</td>\n      <td>all</td>\n      <td>0.771069</td>\n      <td>0.863000</td>\n      <td>0.716834</td>\n      <td>0.716834</td>\n    </tr>\n    <tr>\n      <th>168</th>\n      <td>SupportVectorsMachine</td>\n      <td>all</td>\n      <td>gyro</td>\n      <td>all</td>\n      <td>0.752207</td>\n      <td>0.821811</td>\n      <td>0.730256</td>\n      <td>0.730256</td>\n    </tr>\n    <tr>\n      <th>114</th>\n      <td>LSTM</td>\n      <td>all</td>\n      <td>gyro</td>\n      <td>all</td>\n      <td>0.707286</td>\n      <td>0.703348</td>\n      <td>0.703348</td>\n      <td>0.703348</td>\n    </tr>\n  </tbody>\n</table>\n</div>"
     },
     "execution_count": 20,
     "metadata": {},
     "output_type": "execute_result"
    }
   ],
   "source": [
    "gyro_all_all = results_df.loc[(results_df['sensor_type'] == 'gyro') & \n",
    "                                (results_df['sensor_pos'] == 'all') & \n",
    "                                (results_df['features'] == 'all')]\n",
    "gyro_all_all.sort_values(by=['f1_score'], ascending=False)"
   ]
  },
  {
   "cell_type": "markdown",
   "metadata": {},
   "source": [
    "### 19- both and shank and stat"
   ]
  },
  {
   "cell_type": "code",
   "execution_count": 21,
   "metadata": {},
   "outputs": [
    {
     "data": {
      "text/plain": "                                 model_name sensor_pos sensor_type features  \\\n131                                    LSTM      shank        both     stat   \n158                            RandomForest      shank        both     stat   \n77                       K-NearestNeighbors      shank        both     stat   \n104  K-NearestNeighbors_DynamicTimeWrapping      shank        both     stat   \n23                             DecisionTree      shank        both     stat   \n50                       GaussianNaiveBayes      shank        both     stat   \n185                   SupportVectorsMachine      shank        both     stat   \n\n     f1_score  precision    recall  accuracy  \n131  0.831038   0.828364  0.828364  0.828364  \n158  0.830319   0.922691  0.830695  0.830695  \n77   0.787386   0.868300  0.751958  0.751958  \n104  0.784652   0.867287  0.746431  0.746431  \n23   0.776877   0.858935  0.770835  0.770835  \n50   0.769528   0.845051  0.725261  0.725261  \n185  0.749224   0.817124  0.724631  0.724631  ",
      "text/html": "<div>\n<style scoped>\n    .dataframe tbody tr th:only-of-type {\n        vertical-align: middle;\n    }\n\n    .dataframe tbody tr th {\n        vertical-align: top;\n    }\n\n    .dataframe thead th {\n        text-align: right;\n    }\n</style>\n<table border=\"1\" class=\"dataframe\">\n  <thead>\n    <tr style=\"text-align: right;\">\n      <th></th>\n      <th>model_name</th>\n      <th>sensor_pos</th>\n      <th>sensor_type</th>\n      <th>features</th>\n      <th>f1_score</th>\n      <th>precision</th>\n      <th>recall</th>\n      <th>accuracy</th>\n    </tr>\n  </thead>\n  <tbody>\n    <tr>\n      <th>131</th>\n      <td>LSTM</td>\n      <td>shank</td>\n      <td>both</td>\n      <td>stat</td>\n      <td>0.831038</td>\n      <td>0.828364</td>\n      <td>0.828364</td>\n      <td>0.828364</td>\n    </tr>\n    <tr>\n      <th>158</th>\n      <td>RandomForest</td>\n      <td>shank</td>\n      <td>both</td>\n      <td>stat</td>\n      <td>0.830319</td>\n      <td>0.922691</td>\n      <td>0.830695</td>\n      <td>0.830695</td>\n    </tr>\n    <tr>\n      <th>77</th>\n      <td>K-NearestNeighbors</td>\n      <td>shank</td>\n      <td>both</td>\n      <td>stat</td>\n      <td>0.787386</td>\n      <td>0.868300</td>\n      <td>0.751958</td>\n      <td>0.751958</td>\n    </tr>\n    <tr>\n      <th>104</th>\n      <td>K-NearestNeighbors_DynamicTimeWrapping</td>\n      <td>shank</td>\n      <td>both</td>\n      <td>stat</td>\n      <td>0.784652</td>\n      <td>0.867287</td>\n      <td>0.746431</td>\n      <td>0.746431</td>\n    </tr>\n    <tr>\n      <th>23</th>\n      <td>DecisionTree</td>\n      <td>shank</td>\n      <td>both</td>\n      <td>stat</td>\n      <td>0.776877</td>\n      <td>0.858935</td>\n      <td>0.770835</td>\n      <td>0.770835</td>\n    </tr>\n    <tr>\n      <th>50</th>\n      <td>GaussianNaiveBayes</td>\n      <td>shank</td>\n      <td>both</td>\n      <td>stat</td>\n      <td>0.769528</td>\n      <td>0.845051</td>\n      <td>0.725261</td>\n      <td>0.725261</td>\n    </tr>\n    <tr>\n      <th>185</th>\n      <td>SupportVectorsMachine</td>\n      <td>shank</td>\n      <td>both</td>\n      <td>stat</td>\n      <td>0.749224</td>\n      <td>0.817124</td>\n      <td>0.724631</td>\n      <td>0.724631</td>\n    </tr>\n  </tbody>\n</table>\n</div>"
     },
     "execution_count": 21,
     "metadata": {},
     "output_type": "execute_result"
    }
   ],
   "source": [
    "both_shank_stat = results_df.loc[(results_df['sensor_type'] == 'both') & \n",
    "                                (results_df['sensor_pos'] == 'shank') & \n",
    "                                (results_df['features'] == 'stat')]\n",
    "both_shank_stat.sort_values(by=['f1_score'], ascending=False)"
   ]
  },
  {
   "cell_type": "markdown",
   "metadata": {},
   "source": [
    "### 20- both and shank and freq"
   ]
  },
  {
   "cell_type": "code",
   "execution_count": 22,
   "metadata": {},
   "outputs": [
    {
     "data": {
      "text/plain": "                                 model_name sensor_pos sensor_type features  \\\n157                            RandomForest      shank        both     freq   \n22                             DecisionTree      shank        both     freq   \n130                                    LSTM      shank        both     freq   \n76                       K-NearestNeighbors      shank        both     freq   \n103  K-NearestNeighbors_DynamicTimeWrapping      shank        both     freq   \n184                   SupportVectorsMachine      shank        both     freq   \n49                       GaussianNaiveBayes      shank        both     freq   \n\n     f1_score  precision    recall  accuracy  \n157  0.905976   0.937509  0.893532  0.893532  \n22   0.890499   0.927241  0.869574  0.869574  \n130  0.861796   0.862658  0.862658  0.862658  \n76   0.844414   0.905432  0.814111  0.814111  \n103  0.827290   0.897217  0.795202  0.795202  \n184  0.743682   0.823219  0.718048  0.718048  \n49   0.736038   0.864533  0.667747  0.667747  ",
      "text/html": "<div>\n<style scoped>\n    .dataframe tbody tr th:only-of-type {\n        vertical-align: middle;\n    }\n\n    .dataframe tbody tr th {\n        vertical-align: top;\n    }\n\n    .dataframe thead th {\n        text-align: right;\n    }\n</style>\n<table border=\"1\" class=\"dataframe\">\n  <thead>\n    <tr style=\"text-align: right;\">\n      <th></th>\n      <th>model_name</th>\n      <th>sensor_pos</th>\n      <th>sensor_type</th>\n      <th>features</th>\n      <th>f1_score</th>\n      <th>precision</th>\n      <th>recall</th>\n      <th>accuracy</th>\n    </tr>\n  </thead>\n  <tbody>\n    <tr>\n      <th>157</th>\n      <td>RandomForest</td>\n      <td>shank</td>\n      <td>both</td>\n      <td>freq</td>\n      <td>0.905976</td>\n      <td>0.937509</td>\n      <td>0.893532</td>\n      <td>0.893532</td>\n    </tr>\n    <tr>\n      <th>22</th>\n      <td>DecisionTree</td>\n      <td>shank</td>\n      <td>both</td>\n      <td>freq</td>\n      <td>0.890499</td>\n      <td>0.927241</td>\n      <td>0.869574</td>\n      <td>0.869574</td>\n    </tr>\n    <tr>\n      <th>130</th>\n      <td>LSTM</td>\n      <td>shank</td>\n      <td>both</td>\n      <td>freq</td>\n      <td>0.861796</td>\n      <td>0.862658</td>\n      <td>0.862658</td>\n      <td>0.862658</td>\n    </tr>\n    <tr>\n      <th>76</th>\n      <td>K-NearestNeighbors</td>\n      <td>shank</td>\n      <td>both</td>\n      <td>freq</td>\n      <td>0.844414</td>\n      <td>0.905432</td>\n      <td>0.814111</td>\n      <td>0.814111</td>\n    </tr>\n    <tr>\n      <th>103</th>\n      <td>K-NearestNeighbors_DynamicTimeWrapping</td>\n      <td>shank</td>\n      <td>both</td>\n      <td>freq</td>\n      <td>0.827290</td>\n      <td>0.897217</td>\n      <td>0.795202</td>\n      <td>0.795202</td>\n    </tr>\n    <tr>\n      <th>184</th>\n      <td>SupportVectorsMachine</td>\n      <td>shank</td>\n      <td>both</td>\n      <td>freq</td>\n      <td>0.743682</td>\n      <td>0.823219</td>\n      <td>0.718048</td>\n      <td>0.718048</td>\n    </tr>\n    <tr>\n      <th>49</th>\n      <td>GaussianNaiveBayes</td>\n      <td>shank</td>\n      <td>both</td>\n      <td>freq</td>\n      <td>0.736038</td>\n      <td>0.864533</td>\n      <td>0.667747</td>\n      <td>0.667747</td>\n    </tr>\n  </tbody>\n</table>\n</div>"
     },
     "execution_count": 22,
     "metadata": {},
     "output_type": "execute_result"
    }
   ],
   "source": [
    "both_shank_freq = results_df.loc[(results_df['sensor_type'] == 'both') & \n",
    "                                (results_df['sensor_pos'] == 'shank') & \n",
    "                                (results_df['features'] == 'freq')]\n",
    "both_shank_freq.sort_values(by=['f1_score'], ascending=False)"
   ]
  },
  {
   "cell_type": "markdown",
   "metadata": {},
   "source": [
    "### 21- both and shank and all"
   ]
  },
  {
   "cell_type": "code",
   "execution_count": 23,
   "metadata": {},
   "outputs": [
    {
     "data": {
      "text/plain": "                                 model_name sensor_pos sensor_type features  \\\n156                            RandomForest      shank        both      all   \n21                             DecisionTree      shank        both      all   \n75                       K-NearestNeighbors      shank        both      all   \n102  K-NearestNeighbors_DynamicTimeWrapping      shank        both      all   \n48                       GaussianNaiveBayes      shank        both      all   \n183                   SupportVectorsMachine      shank        both      all   \n129                                    LSTM      shank        both      all   \n\n     f1_score  precision    recall  accuracy  \n156  0.906278   0.939145  0.898381  0.898381  \n21   0.869024   0.923112  0.849529  0.849529  \n75   0.848469   0.904859  0.818173  0.818173  \n102  0.829833   0.888933  0.798268  0.798268  \n48   0.763726   0.857075  0.708551  0.708551  \n183  0.750877   0.823676  0.727519  0.727519  \n129  0.687877   0.683689  0.683689  0.683689  ",
      "text/html": "<div>\n<style scoped>\n    .dataframe tbody tr th:only-of-type {\n        vertical-align: middle;\n    }\n\n    .dataframe tbody tr th {\n        vertical-align: top;\n    }\n\n    .dataframe thead th {\n        text-align: right;\n    }\n</style>\n<table border=\"1\" class=\"dataframe\">\n  <thead>\n    <tr style=\"text-align: right;\">\n      <th></th>\n      <th>model_name</th>\n      <th>sensor_pos</th>\n      <th>sensor_type</th>\n      <th>features</th>\n      <th>f1_score</th>\n      <th>precision</th>\n      <th>recall</th>\n      <th>accuracy</th>\n    </tr>\n  </thead>\n  <tbody>\n    <tr>\n      <th>156</th>\n      <td>RandomForest</td>\n      <td>shank</td>\n      <td>both</td>\n      <td>all</td>\n      <td>0.906278</td>\n      <td>0.939145</td>\n      <td>0.898381</td>\n      <td>0.898381</td>\n    </tr>\n    <tr>\n      <th>21</th>\n      <td>DecisionTree</td>\n      <td>shank</td>\n      <td>both</td>\n      <td>all</td>\n      <td>0.869024</td>\n      <td>0.923112</td>\n      <td>0.849529</td>\n      <td>0.849529</td>\n    </tr>\n    <tr>\n      <th>75</th>\n      <td>K-NearestNeighbors</td>\n      <td>shank</td>\n      <td>both</td>\n      <td>all</td>\n      <td>0.848469</td>\n      <td>0.904859</td>\n      <td>0.818173</td>\n      <td>0.818173</td>\n    </tr>\n    <tr>\n      <th>102</th>\n      <td>K-NearestNeighbors_DynamicTimeWrapping</td>\n      <td>shank</td>\n      <td>both</td>\n      <td>all</td>\n      <td>0.829833</td>\n      <td>0.888933</td>\n      <td>0.798268</td>\n      <td>0.798268</td>\n    </tr>\n    <tr>\n      <th>48</th>\n      <td>GaussianNaiveBayes</td>\n      <td>shank</td>\n      <td>both</td>\n      <td>all</td>\n      <td>0.763726</td>\n      <td>0.857075</td>\n      <td>0.708551</td>\n      <td>0.708551</td>\n    </tr>\n    <tr>\n      <th>183</th>\n      <td>SupportVectorsMachine</td>\n      <td>shank</td>\n      <td>both</td>\n      <td>all</td>\n      <td>0.750877</td>\n      <td>0.823676</td>\n      <td>0.727519</td>\n      <td>0.727519</td>\n    </tr>\n    <tr>\n      <th>129</th>\n      <td>LSTM</td>\n      <td>shank</td>\n      <td>both</td>\n      <td>all</td>\n      <td>0.687877</td>\n      <td>0.683689</td>\n      <td>0.683689</td>\n      <td>0.683689</td>\n    </tr>\n  </tbody>\n</table>\n</div>"
     },
     "execution_count": 23,
     "metadata": {},
     "output_type": "execute_result"
    }
   ],
   "source": [
    "gyro_shank_all = results_df.loc[(results_df['sensor_type'] == 'both') & \n",
    "                                (results_df['sensor_pos'] == 'shank') & \n",
    "                                (results_df['features'] == 'all')]\n",
    "gyro_shank_all.sort_values(by=['f1_score'], ascending=False)"
   ]
  },
  {
   "cell_type": "markdown",
   "metadata": {},
   "source": [
    "### 22- both and feet and stat"
   ]
  },
  {
   "cell_type": "code",
   "execution_count": 24,
   "metadata": {},
   "outputs": [
    {
     "data": {
      "text/plain": "                                 model_name sensor_pos sensor_type features  \\\n41                       GaussianNaiveBayes       feet        both     stat   \n176                   SupportVectorsMachine       feet        both     stat   \n122                                    LSTM       feet        both     stat   \n95   K-NearestNeighbors_DynamicTimeWrapping       feet        both     stat   \n68                       K-NearestNeighbors       feet        both     stat   \n14                             DecisionTree       feet        both     stat   \n149                            RandomForest       feet        both     stat   \n\n     f1_score  precision    recall  accuracy  \n41   0.751677   0.841256  0.701126  0.701126  \n176  0.751296   0.821996  0.730328  0.730328  \n122  0.745049   0.740692  0.740692  0.740692  \n95   0.731777   0.850633  0.688493  0.688493  \n68   0.729380   0.852595  0.690918  0.690918  \n14   0.705454   0.828769  0.701680  0.701680  \n149  0.693231   0.783096  0.736782  0.736782  ",
      "text/html": "<div>\n<style scoped>\n    .dataframe tbody tr th:only-of-type {\n        vertical-align: middle;\n    }\n\n    .dataframe tbody tr th {\n        vertical-align: top;\n    }\n\n    .dataframe thead th {\n        text-align: right;\n    }\n</style>\n<table border=\"1\" class=\"dataframe\">\n  <thead>\n    <tr style=\"text-align: right;\">\n      <th></th>\n      <th>model_name</th>\n      <th>sensor_pos</th>\n      <th>sensor_type</th>\n      <th>features</th>\n      <th>f1_score</th>\n      <th>precision</th>\n      <th>recall</th>\n      <th>accuracy</th>\n    </tr>\n  </thead>\n  <tbody>\n    <tr>\n      <th>41</th>\n      <td>GaussianNaiveBayes</td>\n      <td>feet</td>\n      <td>both</td>\n      <td>stat</td>\n      <td>0.751677</td>\n      <td>0.841256</td>\n      <td>0.701126</td>\n      <td>0.701126</td>\n    </tr>\n    <tr>\n      <th>176</th>\n      <td>SupportVectorsMachine</td>\n      <td>feet</td>\n      <td>both</td>\n      <td>stat</td>\n      <td>0.751296</td>\n      <td>0.821996</td>\n      <td>0.730328</td>\n      <td>0.730328</td>\n    </tr>\n    <tr>\n      <th>122</th>\n      <td>LSTM</td>\n      <td>feet</td>\n      <td>both</td>\n      <td>stat</td>\n      <td>0.745049</td>\n      <td>0.740692</td>\n      <td>0.740692</td>\n      <td>0.740692</td>\n    </tr>\n    <tr>\n      <th>95</th>\n      <td>K-NearestNeighbors_DynamicTimeWrapping</td>\n      <td>feet</td>\n      <td>both</td>\n      <td>stat</td>\n      <td>0.731777</td>\n      <td>0.850633</td>\n      <td>0.688493</td>\n      <td>0.688493</td>\n    </tr>\n    <tr>\n      <th>68</th>\n      <td>K-NearestNeighbors</td>\n      <td>feet</td>\n      <td>both</td>\n      <td>stat</td>\n      <td>0.729380</td>\n      <td>0.852595</td>\n      <td>0.690918</td>\n      <td>0.690918</td>\n    </tr>\n    <tr>\n      <th>14</th>\n      <td>DecisionTree</td>\n      <td>feet</td>\n      <td>both</td>\n      <td>stat</td>\n      <td>0.705454</td>\n      <td>0.828769</td>\n      <td>0.701680</td>\n      <td>0.701680</td>\n    </tr>\n    <tr>\n      <th>149</th>\n      <td>RandomForest</td>\n      <td>feet</td>\n      <td>both</td>\n      <td>stat</td>\n      <td>0.693231</td>\n      <td>0.783096</td>\n      <td>0.736782</td>\n      <td>0.736782</td>\n    </tr>\n  </tbody>\n</table>\n</div>"
     },
     "execution_count": 24,
     "metadata": {},
     "output_type": "execute_result"
    }
   ],
   "source": [
    "both_feet_stat = results_df.loc[(results_df['sensor_type'] == 'both') & \n",
    "                                (results_df['sensor_pos'] == 'feet') & \n",
    "                                (results_df['features'] == 'stat')]\n",
    "both_feet_stat.sort_values(by=['f1_score'], ascending=False)"
   ]
  },
  {
   "cell_type": "markdown",
   "metadata": {},
   "source": [
    "### 23- both and feet and freq"
   ]
  },
  {
   "cell_type": "code",
   "execution_count": 25,
   "metadata": {},
   "outputs": [
    {
     "data": {
      "text/plain": "                                 model_name sensor_pos sensor_type features  \\\n148                            RandomForest       feet        both     freq   \n13                             DecisionTree       feet        both     freq   \n121                                    LSTM       feet        both     freq   \n94   K-NearestNeighbors_DynamicTimeWrapping       feet        both     freq   \n67                       K-NearestNeighbors       feet        both     freq   \n175                   SupportVectorsMachine       feet        both     freq   \n40                       GaussianNaiveBayes       feet        both     freq   \n\n     f1_score  precision    recall  accuracy  \n148  0.877201   0.932298  0.865813  0.865813  \n13   0.869025   0.924201  0.843124  0.843124  \n121  0.825442   0.825906  0.825906  0.825906  \n94   0.815363   0.890581  0.780380  0.780380  \n67   0.813368   0.894298  0.782455  0.782455  \n175  0.741927   0.823201  0.719107  0.719107  \n40   0.735020   0.891576  0.665206  0.665206  ",
      "text/html": "<div>\n<style scoped>\n    .dataframe tbody tr th:only-of-type {\n        vertical-align: middle;\n    }\n\n    .dataframe tbody tr th {\n        vertical-align: top;\n    }\n\n    .dataframe thead th {\n        text-align: right;\n    }\n</style>\n<table border=\"1\" class=\"dataframe\">\n  <thead>\n    <tr style=\"text-align: right;\">\n      <th></th>\n      <th>model_name</th>\n      <th>sensor_pos</th>\n      <th>sensor_type</th>\n      <th>features</th>\n      <th>f1_score</th>\n      <th>precision</th>\n      <th>recall</th>\n      <th>accuracy</th>\n    </tr>\n  </thead>\n  <tbody>\n    <tr>\n      <th>148</th>\n      <td>RandomForest</td>\n      <td>feet</td>\n      <td>both</td>\n      <td>freq</td>\n      <td>0.877201</td>\n      <td>0.932298</td>\n      <td>0.865813</td>\n      <td>0.865813</td>\n    </tr>\n    <tr>\n      <th>13</th>\n      <td>DecisionTree</td>\n      <td>feet</td>\n      <td>both</td>\n      <td>freq</td>\n      <td>0.869025</td>\n      <td>0.924201</td>\n      <td>0.843124</td>\n      <td>0.843124</td>\n    </tr>\n    <tr>\n      <th>121</th>\n      <td>LSTM</td>\n      <td>feet</td>\n      <td>both</td>\n      <td>freq</td>\n      <td>0.825442</td>\n      <td>0.825906</td>\n      <td>0.825906</td>\n      <td>0.825906</td>\n    </tr>\n    <tr>\n      <th>94</th>\n      <td>K-NearestNeighbors_DynamicTimeWrapping</td>\n      <td>feet</td>\n      <td>both</td>\n      <td>freq</td>\n      <td>0.815363</td>\n      <td>0.890581</td>\n      <td>0.780380</td>\n      <td>0.780380</td>\n    </tr>\n    <tr>\n      <th>67</th>\n      <td>K-NearestNeighbors</td>\n      <td>feet</td>\n      <td>both</td>\n      <td>freq</td>\n      <td>0.813368</td>\n      <td>0.894298</td>\n      <td>0.782455</td>\n      <td>0.782455</td>\n    </tr>\n    <tr>\n      <th>175</th>\n      <td>SupportVectorsMachine</td>\n      <td>feet</td>\n      <td>both</td>\n      <td>freq</td>\n      <td>0.741927</td>\n      <td>0.823201</td>\n      <td>0.719107</td>\n      <td>0.719107</td>\n    </tr>\n    <tr>\n      <th>40</th>\n      <td>GaussianNaiveBayes</td>\n      <td>feet</td>\n      <td>both</td>\n      <td>freq</td>\n      <td>0.735020</td>\n      <td>0.891576</td>\n      <td>0.665206</td>\n      <td>0.665206</td>\n    </tr>\n  </tbody>\n</table>\n</div>"
     },
     "execution_count": 25,
     "metadata": {},
     "output_type": "execute_result"
    }
   ],
   "source": [
    "both_feet_freq = results_df.loc[(results_df['sensor_type'] == 'both') & \n",
    "                                (results_df['sensor_pos'] == 'feet') & \n",
    "                                (results_df['features'] == 'freq')]\n",
    "both_feet_freq.sort_values(by=['f1_score'], ascending=False)"
   ]
  },
  {
   "cell_type": "markdown",
   "metadata": {},
   "source": [
    "### 24- both and feet and all"
   ]
  },
  {
   "cell_type": "code",
   "execution_count": 26,
   "metadata": {},
   "outputs": [
    {
     "data": {
      "text/plain": "                                 model_name sensor_pos sensor_type features  \\\n93   K-NearestNeighbors_DynamicTimeWrapping       feet        both      all   \n66                       K-NearestNeighbors       feet        both      all   \n12                             DecisionTree       feet        both      all   \n147                            RandomForest       feet        both      all   \n174                   SupportVectorsMachine       feet        both      all   \n39                       GaussianNaiveBayes       feet        both      all   \n120                                    LSTM       feet        both      all   \n\n     f1_score  precision    recall  accuracy  \n93   0.804349   0.890744  0.767216  0.767216  \n66   0.803286   0.888297  0.769247  0.769247  \n12   0.803158   0.902173  0.797212  0.797212  \n147  0.792983   0.856510  0.810688  0.810688  \n174  0.751496   0.825567  0.730907  0.730907  \n39   0.748629   0.866359  0.685222  0.685222  \n120  0.733914   0.728458  0.728458  0.728458  ",
      "text/html": "<div>\n<style scoped>\n    .dataframe tbody tr th:only-of-type {\n        vertical-align: middle;\n    }\n\n    .dataframe tbody tr th {\n        vertical-align: top;\n    }\n\n    .dataframe thead th {\n        text-align: right;\n    }\n</style>\n<table border=\"1\" class=\"dataframe\">\n  <thead>\n    <tr style=\"text-align: right;\">\n      <th></th>\n      <th>model_name</th>\n      <th>sensor_pos</th>\n      <th>sensor_type</th>\n      <th>features</th>\n      <th>f1_score</th>\n      <th>precision</th>\n      <th>recall</th>\n      <th>accuracy</th>\n    </tr>\n  </thead>\n  <tbody>\n    <tr>\n      <th>93</th>\n      <td>K-NearestNeighbors_DynamicTimeWrapping</td>\n      <td>feet</td>\n      <td>both</td>\n      <td>all</td>\n      <td>0.804349</td>\n      <td>0.890744</td>\n      <td>0.767216</td>\n      <td>0.767216</td>\n    </tr>\n    <tr>\n      <th>66</th>\n      <td>K-NearestNeighbors</td>\n      <td>feet</td>\n      <td>both</td>\n      <td>all</td>\n      <td>0.803286</td>\n      <td>0.888297</td>\n      <td>0.769247</td>\n      <td>0.769247</td>\n    </tr>\n    <tr>\n      <th>12</th>\n      <td>DecisionTree</td>\n      <td>feet</td>\n      <td>both</td>\n      <td>all</td>\n      <td>0.803158</td>\n      <td>0.902173</td>\n      <td>0.797212</td>\n      <td>0.797212</td>\n    </tr>\n    <tr>\n      <th>147</th>\n      <td>RandomForest</td>\n      <td>feet</td>\n      <td>both</td>\n      <td>all</td>\n      <td>0.792983</td>\n      <td>0.856510</td>\n      <td>0.810688</td>\n      <td>0.810688</td>\n    </tr>\n    <tr>\n      <th>174</th>\n      <td>SupportVectorsMachine</td>\n      <td>feet</td>\n      <td>both</td>\n      <td>all</td>\n      <td>0.751496</td>\n      <td>0.825567</td>\n      <td>0.730907</td>\n      <td>0.730907</td>\n    </tr>\n    <tr>\n      <th>39</th>\n      <td>GaussianNaiveBayes</td>\n      <td>feet</td>\n      <td>both</td>\n      <td>all</td>\n      <td>0.748629</td>\n      <td>0.866359</td>\n      <td>0.685222</td>\n      <td>0.685222</td>\n    </tr>\n    <tr>\n      <th>120</th>\n      <td>LSTM</td>\n      <td>feet</td>\n      <td>both</td>\n      <td>all</td>\n      <td>0.733914</td>\n      <td>0.728458</td>\n      <td>0.728458</td>\n      <td>0.728458</td>\n    </tr>\n  </tbody>\n</table>\n</div>"
     },
     "execution_count": 26,
     "metadata": {},
     "output_type": "execute_result"
    }
   ],
   "source": [
    "both_feet_all = results_df.loc[(results_df['sensor_type'] == 'both') & \n",
    "                                (results_df['sensor_pos'] == 'feet') & \n",
    "                                (results_df['features'] == 'all')]\n",
    "both_feet_all.sort_values(by=['f1_score'], ascending=False)"
   ]
  },
  {
   "cell_type": "markdown",
   "metadata": {},
   "source": [
    "### 25- both and all and stat"
   ]
  },
  {
   "cell_type": "code",
   "execution_count": 27,
   "metadata": {},
   "outputs": [
    {
     "data": {
      "text/plain": "                                 model_name sensor_pos sensor_type features  \\\n59                       K-NearestNeighbors        all        both     stat   \n86   K-NearestNeighbors_DynamicTimeWrapping        all        both     stat   \n140                            RandomForest        all        both     stat   \n32                       GaussianNaiveBayes        all        both     stat   \n5                              DecisionTree        all        both     stat   \n167                   SupportVectorsMachine        all        both     stat   \n113                                    LSTM        all        both     stat   \n\n     f1_score  precision    recall  accuracy  \n59   0.784582   0.869801  0.753421  0.753421  \n86   0.775540   0.865966  0.739301  0.739301  \n140  0.774644   0.908826  0.794266  0.794266  \n32   0.763328   0.842927  0.716903  0.716903  \n5    0.762460   0.899182  0.762757  0.762757  \n167  0.752374   0.819142  0.730348  0.730348  \n113  0.734942   0.729508  0.729508  0.729508  ",
      "text/html": "<div>\n<style scoped>\n    .dataframe tbody tr th:only-of-type {\n        vertical-align: middle;\n    }\n\n    .dataframe tbody tr th {\n        vertical-align: top;\n    }\n\n    .dataframe thead th {\n        text-align: right;\n    }\n</style>\n<table border=\"1\" class=\"dataframe\">\n  <thead>\n    <tr style=\"text-align: right;\">\n      <th></th>\n      <th>model_name</th>\n      <th>sensor_pos</th>\n      <th>sensor_type</th>\n      <th>features</th>\n      <th>f1_score</th>\n      <th>precision</th>\n      <th>recall</th>\n      <th>accuracy</th>\n    </tr>\n  </thead>\n  <tbody>\n    <tr>\n      <th>59</th>\n      <td>K-NearestNeighbors</td>\n      <td>all</td>\n      <td>both</td>\n      <td>stat</td>\n      <td>0.784582</td>\n      <td>0.869801</td>\n      <td>0.753421</td>\n      <td>0.753421</td>\n    </tr>\n    <tr>\n      <th>86</th>\n      <td>K-NearestNeighbors_DynamicTimeWrapping</td>\n      <td>all</td>\n      <td>both</td>\n      <td>stat</td>\n      <td>0.775540</td>\n      <td>0.865966</td>\n      <td>0.739301</td>\n      <td>0.739301</td>\n    </tr>\n    <tr>\n      <th>140</th>\n      <td>RandomForest</td>\n      <td>all</td>\n      <td>both</td>\n      <td>stat</td>\n      <td>0.774644</td>\n      <td>0.908826</td>\n      <td>0.794266</td>\n      <td>0.794266</td>\n    </tr>\n    <tr>\n      <th>32</th>\n      <td>GaussianNaiveBayes</td>\n      <td>all</td>\n      <td>both</td>\n      <td>stat</td>\n      <td>0.763328</td>\n      <td>0.842927</td>\n      <td>0.716903</td>\n      <td>0.716903</td>\n    </tr>\n    <tr>\n      <th>5</th>\n      <td>DecisionTree</td>\n      <td>all</td>\n      <td>both</td>\n      <td>stat</td>\n      <td>0.762460</td>\n      <td>0.899182</td>\n      <td>0.762757</td>\n      <td>0.762757</td>\n    </tr>\n    <tr>\n      <th>167</th>\n      <td>SupportVectorsMachine</td>\n      <td>all</td>\n      <td>both</td>\n      <td>stat</td>\n      <td>0.752374</td>\n      <td>0.819142</td>\n      <td>0.730348</td>\n      <td>0.730348</td>\n    </tr>\n    <tr>\n      <th>113</th>\n      <td>LSTM</td>\n      <td>all</td>\n      <td>both</td>\n      <td>stat</td>\n      <td>0.734942</td>\n      <td>0.729508</td>\n      <td>0.729508</td>\n      <td>0.729508</td>\n    </tr>\n  </tbody>\n</table>\n</div>"
     },
     "execution_count": 27,
     "metadata": {},
     "output_type": "execute_result"
    }
   ],
   "source": [
    "both_all_stat = results_df.loc[(results_df['sensor_type'] == 'both') & \n",
    "                                (results_df['sensor_pos'] == 'all') & \n",
    "                                (results_df['features'] == 'stat')]\n",
    "both_all_stat.sort_values(by=['f1_score'], ascending=False)"
   ]
  },
  {
   "cell_type": "markdown",
   "metadata": {},
   "source": [
    "### 26- both and all and freq"
   ]
  },
  {
   "cell_type": "code",
   "execution_count": 28,
   "metadata": {},
   "outputs": [
    {
     "data": {
      "text/plain": "                                 model_name sensor_pos sensor_type features  \\\n139                            RandomForest        all        both     freq   \n4                              DecisionTree        all        both     freq   \n112                                    LSTM        all        both     freq   \n58                       K-NearestNeighbors        all        both     freq   \n85   K-NearestNeighbors_DynamicTimeWrapping        all        both     freq   \n31                       GaussianNaiveBayes        all        both     freq   \n166                   SupportVectorsMachine        all        both     freq   \n\n     f1_score  precision    recall  accuracy  \n139  0.904562   0.941210  0.892272  0.892272  \n4    0.872670   0.929487  0.842855  0.842855  \n112  0.844098   0.844645  0.844645  0.844645  \n58   0.831487   0.901032  0.800472  0.800472  \n85   0.817759   0.892548  0.783253  0.783253  \n31   0.746686   0.883646  0.678602  0.678602  \n166  0.738382   0.819856  0.713650  0.713650  ",
      "text/html": "<div>\n<style scoped>\n    .dataframe tbody tr th:only-of-type {\n        vertical-align: middle;\n    }\n\n    .dataframe tbody tr th {\n        vertical-align: top;\n    }\n\n    .dataframe thead th {\n        text-align: right;\n    }\n</style>\n<table border=\"1\" class=\"dataframe\">\n  <thead>\n    <tr style=\"text-align: right;\">\n      <th></th>\n      <th>model_name</th>\n      <th>sensor_pos</th>\n      <th>sensor_type</th>\n      <th>features</th>\n      <th>f1_score</th>\n      <th>precision</th>\n      <th>recall</th>\n      <th>accuracy</th>\n    </tr>\n  </thead>\n  <tbody>\n    <tr>\n      <th>139</th>\n      <td>RandomForest</td>\n      <td>all</td>\n      <td>both</td>\n      <td>freq</td>\n      <td>0.904562</td>\n      <td>0.941210</td>\n      <td>0.892272</td>\n      <td>0.892272</td>\n    </tr>\n    <tr>\n      <th>4</th>\n      <td>DecisionTree</td>\n      <td>all</td>\n      <td>both</td>\n      <td>freq</td>\n      <td>0.872670</td>\n      <td>0.929487</td>\n      <td>0.842855</td>\n      <td>0.842855</td>\n    </tr>\n    <tr>\n      <th>112</th>\n      <td>LSTM</td>\n      <td>all</td>\n      <td>both</td>\n      <td>freq</td>\n      <td>0.844098</td>\n      <td>0.844645</td>\n      <td>0.844645</td>\n      <td>0.844645</td>\n    </tr>\n    <tr>\n      <th>58</th>\n      <td>K-NearestNeighbors</td>\n      <td>all</td>\n      <td>both</td>\n      <td>freq</td>\n      <td>0.831487</td>\n      <td>0.901032</td>\n      <td>0.800472</td>\n      <td>0.800472</td>\n    </tr>\n    <tr>\n      <th>85</th>\n      <td>K-NearestNeighbors_DynamicTimeWrapping</td>\n      <td>all</td>\n      <td>both</td>\n      <td>freq</td>\n      <td>0.817759</td>\n      <td>0.892548</td>\n      <td>0.783253</td>\n      <td>0.783253</td>\n    </tr>\n    <tr>\n      <th>31</th>\n      <td>GaussianNaiveBayes</td>\n      <td>all</td>\n      <td>both</td>\n      <td>freq</td>\n      <td>0.746686</td>\n      <td>0.883646</td>\n      <td>0.678602</td>\n      <td>0.678602</td>\n    </tr>\n    <tr>\n      <th>166</th>\n      <td>SupportVectorsMachine</td>\n      <td>all</td>\n      <td>both</td>\n      <td>freq</td>\n      <td>0.738382</td>\n      <td>0.819856</td>\n      <td>0.713650</td>\n      <td>0.713650</td>\n    </tr>\n  </tbody>\n</table>\n</div>"
     },
     "execution_count": 28,
     "metadata": {},
     "output_type": "execute_result"
    }
   ],
   "source": [
    "both_all_freq = results_df.loc[(results_df['sensor_type'] == 'both') & \n",
    "                                (results_df['sensor_pos'] == 'all') & \n",
    "                                (results_df['features'] == 'freq')]\n",
    "both_all_freq.sort_values(by=['f1_score'], ascending=False)"
   ]
  },
  {
   "cell_type": "markdown",
   "metadata": {},
   "source": [
    "### 27- both and all and all"
   ]
  },
  {
   "cell_type": "code",
   "execution_count": 29,
   "metadata": {},
   "outputs": [
    {
     "data": {
      "text/plain": "                                 model_name sensor_pos sensor_type features  \\\n138                            RandomForest        all        both      all   \n57                       K-NearestNeighbors        all        both      all   \n3                              DecisionTree        all        both      all   \n84   K-NearestNeighbors_DynamicTimeWrapping        all        both      all   \n30                       GaussianNaiveBayes        all        both      all   \n165                   SupportVectorsMachine        all        both      all   \n111                                    LSTM        all        both      all   \n\n     f1_score  precision    recall  accuracy  \n138  0.840139   0.932652  0.844516  0.844516  \n57   0.829769   0.892736  0.799216  0.799216  \n3    0.825577   0.907984  0.810442  0.810442  \n84   0.816339   0.882349  0.785699  0.785699  \n30   0.763790   0.865344  0.705928  0.705928  \n165  0.752996   0.822676  0.732586  0.732586  \n111  0.734942   0.729508  0.729508  0.729508  ",
      "text/html": "<div>\n<style scoped>\n    .dataframe tbody tr th:only-of-type {\n        vertical-align: middle;\n    }\n\n    .dataframe tbody tr th {\n        vertical-align: top;\n    }\n\n    .dataframe thead th {\n        text-align: right;\n    }\n</style>\n<table border=\"1\" class=\"dataframe\">\n  <thead>\n    <tr style=\"text-align: right;\">\n      <th></th>\n      <th>model_name</th>\n      <th>sensor_pos</th>\n      <th>sensor_type</th>\n      <th>features</th>\n      <th>f1_score</th>\n      <th>precision</th>\n      <th>recall</th>\n      <th>accuracy</th>\n    </tr>\n  </thead>\n  <tbody>\n    <tr>\n      <th>138</th>\n      <td>RandomForest</td>\n      <td>all</td>\n      <td>both</td>\n      <td>all</td>\n      <td>0.840139</td>\n      <td>0.932652</td>\n      <td>0.844516</td>\n      <td>0.844516</td>\n    </tr>\n    <tr>\n      <th>57</th>\n      <td>K-NearestNeighbors</td>\n      <td>all</td>\n      <td>both</td>\n      <td>all</td>\n      <td>0.829769</td>\n      <td>0.892736</td>\n      <td>0.799216</td>\n      <td>0.799216</td>\n    </tr>\n    <tr>\n      <th>3</th>\n      <td>DecisionTree</td>\n      <td>all</td>\n      <td>both</td>\n      <td>all</td>\n      <td>0.825577</td>\n      <td>0.907984</td>\n      <td>0.810442</td>\n      <td>0.810442</td>\n    </tr>\n    <tr>\n      <th>84</th>\n      <td>K-NearestNeighbors_DynamicTimeWrapping</td>\n      <td>all</td>\n      <td>both</td>\n      <td>all</td>\n      <td>0.816339</td>\n      <td>0.882349</td>\n      <td>0.785699</td>\n      <td>0.785699</td>\n    </tr>\n    <tr>\n      <th>30</th>\n      <td>GaussianNaiveBayes</td>\n      <td>all</td>\n      <td>both</td>\n      <td>all</td>\n      <td>0.763790</td>\n      <td>0.865344</td>\n      <td>0.705928</td>\n      <td>0.705928</td>\n    </tr>\n    <tr>\n      <th>165</th>\n      <td>SupportVectorsMachine</td>\n      <td>all</td>\n      <td>both</td>\n      <td>all</td>\n      <td>0.752996</td>\n      <td>0.822676</td>\n      <td>0.732586</td>\n      <td>0.732586</td>\n    </tr>\n    <tr>\n      <th>111</th>\n      <td>LSTM</td>\n      <td>all</td>\n      <td>both</td>\n      <td>all</td>\n      <td>0.734942</td>\n      <td>0.729508</td>\n      <td>0.729508</td>\n      <td>0.729508</td>\n    </tr>\n  </tbody>\n</table>\n</div>"
     },
     "execution_count": 29,
     "metadata": {},
     "output_type": "execute_result"
    }
   ],
   "source": [
    "both_all_all = results_df.loc[(results_df['sensor_type'] == 'both') & \n",
    "                                (results_df['sensor_pos'] == 'all') & \n",
    "                                (results_df['features'] == 'all')]\n",
    "both_all_all.sort_values(by=['f1_score'], ascending=False)"
   ]
  },
  {
   "cell_type": "markdown",
   "metadata": {},
   "source": [
    "### Total Number of Experiments"
   ]
  },
  {
   "cell_type": "code",
   "execution_count": 30,
   "metadata": {},
   "outputs": [
    {
     "data": {
      "text/plain": "189"
     },
     "execution_count": 30,
     "metadata": {},
     "output_type": "execute_result"
    }
   ],
   "source": [
    "len(results_df)"
   ]
  },
  {
   "cell_type": "markdown",
   "metadata": {},
   "source": [
    "### Top Experiment"
   ]
  },
  {
   "cell_type": "code",
   "execution_count": 31,
   "metadata": {},
   "outputs": [
    {
     "data": {
      "text/plain": "       model_name sensor_pos sensor_type features  f1_score  precision  \\\n159  RandomForest      shank        gyro      all  0.912248   0.937895   \n\n       recall  accuracy  \n159  0.904108  0.904108  ",
      "text/html": "<div>\n<style scoped>\n    .dataframe tbody tr th:only-of-type {\n        vertical-align: middle;\n    }\n\n    .dataframe tbody tr th {\n        vertical-align: top;\n    }\n\n    .dataframe thead th {\n        text-align: right;\n    }\n</style>\n<table border=\"1\" class=\"dataframe\">\n  <thead>\n    <tr style=\"text-align: right;\">\n      <th></th>\n      <th>model_name</th>\n      <th>sensor_pos</th>\n      <th>sensor_type</th>\n      <th>features</th>\n      <th>f1_score</th>\n      <th>precision</th>\n      <th>recall</th>\n      <th>accuracy</th>\n    </tr>\n  </thead>\n  <tbody>\n    <tr>\n      <th>159</th>\n      <td>RandomForest</td>\n      <td>shank</td>\n      <td>gyro</td>\n      <td>all</td>\n      <td>0.912248</td>\n      <td>0.937895</td>\n      <td>0.904108</td>\n      <td>0.904108</td>\n    </tr>\n  </tbody>\n</table>\n</div>"
     },
     "execution_count": 31,
     "metadata": {},
     "output_type": "execute_result"
    }
   ],
   "source": [
    "results_df.loc[results_df.f1_score == results_df.f1_score.max()]"
   ]
  },
  {
   "cell_type": "markdown",
   "metadata": {},
   "source": [
    "### Worst Experiment"
   ]
  },
  {
   "cell_type": "code",
   "execution_count": 32,
   "metadata": {},
   "outputs": [
    {
     "data": {
      "text/plain": "    model_name sensor_pos sensor_type features  f1_score  precision    recall  \\\n134       LSTM      shank        gyro     stat  0.591626   0.595542  0.595542   \n\n     accuracy  \n134  0.595542  ",
      "text/html": "<div>\n<style scoped>\n    .dataframe tbody tr th:only-of-type {\n        vertical-align: middle;\n    }\n\n    .dataframe tbody tr th {\n        vertical-align: top;\n    }\n\n    .dataframe thead th {\n        text-align: right;\n    }\n</style>\n<table border=\"1\" class=\"dataframe\">\n  <thead>\n    <tr style=\"text-align: right;\">\n      <th></th>\n      <th>model_name</th>\n      <th>sensor_pos</th>\n      <th>sensor_type</th>\n      <th>features</th>\n      <th>f1_score</th>\n      <th>precision</th>\n      <th>recall</th>\n      <th>accuracy</th>\n    </tr>\n  </thead>\n  <tbody>\n    <tr>\n      <th>134</th>\n      <td>LSTM</td>\n      <td>shank</td>\n      <td>gyro</td>\n      <td>stat</td>\n      <td>0.591626</td>\n      <td>0.595542</td>\n      <td>0.595542</td>\n      <td>0.595542</td>\n    </tr>\n  </tbody>\n</table>\n</div>"
     },
     "execution_count": 32,
     "metadata": {},
     "output_type": "execute_result"
    }
   ],
   "source": [
    "results_df.loc[results_df.f1_score == results_df.f1_score.min()]"
   ]
  },
  {
   "cell_type": "markdown",
   "metadata": {},
   "source": [
    "### Top 10 Experiments"
   ]
  },
  {
   "cell_type": "code",
   "execution_count": 33,
   "metadata": {},
   "outputs": [
    {
     "data": {
      "text/plain": "       model_name sensor_pos sensor_type features  f1_score  precision  \\\n159  RandomForest      shank        gyro      all  0.912248   0.937895   \n160  RandomForest      shank        gyro     freq  0.908682   0.937864   \n156  RandomForest      shank        both      all  0.906278   0.939145   \n157  RandomForest      shank        both     freq  0.905976   0.937509   \n139  RandomForest        all        both     freq  0.904562   0.941210   \n142  RandomForest        all        gyro     freq  0.904259   0.938228   \n25   DecisionTree      shank        gyro     freq  0.899764   0.933456   \n7    DecisionTree        all        gyro     freq  0.898933   0.934725   \n141  RandomForest        all        gyro      all  0.893470   0.933678   \n22   DecisionTree      shank        both     freq  0.890499   0.927241   \n\n       recall  accuracy  \n159  0.904108  0.904108  \n160  0.896012  0.896012  \n156  0.898381  0.898381  \n157  0.893532  0.893532  \n139  0.892272  0.892272  \n142  0.892052  0.892052  \n25   0.878707  0.878707  \n7    0.876860  0.876860  \n141  0.883481  0.883481  \n22   0.869574  0.869574  ",
      "text/html": "<div>\n<style scoped>\n    .dataframe tbody tr th:only-of-type {\n        vertical-align: middle;\n    }\n\n    .dataframe tbody tr th {\n        vertical-align: top;\n    }\n\n    .dataframe thead th {\n        text-align: right;\n    }\n</style>\n<table border=\"1\" class=\"dataframe\">\n  <thead>\n    <tr style=\"text-align: right;\">\n      <th></th>\n      <th>model_name</th>\n      <th>sensor_pos</th>\n      <th>sensor_type</th>\n      <th>features</th>\n      <th>f1_score</th>\n      <th>precision</th>\n      <th>recall</th>\n      <th>accuracy</th>\n    </tr>\n  </thead>\n  <tbody>\n    <tr>\n      <th>159</th>\n      <td>RandomForest</td>\n      <td>shank</td>\n      <td>gyro</td>\n      <td>all</td>\n      <td>0.912248</td>\n      <td>0.937895</td>\n      <td>0.904108</td>\n      <td>0.904108</td>\n    </tr>\n    <tr>\n      <th>160</th>\n      <td>RandomForest</td>\n      <td>shank</td>\n      <td>gyro</td>\n      <td>freq</td>\n      <td>0.908682</td>\n      <td>0.937864</td>\n      <td>0.896012</td>\n      <td>0.896012</td>\n    </tr>\n    <tr>\n      <th>156</th>\n      <td>RandomForest</td>\n      <td>shank</td>\n      <td>both</td>\n      <td>all</td>\n      <td>0.906278</td>\n      <td>0.939145</td>\n      <td>0.898381</td>\n      <td>0.898381</td>\n    </tr>\n    <tr>\n      <th>157</th>\n      <td>RandomForest</td>\n      <td>shank</td>\n      <td>both</td>\n      <td>freq</td>\n      <td>0.905976</td>\n      <td>0.937509</td>\n      <td>0.893532</td>\n      <td>0.893532</td>\n    </tr>\n    <tr>\n      <th>139</th>\n      <td>RandomForest</td>\n      <td>all</td>\n      <td>both</td>\n      <td>freq</td>\n      <td>0.904562</td>\n      <td>0.941210</td>\n      <td>0.892272</td>\n      <td>0.892272</td>\n    </tr>\n    <tr>\n      <th>142</th>\n      <td>RandomForest</td>\n      <td>all</td>\n      <td>gyro</td>\n      <td>freq</td>\n      <td>0.904259</td>\n      <td>0.938228</td>\n      <td>0.892052</td>\n      <td>0.892052</td>\n    </tr>\n    <tr>\n      <th>25</th>\n      <td>DecisionTree</td>\n      <td>shank</td>\n      <td>gyro</td>\n      <td>freq</td>\n      <td>0.899764</td>\n      <td>0.933456</td>\n      <td>0.878707</td>\n      <td>0.878707</td>\n    </tr>\n    <tr>\n      <th>7</th>\n      <td>DecisionTree</td>\n      <td>all</td>\n      <td>gyro</td>\n      <td>freq</td>\n      <td>0.898933</td>\n      <td>0.934725</td>\n      <td>0.876860</td>\n      <td>0.876860</td>\n    </tr>\n    <tr>\n      <th>141</th>\n      <td>RandomForest</td>\n      <td>all</td>\n      <td>gyro</td>\n      <td>all</td>\n      <td>0.893470</td>\n      <td>0.933678</td>\n      <td>0.883481</td>\n      <td>0.883481</td>\n    </tr>\n    <tr>\n      <th>22</th>\n      <td>DecisionTree</td>\n      <td>shank</td>\n      <td>both</td>\n      <td>freq</td>\n      <td>0.890499</td>\n      <td>0.927241</td>\n      <td>0.869574</td>\n      <td>0.869574</td>\n    </tr>\n  </tbody>\n</table>\n</div>"
     },
     "execution_count": 33,
     "metadata": {},
     "output_type": "execute_result"
    }
   ],
   "source": [
    "results_df.sort_values(by=['f1_score'], ascending=False).head(10)"
   ]
  },
  {
   "cell_type": "markdown",
   "metadata": {},
   "source": [
    "### Worst 10 Experiments"
   ]
  },
  {
   "cell_type": "code",
   "execution_count": 34,
   "metadata": {},
   "outputs": [
    {
     "data": {
      "text/plain": "                model_name sensor_pos sensor_type features  f1_score  \\\n134                   LSTM      shank        gyro     stat  0.591626   \n182  SupportVectorsMachine      shank         acc     stat  0.642990   \n37      GaussianNaiveBayes       feet         acc     freq  0.669489   \n125                   LSTM       feet        gyro     stat  0.670536   \n146           RandomForest       feet         acc     stat  0.676017   \n47      GaussianNaiveBayes      shank         acc     stat  0.680728   \n46      GaussianNaiveBayes      shank         acc     freq  0.686277   \n11            DecisionTree       feet         acc     stat  0.686898   \n129                   LSTM      shank        both      all  0.687877   \n28      GaussianNaiveBayes        all         acc     freq  0.688931   \n\n     precision    recall  accuracy  \n134   0.595542  0.595542  0.595542  \n182   0.808332  0.588220  0.588220  \n37    0.897522  0.596516  0.596516  \n125   0.666653  0.666653  0.666653  \n146   0.654057  0.728250  0.728250  \n47    0.794244  0.662724  0.662724  \n46    0.859335  0.629862  0.629862  \n11    0.789387  0.694897  0.694897  \n129   0.683689  0.683689  0.683689  \n28    0.891731  0.616777  0.616777  ",
      "text/html": "<div>\n<style scoped>\n    .dataframe tbody tr th:only-of-type {\n        vertical-align: middle;\n    }\n\n    .dataframe tbody tr th {\n        vertical-align: top;\n    }\n\n    .dataframe thead th {\n        text-align: right;\n    }\n</style>\n<table border=\"1\" class=\"dataframe\">\n  <thead>\n    <tr style=\"text-align: right;\">\n      <th></th>\n      <th>model_name</th>\n      <th>sensor_pos</th>\n      <th>sensor_type</th>\n      <th>features</th>\n      <th>f1_score</th>\n      <th>precision</th>\n      <th>recall</th>\n      <th>accuracy</th>\n    </tr>\n  </thead>\n  <tbody>\n    <tr>\n      <th>134</th>\n      <td>LSTM</td>\n      <td>shank</td>\n      <td>gyro</td>\n      <td>stat</td>\n      <td>0.591626</td>\n      <td>0.595542</td>\n      <td>0.595542</td>\n      <td>0.595542</td>\n    </tr>\n    <tr>\n      <th>182</th>\n      <td>SupportVectorsMachine</td>\n      <td>shank</td>\n      <td>acc</td>\n      <td>stat</td>\n      <td>0.642990</td>\n      <td>0.808332</td>\n      <td>0.588220</td>\n      <td>0.588220</td>\n    </tr>\n    <tr>\n      <th>37</th>\n      <td>GaussianNaiveBayes</td>\n      <td>feet</td>\n      <td>acc</td>\n      <td>freq</td>\n      <td>0.669489</td>\n      <td>0.897522</td>\n      <td>0.596516</td>\n      <td>0.596516</td>\n    </tr>\n    <tr>\n      <th>125</th>\n      <td>LSTM</td>\n      <td>feet</td>\n      <td>gyro</td>\n      <td>stat</td>\n      <td>0.670536</td>\n      <td>0.666653</td>\n      <td>0.666653</td>\n      <td>0.666653</td>\n    </tr>\n    <tr>\n      <th>146</th>\n      <td>RandomForest</td>\n      <td>feet</td>\n      <td>acc</td>\n      <td>stat</td>\n      <td>0.676017</td>\n      <td>0.654057</td>\n      <td>0.728250</td>\n      <td>0.728250</td>\n    </tr>\n    <tr>\n      <th>47</th>\n      <td>GaussianNaiveBayes</td>\n      <td>shank</td>\n      <td>acc</td>\n      <td>stat</td>\n      <td>0.680728</td>\n      <td>0.794244</td>\n      <td>0.662724</td>\n      <td>0.662724</td>\n    </tr>\n    <tr>\n      <th>46</th>\n      <td>GaussianNaiveBayes</td>\n      <td>shank</td>\n      <td>acc</td>\n      <td>freq</td>\n      <td>0.686277</td>\n      <td>0.859335</td>\n      <td>0.629862</td>\n      <td>0.629862</td>\n    </tr>\n    <tr>\n      <th>11</th>\n      <td>DecisionTree</td>\n      <td>feet</td>\n      <td>acc</td>\n      <td>stat</td>\n      <td>0.686898</td>\n      <td>0.789387</td>\n      <td>0.694897</td>\n      <td>0.694897</td>\n    </tr>\n    <tr>\n      <th>129</th>\n      <td>LSTM</td>\n      <td>shank</td>\n      <td>both</td>\n      <td>all</td>\n      <td>0.687877</td>\n      <td>0.683689</td>\n      <td>0.683689</td>\n      <td>0.683689</td>\n    </tr>\n    <tr>\n      <th>28</th>\n      <td>GaussianNaiveBayes</td>\n      <td>all</td>\n      <td>acc</td>\n      <td>freq</td>\n      <td>0.688931</td>\n      <td>0.891731</td>\n      <td>0.616777</td>\n      <td>0.616777</td>\n    </tr>\n  </tbody>\n</table>\n</div>"
     },
     "execution_count": 34,
     "metadata": {},
     "output_type": "execute_result"
    }
   ],
   "source": [
    "results_df.sort_values(by=['f1_score'], ascending=True).head(10)"
   ]
  },
  {
   "cell_type": "markdown",
   "metadata": {},
   "source": [
    "### Best Experiment Scores For Each Model"
   ]
  },
  {
   "cell_type": "code",
   "execution_count": 35,
   "metadata": {},
   "outputs": [
    {
     "data": {
      "text/plain": "                                 model_name sensor_pos sensor_type features  \\\n159                            RandomForest      shank        gyro      all   \n25                             DecisionTree      shank        gyro     freq   \n130                                    LSTM      shank        both     freq   \n75                       K-NearestNeighbors      shank        both      all   \n106  K-NearestNeighbors_DynamicTimeWrapping      shank        gyro     freq   \n35                       GaussianNaiveBayes        all        gyro     stat   \n165                   SupportVectorsMachine        all        both      all   \n\n     f1_score  precision    recall  accuracy  \n159  0.912248   0.937895  0.904108  0.904108  \n25   0.899764   0.933456  0.878707  0.878707  \n130  0.861796   0.862658  0.862658  0.862658  \n75   0.848469   0.904859  0.818173  0.818173  \n106  0.834128   0.895592  0.801317  0.801317  \n35   0.772210   0.848640  0.726982  0.726982  \n165  0.752996   0.822676  0.732586  0.732586  ",
      "text/html": "<div>\n<style scoped>\n    .dataframe tbody tr th:only-of-type {\n        vertical-align: middle;\n    }\n\n    .dataframe tbody tr th {\n        vertical-align: top;\n    }\n\n    .dataframe thead th {\n        text-align: right;\n    }\n</style>\n<table border=\"1\" class=\"dataframe\">\n  <thead>\n    <tr style=\"text-align: right;\">\n      <th></th>\n      <th>model_name</th>\n      <th>sensor_pos</th>\n      <th>sensor_type</th>\n      <th>features</th>\n      <th>f1_score</th>\n      <th>precision</th>\n      <th>recall</th>\n      <th>accuracy</th>\n    </tr>\n  </thead>\n  <tbody>\n    <tr>\n      <th>159</th>\n      <td>RandomForest</td>\n      <td>shank</td>\n      <td>gyro</td>\n      <td>all</td>\n      <td>0.912248</td>\n      <td>0.937895</td>\n      <td>0.904108</td>\n      <td>0.904108</td>\n    </tr>\n    <tr>\n      <th>25</th>\n      <td>DecisionTree</td>\n      <td>shank</td>\n      <td>gyro</td>\n      <td>freq</td>\n      <td>0.899764</td>\n      <td>0.933456</td>\n      <td>0.878707</td>\n      <td>0.878707</td>\n    </tr>\n    <tr>\n      <th>130</th>\n      <td>LSTM</td>\n      <td>shank</td>\n      <td>both</td>\n      <td>freq</td>\n      <td>0.861796</td>\n      <td>0.862658</td>\n      <td>0.862658</td>\n      <td>0.862658</td>\n    </tr>\n    <tr>\n      <th>75</th>\n      <td>K-NearestNeighbors</td>\n      <td>shank</td>\n      <td>both</td>\n      <td>all</td>\n      <td>0.848469</td>\n      <td>0.904859</td>\n      <td>0.818173</td>\n      <td>0.818173</td>\n    </tr>\n    <tr>\n      <th>106</th>\n      <td>K-NearestNeighbors_DynamicTimeWrapping</td>\n      <td>shank</td>\n      <td>gyro</td>\n      <td>freq</td>\n      <td>0.834128</td>\n      <td>0.895592</td>\n      <td>0.801317</td>\n      <td>0.801317</td>\n    </tr>\n    <tr>\n      <th>35</th>\n      <td>GaussianNaiveBayes</td>\n      <td>all</td>\n      <td>gyro</td>\n      <td>stat</td>\n      <td>0.772210</td>\n      <td>0.848640</td>\n      <td>0.726982</td>\n      <td>0.726982</td>\n    </tr>\n    <tr>\n      <th>165</th>\n      <td>SupportVectorsMachine</td>\n      <td>all</td>\n      <td>both</td>\n      <td>all</td>\n      <td>0.752996</td>\n      <td>0.822676</td>\n      <td>0.732586</td>\n      <td>0.732586</td>\n    </tr>\n  </tbody>\n</table>\n</div>"
     },
     "execution_count": 35,
     "metadata": {},
     "output_type": "execute_result"
    }
   ],
   "source": [
    "results_df.loc[results_df.groupby([\"model_name\"])[\"f1_score\"].idxmax()].sort_values(by=['f1_score'], ascending=False)"
   ]
  },
  {
   "cell_type": "markdown",
   "metadata": {},
   "source": [
    "### Worst Experiment Scores For Each Model"
   ]
  },
  {
   "cell_type": "code",
   "execution_count": 36,
   "metadata": {},
   "outputs": [
    {
     "data": {
      "text/plain": "                                 model_name sensor_pos sensor_type features  \\\n92   K-NearestNeighbors_DynamicTimeWrapping       feet         acc     stat   \n65                       K-NearestNeighbors       feet         acc     stat   \n11                             DecisionTree       feet         acc     stat   \n146                            RandomForest       feet         acc     stat   \n37                       GaussianNaiveBayes       feet         acc     freq   \n182                   SupportVectorsMachine      shank         acc     stat   \n134                                    LSTM      shank        gyro     stat   \n\n     f1_score  precision    recall  accuracy  \n92   0.730679   0.876545  0.703023  0.703023  \n65   0.720458   0.863071  0.693548  0.693548  \n11   0.686898   0.789387  0.694897  0.694897  \n146  0.676017   0.654057  0.728250  0.728250  \n37   0.669489   0.897522  0.596516  0.596516  \n182  0.642990   0.808332  0.588220  0.588220  \n134  0.591626   0.595542  0.595542  0.595542  ",
      "text/html": "<div>\n<style scoped>\n    .dataframe tbody tr th:only-of-type {\n        vertical-align: middle;\n    }\n\n    .dataframe tbody tr th {\n        vertical-align: top;\n    }\n\n    .dataframe thead th {\n        text-align: right;\n    }\n</style>\n<table border=\"1\" class=\"dataframe\">\n  <thead>\n    <tr style=\"text-align: right;\">\n      <th></th>\n      <th>model_name</th>\n      <th>sensor_pos</th>\n      <th>sensor_type</th>\n      <th>features</th>\n      <th>f1_score</th>\n      <th>precision</th>\n      <th>recall</th>\n      <th>accuracy</th>\n    </tr>\n  </thead>\n  <tbody>\n    <tr>\n      <th>92</th>\n      <td>K-NearestNeighbors_DynamicTimeWrapping</td>\n      <td>feet</td>\n      <td>acc</td>\n      <td>stat</td>\n      <td>0.730679</td>\n      <td>0.876545</td>\n      <td>0.703023</td>\n      <td>0.703023</td>\n    </tr>\n    <tr>\n      <th>65</th>\n      <td>K-NearestNeighbors</td>\n      <td>feet</td>\n      <td>acc</td>\n      <td>stat</td>\n      <td>0.720458</td>\n      <td>0.863071</td>\n      <td>0.693548</td>\n      <td>0.693548</td>\n    </tr>\n    <tr>\n      <th>11</th>\n      <td>DecisionTree</td>\n      <td>feet</td>\n      <td>acc</td>\n      <td>stat</td>\n      <td>0.686898</td>\n      <td>0.789387</td>\n      <td>0.694897</td>\n      <td>0.694897</td>\n    </tr>\n    <tr>\n      <th>146</th>\n      <td>RandomForest</td>\n      <td>feet</td>\n      <td>acc</td>\n      <td>stat</td>\n      <td>0.676017</td>\n      <td>0.654057</td>\n      <td>0.728250</td>\n      <td>0.728250</td>\n    </tr>\n    <tr>\n      <th>37</th>\n      <td>GaussianNaiveBayes</td>\n      <td>feet</td>\n      <td>acc</td>\n      <td>freq</td>\n      <td>0.669489</td>\n      <td>0.897522</td>\n      <td>0.596516</td>\n      <td>0.596516</td>\n    </tr>\n    <tr>\n      <th>182</th>\n      <td>SupportVectorsMachine</td>\n      <td>shank</td>\n      <td>acc</td>\n      <td>stat</td>\n      <td>0.642990</td>\n      <td>0.808332</td>\n      <td>0.588220</td>\n      <td>0.588220</td>\n    </tr>\n    <tr>\n      <th>134</th>\n      <td>LSTM</td>\n      <td>shank</td>\n      <td>gyro</td>\n      <td>stat</td>\n      <td>0.591626</td>\n      <td>0.595542</td>\n      <td>0.595542</td>\n      <td>0.595542</td>\n    </tr>\n  </tbody>\n</table>\n</div>"
     },
     "execution_count": 36,
     "metadata": {},
     "output_type": "execute_result"
    }
   ],
   "source": [
    "results_df.loc[results_df.groupby([\"model_name\"])[\"f1_score\"].idxmin()].sort_values(by=['f1_score'], ascending=False)"
   ]
  },
  {
   "cell_type": "markdown",
   "metadata": {},
   "source": [
    "## Comparisons"
   ]
  },
  {
   "cell_type": "markdown",
   "metadata": {},
   "source": [
    "### Shank Vs. Feet"
   ]
  },
  {
   "cell_type": "code",
   "execution_count": 37,
   "metadata": {},
   "outputs": [
    {
     "data": {
      "text/plain": "(f1_score     0.795756\n precision    0.863522\n recall       0.771625\n accuracy     0.771625\n dtype: float64,\n f1_score     0.769344\n precision    0.848911\n recall       0.744568\n accuracy     0.744568\n dtype: float64)"
     },
     "execution_count": 37,
     "metadata": {},
     "output_type": "execute_result"
    }
   ],
   "source": [
    "results_df.loc[results_df.sensor_pos == 'shank'].mean(), results_df.loc[results_df.sensor_pos == 'feet'].mean()"
   ]
  },
  {
   "cell_type": "markdown",
   "metadata": {},
   "source": [
    "### Acc Vs. Gyro"
   ]
  },
  {
   "cell_type": "code",
   "execution_count": 38,
   "metadata": {},
   "outputs": [
    {
     "data": {
      "text/plain": "(f1_score     0.767308\n precision    0.855106\n recall       0.743444\n accuracy     0.743444\n dtype: float64,\n f1_score     0.796272\n precision    0.858491\n recall       0.770745\n accuracy     0.770745\n dtype: float64)"
     },
     "execution_count": 38,
     "metadata": {},
     "output_type": "execute_result"
    }
   ],
   "source": [
    "results_df.loc[results_df.sensor_type == 'acc'].mean(), results_df.loc[results_df.sensor_type == 'gyro'].mean()"
   ]
  },
  {
   "cell_type": "markdown",
   "metadata": {},
   "source": [
    "### Stat Vs. Freq"
   ]
  },
  {
   "cell_type": "code",
   "execution_count": 39,
   "metadata": {},
   "outputs": [
    {
     "data": {
      "text/plain": "(f1_score     0.745113\n precision    0.828063\n recall       0.725334\n accuracy     0.725334\n dtype: float64,\n f1_score     0.816847\n precision    0.886331\n recall       0.788381\n accuracy     0.788381\n dtype: float64)"
     },
     "execution_count": 39,
     "metadata": {},
     "output_type": "execute_result"
    }
   ],
   "source": [
    "results_df.loc[results_df.features == 'stat'].mean(), results_df.loc[results_df.features == 'freq'].mean()"
   ]
  },
  {
   "cell_type": "markdown",
   "metadata": {},
   "source": [
    "### KNN Vs. KNN_DTW"
   ]
  },
  {
   "cell_type": "code",
   "execution_count": 40,
   "metadata": {},
   "outputs": [
    {
     "data": {
      "text/plain": "(f1_score     0.808157\n precision    0.888860\n recall       0.777730\n accuracy     0.777730\n dtype: float64,\n f1_score     0.801348\n precision    0.884668\n recall       0.768171\n accuracy     0.768171\n dtype: float64)"
     },
     "execution_count": 40,
     "metadata": {},
     "output_type": "execute_result"
    }
   ],
   "source": [
    "results_df.loc[results_df.model_name == 'K-NearestNeighbors'].mean(), results_df.loc[results_df.model_name == 'K-NearestNeighbors_DynamicTimeWrapping'].mean()\n"
   ]
  },
  {
   "cell_type": "code",
   "execution_count": null,
   "outputs": [],
   "source": [
    "### Random Forest Vs. Decision Tree"
   ],
   "metadata": {
    "collapsed": false,
    "pycharm": {
     "name": "#%%\n"
    }
   }
  },
  {
   "cell_type": "code",
   "execution_count": 41,
   "metadata": {},
   "outputs": [
    {
     "data": {
      "text/plain": "(f1_score     0.828213\n precision    0.890500\n recall       0.831873\n accuracy     0.831873\n dtype: float64,\n f1_score     0.819190\n precision    0.897139\n recall       0.800485\n accuracy     0.800485\n dtype: float64)"
     },
     "execution_count": 41,
     "metadata": {},
     "output_type": "execute_result"
    }
   ],
   "source": [
    "results_df.loc[results_df.model_name == 'RandomForest'].mean(), results_df.loc[results_df.model_name == 'DecisionTree'].mean()\n"
   ]
  },
  {
   "cell_type": "code",
   "execution_count": 41,
   "metadata": {},
   "outputs": [],
   "source": []
  }
 ],
 "metadata": {
  "kernelspec": {
   "display_name": "Python 3",
   "language": "python",
   "name": "python3"
  },
  "language_info": {
   "codemirror_mode": {
    "name": "ipython",
    "version": 3
   },
   "file_extension": ".py",
   "mimetype": "text/x-python",
   "name": "python",
   "nbconvert_exporter": "python",
   "pygments_lexer": "ipython3",
   "version": "3.7.6"
  }
 },
 "nbformat": 4,
 "nbformat_minor": 4
}