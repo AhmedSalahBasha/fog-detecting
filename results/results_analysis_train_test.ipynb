{
 "cells": [
  {
   "cell_type": "code",
   "execution_count": 36,
   "metadata": {
    "collapsed": true
   },
   "outputs": [],
   "source": [
    "import pandas as pd"
   ]
  },
  {
   "cell_type": "markdown",
   "source": [
    "## Train Test Experiments - Results Analysis"
   ],
   "metadata": {
    "collapsed": false,
    "pycharm": {
     "name": "#%% md\n"
    }
   }
  },
  {
   "cell_type": "code",
   "execution_count": 37,
   "outputs": [],
   "source": [
    "df = pd.read_csv('train_test_results.csv', sep=',')\n",
    "results_df = df.loc[df.model_name != 'DecisionTree']\n",
    "results_df = results_df.groupby(['model_name', 'leg', 'sensor_pos', 'sensor_type', 'features'])[['f1_score', 'precision' , 'recall', 'accuracy', 'loss']].mean()\n",
    "results_df = results_df.reset_index()"
   ],
   "metadata": {
    "collapsed": false,
    "pycharm": {
     "name": "#%%\n"
    }
   }
  },
  {
   "cell_type": "markdown",
   "source": [
    "### Total Number of Experiments"
   ],
   "metadata": {
    "collapsed": false
   }
  },
  {
   "cell_type": "code",
   "execution_count": 38,
   "outputs": [
    {
     "data": {
      "text/plain": "486"
     },
     "execution_count": 38,
     "metadata": {},
     "output_type": "execute_result"
    }
   ],
   "source": [
    "len(results_df)"
   ],
   "metadata": {
    "collapsed": false,
    "pycharm": {
     "name": "#%%\n"
    }
   }
  },
  {
   "cell_type": "markdown",
   "source": [
    "### Top Experiment"
   ],
   "metadata": {
    "collapsed": false
   }
  },
  {
   "cell_type": "code",
   "execution_count": 39,
   "outputs": [
    {
     "data": {
      "text/plain": "    model_name   leg sensor_pos sensor_type features  f1_score  precision  \\\n259       LSTM  both       feet        gyro     freq  0.924059   0.923777   \n\n       recall  accuracy      loss  \n259  0.923777  0.923777  0.580624  ",
      "text/html": "<div>\n<style scoped>\n    .dataframe tbody tr th:only-of-type {\n        vertical-align: middle;\n    }\n\n    .dataframe tbody tr th {\n        vertical-align: top;\n    }\n\n    .dataframe thead th {\n        text-align: right;\n    }\n</style>\n<table border=\"1\" class=\"dataframe\">\n  <thead>\n    <tr style=\"text-align: right;\">\n      <th></th>\n      <th>model_name</th>\n      <th>leg</th>\n      <th>sensor_pos</th>\n      <th>sensor_type</th>\n      <th>features</th>\n      <th>f1_score</th>\n      <th>precision</th>\n      <th>recall</th>\n      <th>accuracy</th>\n      <th>loss</th>\n    </tr>\n  </thead>\n  <tbody>\n    <tr>\n      <th>259</th>\n      <td>LSTM</td>\n      <td>both</td>\n      <td>feet</td>\n      <td>gyro</td>\n      <td>freq</td>\n      <td>0.924059</td>\n      <td>0.923777</td>\n      <td>0.923777</td>\n      <td>0.923777</td>\n      <td>0.580624</td>\n    </tr>\n  </tbody>\n</table>\n</div>"
     },
     "execution_count": 39,
     "metadata": {},
     "output_type": "execute_result"
    }
   ],
   "source": [
    "results_df.loc[results_df.f1_score == results_df.f1_score.max()]"
   ],
   "metadata": {
    "collapsed": false,
    "pycharm": {
     "name": "#%%\n"
    }
   }
  },
  {
   "cell_type": "markdown",
   "source": [
    "### Worst Experiment"
   ],
   "metadata": {
    "collapsed": false
   }
  },
  {
   "cell_type": "code",
   "execution_count": 40,
   "outputs": [
    {
     "data": {
      "text/plain": "            model_name    leg sensor_pos sensor_type features  f1_score  \\\n64  GaussianNaiveBayes  right       feet         acc     freq  0.591257   \n\n    precision   recall  accuracy  loss  \n64   0.712795  0.53942   0.53942   NaN  ",
      "text/html": "<div>\n<style scoped>\n    .dataframe tbody tr th:only-of-type {\n        vertical-align: middle;\n    }\n\n    .dataframe tbody tr th {\n        vertical-align: top;\n    }\n\n    .dataframe thead th {\n        text-align: right;\n    }\n</style>\n<table border=\"1\" class=\"dataframe\">\n  <thead>\n    <tr style=\"text-align: right;\">\n      <th></th>\n      <th>model_name</th>\n      <th>leg</th>\n      <th>sensor_pos</th>\n      <th>sensor_type</th>\n      <th>features</th>\n      <th>f1_score</th>\n      <th>precision</th>\n      <th>recall</th>\n      <th>accuracy</th>\n      <th>loss</th>\n    </tr>\n  </thead>\n  <tbody>\n    <tr>\n      <th>64</th>\n      <td>GaussianNaiveBayes</td>\n      <td>right</td>\n      <td>feet</td>\n      <td>acc</td>\n      <td>freq</td>\n      <td>0.591257</td>\n      <td>0.712795</td>\n      <td>0.53942</td>\n      <td>0.53942</td>\n      <td>NaN</td>\n    </tr>\n  </tbody>\n</table>\n</div>"
     },
     "execution_count": 40,
     "metadata": {},
     "output_type": "execute_result"
    }
   ],
   "source": [
    "results_df.loc[results_df.f1_score == results_df.f1_score.min()]"
   ],
   "metadata": {
    "collapsed": false,
    "pycharm": {
     "name": "#%%\n"
    }
   }
  },
  {
   "cell_type": "markdown",
   "source": [
    "### Top 10 Experiments"
   ],
   "metadata": {
    "collapsed": false
   }
  },
  {
   "cell_type": "code",
   "execution_count": 41,
   "outputs": [
    {
     "data": {
      "text/plain": "       model_name    leg sensor_pos sensor_type features  f1_score  precision  \\\n259          LSTM   both       feet        gyro     freq  0.924059   0.923777   \n253          LSTM   both       feet         acc     freq  0.911290   0.910961   \n310          LSTM  right       feet        both     freq  0.906234   0.906239   \n256          LSTM   both       feet        both     freq  0.905914   0.905565   \n262          LSTM   both      shank         acc     freq  0.905242   0.904890   \n289          LSTM   left      shank         acc     freq  0.904906   0.904553   \n403  RandomForest  right      shank        gyro     freq  0.902533   0.903195   \n316          LSTM  right      shank         acc     freq  0.901546   0.901180   \n313          LSTM  right       feet        gyro     freq  0.900538   0.900169   \n271          LSTM   left        all         acc     freq  0.899194   0.898820   \n\n       recall  accuracy      loss  \n259  0.923777  0.923777  0.580624  \n253  0.910961  0.910961  0.452685  \n310  0.906239  0.906239  0.427131  \n256  0.905565  0.905565  0.924978  \n262  0.904890  0.904890  0.533269  \n289  0.904553  0.904553  0.350830  \n403  0.901954  0.901954       NaN  \n316  0.901180  0.901180  0.582462  \n313  0.900169  0.900169  0.467288  \n271  0.898820  0.898820  0.652009  ",
      "text/html": "<div>\n<style scoped>\n    .dataframe tbody tr th:only-of-type {\n        vertical-align: middle;\n    }\n\n    .dataframe tbody tr th {\n        vertical-align: top;\n    }\n\n    .dataframe thead th {\n        text-align: right;\n    }\n</style>\n<table border=\"1\" class=\"dataframe\">\n  <thead>\n    <tr style=\"text-align: right;\">\n      <th></th>\n      <th>model_name</th>\n      <th>leg</th>\n      <th>sensor_pos</th>\n      <th>sensor_type</th>\n      <th>features</th>\n      <th>f1_score</th>\n      <th>precision</th>\n      <th>recall</th>\n      <th>accuracy</th>\n      <th>loss</th>\n    </tr>\n  </thead>\n  <tbody>\n    <tr>\n      <th>259</th>\n      <td>LSTM</td>\n      <td>both</td>\n      <td>feet</td>\n      <td>gyro</td>\n      <td>freq</td>\n      <td>0.924059</td>\n      <td>0.923777</td>\n      <td>0.923777</td>\n      <td>0.923777</td>\n      <td>0.580624</td>\n    </tr>\n    <tr>\n      <th>253</th>\n      <td>LSTM</td>\n      <td>both</td>\n      <td>feet</td>\n      <td>acc</td>\n      <td>freq</td>\n      <td>0.911290</td>\n      <td>0.910961</td>\n      <td>0.910961</td>\n      <td>0.910961</td>\n      <td>0.452685</td>\n    </tr>\n    <tr>\n      <th>310</th>\n      <td>LSTM</td>\n      <td>right</td>\n      <td>feet</td>\n      <td>both</td>\n      <td>freq</td>\n      <td>0.906234</td>\n      <td>0.906239</td>\n      <td>0.906239</td>\n      <td>0.906239</td>\n      <td>0.427131</td>\n    </tr>\n    <tr>\n      <th>256</th>\n      <td>LSTM</td>\n      <td>both</td>\n      <td>feet</td>\n      <td>both</td>\n      <td>freq</td>\n      <td>0.905914</td>\n      <td>0.905565</td>\n      <td>0.905565</td>\n      <td>0.905565</td>\n      <td>0.924978</td>\n    </tr>\n    <tr>\n      <th>262</th>\n      <td>LSTM</td>\n      <td>both</td>\n      <td>shank</td>\n      <td>acc</td>\n      <td>freq</td>\n      <td>0.905242</td>\n      <td>0.904890</td>\n      <td>0.904890</td>\n      <td>0.904890</td>\n      <td>0.533269</td>\n    </tr>\n    <tr>\n      <th>289</th>\n      <td>LSTM</td>\n      <td>left</td>\n      <td>shank</td>\n      <td>acc</td>\n      <td>freq</td>\n      <td>0.904906</td>\n      <td>0.904553</td>\n      <td>0.904553</td>\n      <td>0.904553</td>\n      <td>0.350830</td>\n    </tr>\n    <tr>\n      <th>403</th>\n      <td>RandomForest</td>\n      <td>right</td>\n      <td>shank</td>\n      <td>gyro</td>\n      <td>freq</td>\n      <td>0.902533</td>\n      <td>0.903195</td>\n      <td>0.901954</td>\n      <td>0.901954</td>\n      <td>NaN</td>\n    </tr>\n    <tr>\n      <th>316</th>\n      <td>LSTM</td>\n      <td>right</td>\n      <td>shank</td>\n      <td>acc</td>\n      <td>freq</td>\n      <td>0.901546</td>\n      <td>0.901180</td>\n      <td>0.901180</td>\n      <td>0.901180</td>\n      <td>0.582462</td>\n    </tr>\n    <tr>\n      <th>313</th>\n      <td>LSTM</td>\n      <td>right</td>\n      <td>feet</td>\n      <td>gyro</td>\n      <td>freq</td>\n      <td>0.900538</td>\n      <td>0.900169</td>\n      <td>0.900169</td>\n      <td>0.900169</td>\n      <td>0.467288</td>\n    </tr>\n    <tr>\n      <th>271</th>\n      <td>LSTM</td>\n      <td>left</td>\n      <td>all</td>\n      <td>acc</td>\n      <td>freq</td>\n      <td>0.899194</td>\n      <td>0.898820</td>\n      <td>0.898820</td>\n      <td>0.898820</td>\n      <td>0.652009</td>\n    </tr>\n  </tbody>\n</table>\n</div>"
     },
     "execution_count": 41,
     "metadata": {},
     "output_type": "execute_result"
    }
   ],
   "source": [
    "results_df.sort_values(by=['f1_score'], ascending=False).head(10)"
   ],
   "metadata": {
    "collapsed": false,
    "pycharm": {
     "name": "#%%\n"
    }
   }
  },
  {
   "cell_type": "markdown",
   "source": [
    "### Worst 10 Experiments"
   ],
   "metadata": {
    "collapsed": false
   }
  },
  {
   "cell_type": "code",
   "execution_count": 42,
   "outputs": [
    {
     "data": {
      "text/plain": "            model_name    leg sensor_pos sensor_type features  f1_score  \\\n64  GaussianNaiveBayes  right       feet         acc     freq  0.591257   \n63  GaussianNaiveBayes  right       feet         acc      all  0.594771   \n9   GaussianNaiveBayes   both       feet         acc      all  0.599932   \n65  GaussianNaiveBayes  right       feet         acc     stat  0.603537   \n67  GaussianNaiveBayes  right       feet        both     freq  0.611911   \n54  GaussianNaiveBayes  right        all         acc      all  0.613907   \n27  GaussianNaiveBayes   left        all         acc      all  0.613907   \n0   GaussianNaiveBayes   both        all         acc      all  0.613907   \n1   GaussianNaiveBayes   both        all         acc     freq  0.619599   \n55  GaussianNaiveBayes  right        all         acc     freq  0.619599   \n\n    precision    recall  accuracy  loss  \n64   0.712795  0.539420  0.539420   NaN  \n63   0.654400  0.552224  0.552224   NaN  \n9    0.633267  0.571092  0.571092   NaN  \n65   0.635471  0.575809  0.575809   NaN  \n67   0.674582  0.570081  0.570081   NaN  \n54   0.635282  0.594340  0.594340   NaN  \n27   0.635282  0.594340  0.594340   NaN  \n0    0.635282  0.594340  0.594340   NaN  \n1    0.686072  0.577493  0.577493   NaN  \n55   0.686072  0.577493  0.577493   NaN  ",
      "text/html": "<div>\n<style scoped>\n    .dataframe tbody tr th:only-of-type {\n        vertical-align: middle;\n    }\n\n    .dataframe tbody tr th {\n        vertical-align: top;\n    }\n\n    .dataframe thead th {\n        text-align: right;\n    }\n</style>\n<table border=\"1\" class=\"dataframe\">\n  <thead>\n    <tr style=\"text-align: right;\">\n      <th></th>\n      <th>model_name</th>\n      <th>leg</th>\n      <th>sensor_pos</th>\n      <th>sensor_type</th>\n      <th>features</th>\n      <th>f1_score</th>\n      <th>precision</th>\n      <th>recall</th>\n      <th>accuracy</th>\n      <th>loss</th>\n    </tr>\n  </thead>\n  <tbody>\n    <tr>\n      <th>64</th>\n      <td>GaussianNaiveBayes</td>\n      <td>right</td>\n      <td>feet</td>\n      <td>acc</td>\n      <td>freq</td>\n      <td>0.591257</td>\n      <td>0.712795</td>\n      <td>0.539420</td>\n      <td>0.539420</td>\n      <td>NaN</td>\n    </tr>\n    <tr>\n      <th>63</th>\n      <td>GaussianNaiveBayes</td>\n      <td>right</td>\n      <td>feet</td>\n      <td>acc</td>\n      <td>all</td>\n      <td>0.594771</td>\n      <td>0.654400</td>\n      <td>0.552224</td>\n      <td>0.552224</td>\n      <td>NaN</td>\n    </tr>\n    <tr>\n      <th>9</th>\n      <td>GaussianNaiveBayes</td>\n      <td>both</td>\n      <td>feet</td>\n      <td>acc</td>\n      <td>all</td>\n      <td>0.599932</td>\n      <td>0.633267</td>\n      <td>0.571092</td>\n      <td>0.571092</td>\n      <td>NaN</td>\n    </tr>\n    <tr>\n      <th>65</th>\n      <td>GaussianNaiveBayes</td>\n      <td>right</td>\n      <td>feet</td>\n      <td>acc</td>\n      <td>stat</td>\n      <td>0.603537</td>\n      <td>0.635471</td>\n      <td>0.575809</td>\n      <td>0.575809</td>\n      <td>NaN</td>\n    </tr>\n    <tr>\n      <th>67</th>\n      <td>GaussianNaiveBayes</td>\n      <td>right</td>\n      <td>feet</td>\n      <td>both</td>\n      <td>freq</td>\n      <td>0.611911</td>\n      <td>0.674582</td>\n      <td>0.570081</td>\n      <td>0.570081</td>\n      <td>NaN</td>\n    </tr>\n    <tr>\n      <th>54</th>\n      <td>GaussianNaiveBayes</td>\n      <td>right</td>\n      <td>all</td>\n      <td>acc</td>\n      <td>all</td>\n      <td>0.613907</td>\n      <td>0.635282</td>\n      <td>0.594340</td>\n      <td>0.594340</td>\n      <td>NaN</td>\n    </tr>\n    <tr>\n      <th>27</th>\n      <td>GaussianNaiveBayes</td>\n      <td>left</td>\n      <td>all</td>\n      <td>acc</td>\n      <td>all</td>\n      <td>0.613907</td>\n      <td>0.635282</td>\n      <td>0.594340</td>\n      <td>0.594340</td>\n      <td>NaN</td>\n    </tr>\n    <tr>\n      <th>0</th>\n      <td>GaussianNaiveBayes</td>\n      <td>both</td>\n      <td>all</td>\n      <td>acc</td>\n      <td>all</td>\n      <td>0.613907</td>\n      <td>0.635282</td>\n      <td>0.594340</td>\n      <td>0.594340</td>\n      <td>NaN</td>\n    </tr>\n    <tr>\n      <th>1</th>\n      <td>GaussianNaiveBayes</td>\n      <td>both</td>\n      <td>all</td>\n      <td>acc</td>\n      <td>freq</td>\n      <td>0.619599</td>\n      <td>0.686072</td>\n      <td>0.577493</td>\n      <td>0.577493</td>\n      <td>NaN</td>\n    </tr>\n    <tr>\n      <th>55</th>\n      <td>GaussianNaiveBayes</td>\n      <td>right</td>\n      <td>all</td>\n      <td>acc</td>\n      <td>freq</td>\n      <td>0.619599</td>\n      <td>0.686072</td>\n      <td>0.577493</td>\n      <td>0.577493</td>\n      <td>NaN</td>\n    </tr>\n  </tbody>\n</table>\n</div>"
     },
     "execution_count": 42,
     "metadata": {},
     "output_type": "execute_result"
    }
   ],
   "source": [
    "results_df.sort_values(by=['f1_score'], ascending=True).head(10)"
   ],
   "metadata": {
    "collapsed": false,
    "pycharm": {
     "name": "#%%\n"
    }
   }
  },
  {
   "cell_type": "markdown",
   "source": [
    "### Best Experiment Scores For Each Model"
   ],
   "metadata": {
    "collapsed": false
   }
  },
  {
   "cell_type": "code",
   "execution_count": 43,
   "outputs": [
    {
     "data": {
      "text/plain": "                                 model_name    leg sensor_pos sensor_type  \\\n259                                    LSTM   both       feet        gyro   \n403                            RandomForest  right      shank        gyro   \n442                   SupportVectorsMachine   left       feet         acc   \n104                      K-NearestNeighbors   both      shank        both   \n199  K-NearestNeighbors_DynamicTimeWrapping   left       feet         acc   \n46                       GaussianNaiveBayes   left      shank         acc   \n\n    features  f1_score  precision    recall  accuracy      loss  \n259     freq  0.924059   0.923777  0.923777  0.923777  0.580624  \n403     freq  0.902533   0.903195  0.901954  0.901954       NaN  \n442     freq  0.891821   0.890557  0.893868  0.893868       NaN  \n104     stat  0.834497   0.834520  0.850741  0.850741       NaN  \n199     freq  0.823955   0.826861  0.821429  0.821429       NaN  \n46      freq  0.724099   0.732041  0.716981  0.716981       NaN  ",
      "text/html": "<div>\n<style scoped>\n    .dataframe tbody tr th:only-of-type {\n        vertical-align: middle;\n    }\n\n    .dataframe tbody tr th {\n        vertical-align: top;\n    }\n\n    .dataframe thead th {\n        text-align: right;\n    }\n</style>\n<table border=\"1\" class=\"dataframe\">\n  <thead>\n    <tr style=\"text-align: right;\">\n      <th></th>\n      <th>model_name</th>\n      <th>leg</th>\n      <th>sensor_pos</th>\n      <th>sensor_type</th>\n      <th>features</th>\n      <th>f1_score</th>\n      <th>precision</th>\n      <th>recall</th>\n      <th>accuracy</th>\n      <th>loss</th>\n    </tr>\n  </thead>\n  <tbody>\n    <tr>\n      <th>259</th>\n      <td>LSTM</td>\n      <td>both</td>\n      <td>feet</td>\n      <td>gyro</td>\n      <td>freq</td>\n      <td>0.924059</td>\n      <td>0.923777</td>\n      <td>0.923777</td>\n      <td>0.923777</td>\n      <td>0.580624</td>\n    </tr>\n    <tr>\n      <th>403</th>\n      <td>RandomForest</td>\n      <td>right</td>\n      <td>shank</td>\n      <td>gyro</td>\n      <td>freq</td>\n      <td>0.902533</td>\n      <td>0.903195</td>\n      <td>0.901954</td>\n      <td>0.901954</td>\n      <td>NaN</td>\n    </tr>\n    <tr>\n      <th>442</th>\n      <td>SupportVectorsMachine</td>\n      <td>left</td>\n      <td>feet</td>\n      <td>acc</td>\n      <td>freq</td>\n      <td>0.891821</td>\n      <td>0.890557</td>\n      <td>0.893868</td>\n      <td>0.893868</td>\n      <td>NaN</td>\n    </tr>\n    <tr>\n      <th>104</th>\n      <td>K-NearestNeighbors</td>\n      <td>both</td>\n      <td>shank</td>\n      <td>both</td>\n      <td>stat</td>\n      <td>0.834497</td>\n      <td>0.834520</td>\n      <td>0.850741</td>\n      <td>0.850741</td>\n      <td>NaN</td>\n    </tr>\n    <tr>\n      <th>199</th>\n      <td>K-NearestNeighbors_DynamicTimeWrapping</td>\n      <td>left</td>\n      <td>feet</td>\n      <td>acc</td>\n      <td>freq</td>\n      <td>0.823955</td>\n      <td>0.826861</td>\n      <td>0.821429</td>\n      <td>0.821429</td>\n      <td>NaN</td>\n    </tr>\n    <tr>\n      <th>46</th>\n      <td>GaussianNaiveBayes</td>\n      <td>left</td>\n      <td>shank</td>\n      <td>acc</td>\n      <td>freq</td>\n      <td>0.724099</td>\n      <td>0.732041</td>\n      <td>0.716981</td>\n      <td>0.716981</td>\n      <td>NaN</td>\n    </tr>\n  </tbody>\n</table>\n</div>"
     },
     "execution_count": 43,
     "metadata": {},
     "output_type": "execute_result"
    }
   ],
   "source": [
    "results_df.loc[results_df.groupby([\"model_name\"])[\"f1_score\"].idxmax()].sort_values(by=['f1_score'], ascending=False)"
   ],
   "metadata": {
    "collapsed": false,
    "pycharm": {
     "name": "#%%\n"
    }
   }
  },
  {
   "cell_type": "markdown",
   "source": [
    "### Worst Experiment Scores For Each Model"
   ],
   "metadata": {
    "collapsed": false
   }
  },
  {
   "cell_type": "code",
   "execution_count": 44,
   "outputs": [
    {
     "data": {
      "text/plain": "                                 model_name    leg sensor_pos sensor_type  \\\n314                                    LSTM  right       feet        gyro   \n134                      K-NearestNeighbors   left      shank        gyro   \n233  K-NearestNeighbors_DynamicTimeWrapping  right       feet        gyro   \n479                   SupportVectorsMachine  right      shank         acc   \n332                            RandomForest   both        all        gyro   \n64                       GaussianNaiveBayes  right       feet         acc   \n\n    features  f1_score  precision    recall  accuracy      loss  \n314     stat  0.714366   0.713659  0.713659  0.713659  0.950945  \n134     stat  0.709667   0.684744  0.740903  0.740903       NaN  \n233     stat  0.704220   0.685181  0.726752  0.726752       NaN  \n479     stat  0.703318   0.671682  0.741914  0.741914       NaN  \n332     stat  0.688535   0.658474  0.722709  0.722709       NaN  \n64      freq  0.591257   0.712795  0.539420  0.539420       NaN  ",
      "text/html": "<div>\n<style scoped>\n    .dataframe tbody tr th:only-of-type {\n        vertical-align: middle;\n    }\n\n    .dataframe tbody tr th {\n        vertical-align: top;\n    }\n\n    .dataframe thead th {\n        text-align: right;\n    }\n</style>\n<table border=\"1\" class=\"dataframe\">\n  <thead>\n    <tr style=\"text-align: right;\">\n      <th></th>\n      <th>model_name</th>\n      <th>leg</th>\n      <th>sensor_pos</th>\n      <th>sensor_type</th>\n      <th>features</th>\n      <th>f1_score</th>\n      <th>precision</th>\n      <th>recall</th>\n      <th>accuracy</th>\n      <th>loss</th>\n    </tr>\n  </thead>\n  <tbody>\n    <tr>\n      <th>314</th>\n      <td>LSTM</td>\n      <td>right</td>\n      <td>feet</td>\n      <td>gyro</td>\n      <td>stat</td>\n      <td>0.714366</td>\n      <td>0.713659</td>\n      <td>0.713659</td>\n      <td>0.713659</td>\n      <td>0.950945</td>\n    </tr>\n    <tr>\n      <th>134</th>\n      <td>K-NearestNeighbors</td>\n      <td>left</td>\n      <td>shank</td>\n      <td>gyro</td>\n      <td>stat</td>\n      <td>0.709667</td>\n      <td>0.684744</td>\n      <td>0.740903</td>\n      <td>0.740903</td>\n      <td>NaN</td>\n    </tr>\n    <tr>\n      <th>233</th>\n      <td>K-NearestNeighbors_DynamicTimeWrapping</td>\n      <td>right</td>\n      <td>feet</td>\n      <td>gyro</td>\n      <td>stat</td>\n      <td>0.704220</td>\n      <td>0.685181</td>\n      <td>0.726752</td>\n      <td>0.726752</td>\n      <td>NaN</td>\n    </tr>\n    <tr>\n      <th>479</th>\n      <td>SupportVectorsMachine</td>\n      <td>right</td>\n      <td>shank</td>\n      <td>acc</td>\n      <td>stat</td>\n      <td>0.703318</td>\n      <td>0.671682</td>\n      <td>0.741914</td>\n      <td>0.741914</td>\n      <td>NaN</td>\n    </tr>\n    <tr>\n      <th>332</th>\n      <td>RandomForest</td>\n      <td>both</td>\n      <td>all</td>\n      <td>gyro</td>\n      <td>stat</td>\n      <td>0.688535</td>\n      <td>0.658474</td>\n      <td>0.722709</td>\n      <td>0.722709</td>\n      <td>NaN</td>\n    </tr>\n    <tr>\n      <th>64</th>\n      <td>GaussianNaiveBayes</td>\n      <td>right</td>\n      <td>feet</td>\n      <td>acc</td>\n      <td>freq</td>\n      <td>0.591257</td>\n      <td>0.712795</td>\n      <td>0.539420</td>\n      <td>0.539420</td>\n      <td>NaN</td>\n    </tr>\n  </tbody>\n</table>\n</div>"
     },
     "execution_count": 44,
     "metadata": {},
     "output_type": "execute_result"
    }
   ],
   "source": [
    "results_df.loc[results_df.groupby([\"model_name\"])[\"f1_score\"].idxmin()].sort_values(by=['f1_score'], ascending=False)"
   ],
   "metadata": {
    "collapsed": false,
    "pycharm": {
     "name": "#%%\n"
    }
   }
  },
  {
   "cell_type": "markdown",
   "source": [
    "## Comparisons"
   ],
   "metadata": {
    "collapsed": false,
    "pycharm": {
     "name": "#%% md\n"
    }
   }
  },
  {
   "cell_type": "markdown",
   "source": [
    "### Shank Vs. Feet"
   ],
   "metadata": {
    "collapsed": false
   }
  },
  {
   "cell_type": "code",
   "execution_count": 45,
   "outputs": [
    {
     "data": {
      "text/plain": "(f1_score     0.781167\n precision    0.777346\n recall       0.793752\n accuracy     0.793752\n loss         1.111634\n dtype: float64,\n f1_score     0.759262\n precision    0.758231\n recall       0.765526\n accuracy     0.765526\n loss         0.915436\n dtype: float64)"
     },
     "execution_count": 45,
     "metadata": {},
     "output_type": "execute_result"
    }
   ],
   "source": [
    "results_df.loc[results_df.sensor_pos == 'shank'].mean(), results_df.loc[results_df.sensor_pos == 'feet'].mean()"
   ],
   "metadata": {
    "collapsed": false,
    "pycharm": {
     "name": "#%%\n"
    }
   }
  },
  {
   "cell_type": "markdown",
   "source": [
    "### Acc Vs. Gyro"
   ],
   "metadata": {
    "collapsed": false
   }
  },
  {
   "cell_type": "code",
   "execution_count": 46,
   "outputs": [
    {
     "data": {
      "text/plain": "(f1_score     0.775710\n precision    0.777083\n recall       0.783696\n accuracy     0.783696\n loss         1.084933\n dtype: float64,\n f1_score     0.755558\n precision    0.748144\n recall       0.767143\n accuracy     0.767143\n loss         1.319164\n dtype: float64)"
     },
     "execution_count": 46,
     "metadata": {},
     "output_type": "execute_result"
    }
   ],
   "source": [
    "results_df.loc[results_df.sensor_type == 'acc'].mean(), results_df.loc[results_df.sensor_type == 'gyro'].mean()"
   ],
   "metadata": {
    "collapsed": false,
    "pycharm": {
     "name": "#%%\n"
    }
   }
  },
  {
   "cell_type": "markdown",
   "source": [
    "### Stat Vs. Freq"
   ],
   "metadata": {
    "collapsed": false
   }
  },
  {
   "cell_type": "code",
   "execution_count": 47,
   "outputs": [
    {
     "data": {
      "text/plain": "(f1_score     0.742923\n precision    0.730370\n recall       0.763991\n accuracy     0.763991\n loss         1.408133\n dtype: float64,\n f1_score     0.797285\n precision    0.802985\n recall       0.796542\n accuracy     0.796542\n loss         0.836637\n dtype: float64)"
     },
     "execution_count": 47,
     "metadata": {},
     "output_type": "execute_result"
    }
   ],
   "source": [
    "results_df.loc[results_df.features == 'stat'].mean(), results_df.loc[results_df.features == 'freq'].mean()"
   ],
   "metadata": {
    "collapsed": false,
    "pycharm": {
     "name": "#%%\n"
    }
   }
  },
  {
   "cell_type": "markdown",
   "source": [
    "### KNN Vs. KNN_DTW"
   ],
   "metadata": {
    "collapsed": false
   }
  },
  {
   "cell_type": "code",
   "execution_count": 48,
   "outputs": [
    {
     "data": {
      "text/plain": "(f1_score     0.780435\n precision    0.772673\n recall       0.794799\n accuracy     0.794799\n loss              NaN\n dtype: float64,\n f1_score     0.759646\n precision    0.750660\n recall       0.773231\n accuracy     0.773231\n loss              NaN\n dtype: float64)"
     },
     "execution_count": 48,
     "metadata": {},
     "output_type": "execute_result"
    }
   ],
   "source": [
    "results_df.loc[results_df.model_name == 'K-NearestNeighbors'].mean(), results_df.loc[results_df.model_name == 'K-NearestNeighbors_DynamicTimeWrapping'].mean()\n"
   ],
   "metadata": {
    "collapsed": false,
    "pycharm": {
     "name": "#%%\n"
    }
   }
  },
  {
   "cell_type": "markdown",
   "source": [
    "### Right Vs. Left Leg\n",
    "\n"
   ],
   "metadata": {
    "collapsed": false
   }
  },
  {
   "cell_type": "code",
   "execution_count": 50,
   "outputs": [
    {
     "data": {
      "text/plain": "(f1_score     0.772800\n precision    0.769821\n recall       0.783047\n accuracy     0.783047\n loss         1.242128\n dtype: float64,\n f1_score     0.768407\n precision    0.766577\n recall       0.777983\n accuracy     0.777983\n loss         1.249164\n dtype: float64,\n f1_score     0.774330\n precision    0.771229\n recall       0.784842\n accuracy     0.784842\n loss         1.528727\n dtype: float64)"
     },
     "execution_count": 50,
     "metadata": {},
     "output_type": "execute_result"
    }
   ],
   "source": [
    "results_df.loc[results_df.leg == 'left'].mean(), results_df.loc[results_df.leg == 'right'].mean(), results_df.loc[results_df.leg == 'both'].mean()\n",
    "\n"
   ],
   "metadata": {
    "collapsed": false,
    "pycharm": {
     "name": "#%%\n"
    }
   }
  },
  {
   "cell_type": "code",
   "execution_count": null,
   "outputs": [],
   "source": [],
   "metadata": {
    "collapsed": false,
    "pycharm": {
     "name": "#%%\n"
    }
   }
  }
 ],
 "metadata": {
  "kernelspec": {
   "display_name": "Python 3",
   "language": "python",
   "name": "python3"
  },
  "language_info": {
   "codemirror_mode": {
    "name": "ipython",
    "version": 2
   },
   "file_extension": ".py",
   "mimetype": "text/x-python",
   "name": "python",
   "nbconvert_exporter": "python",
   "pygments_lexer": "ipython2",
   "version": "2.7.6"
  }
 },
 "nbformat": 4,
 "nbformat_minor": 0
}