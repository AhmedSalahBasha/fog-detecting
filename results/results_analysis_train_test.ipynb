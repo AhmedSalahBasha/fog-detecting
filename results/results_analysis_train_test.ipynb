{
 "cells": [
  {
   "cell_type": "code",
   "execution_count": 2,
   "metadata": {
    "collapsed": true
   },
   "outputs": [],
   "source": [
    "import pandas as pd"
   ]
  },
  {
   "cell_type": "markdown",
   "source": [
    "## Train Test Experiments - Results Analysis"
   ],
   "metadata": {
    "collapsed": false,
    "pycharm": {
     "name": "#%% md\n"
    }
   }
  },
  {
   "cell_type": "code",
   "execution_count": 5,
   "outputs": [
    {
     "data": {
      "text/plain": "                                                   f1_score  precision  \\\nmodel_name   leg  sensor_pos sensor_type features                        \nDecisionTree both all        acc         all       0.883715   0.886305   \n                                         freq      0.885743   0.891083   \n                                         stat      0.731039   0.695365   \n                             both        all       0.806057   0.801757   \n                                         freq      0.893555   0.897127   \n                                         stat      0.754835   0.739355   \n                             gyro        all       0.800962   0.796332   \n                                         freq      0.917434   0.920126   \n                                         stat      0.723556   0.699623   \n                  feet       acc         all       0.785063   0.783748   \n\n                                                     recall  accuracy  \nmodel_name   leg  sensor_pos sensor_type features                      \nDecisionTree both all        acc         all       0.892183  0.892183  \n                                         freq      0.882412  0.882412  \n                                         stat      0.795148  0.795148  \n                             both        all       0.826819  0.826819  \n                                         freq      0.891173  0.891173  \n                                         stat      0.795148  0.795148  \n                             gyro        all       0.806941  0.806941  \n                                         freq      0.915768  0.915768  \n                                         stat      0.756739  0.756739  \n                  feet       acc         all       0.819744  0.819744  ",
      "text/html": "<div>\n<style scoped>\n    .dataframe tbody tr th:only-of-type {\n        vertical-align: middle;\n    }\n\n    .dataframe tbody tr th {\n        vertical-align: top;\n    }\n\n    .dataframe thead th {\n        text-align: right;\n    }\n</style>\n<table border=\"1\" class=\"dataframe\">\n  <thead>\n    <tr style=\"text-align: right;\">\n      <th></th>\n      <th></th>\n      <th></th>\n      <th></th>\n      <th></th>\n      <th>f1_score</th>\n      <th>precision</th>\n      <th>recall</th>\n      <th>accuracy</th>\n    </tr>\n    <tr>\n      <th>model_name</th>\n      <th>leg</th>\n      <th>sensor_pos</th>\n      <th>sensor_type</th>\n      <th>features</th>\n      <th></th>\n      <th></th>\n      <th></th>\n      <th></th>\n    </tr>\n  </thead>\n  <tbody>\n    <tr>\n      <th rowspan=\"10\" valign=\"top\">DecisionTree</th>\n      <th rowspan=\"10\" valign=\"top\">both</th>\n      <th rowspan=\"9\" valign=\"top\">all</th>\n      <th rowspan=\"3\" valign=\"top\">acc</th>\n      <th>all</th>\n      <td>0.883715</td>\n      <td>0.886305</td>\n      <td>0.892183</td>\n      <td>0.892183</td>\n    </tr>\n    <tr>\n      <th>freq</th>\n      <td>0.885743</td>\n      <td>0.891083</td>\n      <td>0.882412</td>\n      <td>0.882412</td>\n    </tr>\n    <tr>\n      <th>stat</th>\n      <td>0.731039</td>\n      <td>0.695365</td>\n      <td>0.795148</td>\n      <td>0.795148</td>\n    </tr>\n    <tr>\n      <th rowspan=\"3\" valign=\"top\">both</th>\n      <th>all</th>\n      <td>0.806057</td>\n      <td>0.801757</td>\n      <td>0.826819</td>\n      <td>0.826819</td>\n    </tr>\n    <tr>\n      <th>freq</th>\n      <td>0.893555</td>\n      <td>0.897127</td>\n      <td>0.891173</td>\n      <td>0.891173</td>\n    </tr>\n    <tr>\n      <th>stat</th>\n      <td>0.754835</td>\n      <td>0.739355</td>\n      <td>0.795148</td>\n      <td>0.795148</td>\n    </tr>\n    <tr>\n      <th rowspan=\"3\" valign=\"top\">gyro</th>\n      <th>all</th>\n      <td>0.800962</td>\n      <td>0.796332</td>\n      <td>0.806941</td>\n      <td>0.806941</td>\n    </tr>\n    <tr>\n      <th>freq</th>\n      <td>0.917434</td>\n      <td>0.920126</td>\n      <td>0.915768</td>\n      <td>0.915768</td>\n    </tr>\n    <tr>\n      <th>stat</th>\n      <td>0.723556</td>\n      <td>0.699623</td>\n      <td>0.756739</td>\n      <td>0.756739</td>\n    </tr>\n    <tr>\n      <th>feet</th>\n      <th>acc</th>\n      <th>all</th>\n      <td>0.785063</td>\n      <td>0.783748</td>\n      <td>0.819744</td>\n      <td>0.819744</td>\n    </tr>\n  </tbody>\n</table>\n</div>"
     },
     "execution_count": 5,
     "metadata": {},
     "output_type": "execute_result"
    }
   ],
   "source": [
    "df = pd.read_csv('train_test_results.csv', sep=',')\n",
    "results_df = df.groupby(['model_name', 'leg', 'sensor_pos', 'sensor_type', 'features'])[['f1_score', 'precision' , 'recall', 'accuracy']].mean()\n",
    "results_df.head(10)"
   ],
   "metadata": {
    "collapsed": false,
    "pycharm": {
     "name": "#%%\n"
    }
   }
  },
  {
   "cell_type": "markdown",
   "source": [
    "### Total Number of Experiments"
   ],
   "metadata": {
    "collapsed": false
   }
  },
  {
   "cell_type": "code",
   "execution_count": 6,
   "outputs": [
    {
     "data": {
      "text/plain": "567"
     },
     "execution_count": 6,
     "metadata": {},
     "output_type": "execute_result"
    }
   ],
   "source": [
    "len(results_df)"
   ],
   "metadata": {
    "collapsed": false,
    "pycharm": {
     "name": "#%%\n"
    }
   }
  },
  {
   "cell_type": "markdown",
   "source": [
    "### Top Experiment"
   ],
   "metadata": {
    "collapsed": false
   }
  },
  {
   "cell_type": "code",
   "execution_count": 7,
   "outputs": [
    {
     "data": {
      "text/plain": "                                                 f1_score  precision  \\\nmodel_name leg  sensor_pos sensor_type features                        \nLSTM       both feet       gyro        freq      0.924059   0.923777   \n\n                                                   recall  accuracy  \nmodel_name leg  sensor_pos sensor_type features                      \nLSTM       both feet       gyro        freq      0.923777  0.923777  ",
      "text/html": "<div>\n<style scoped>\n    .dataframe tbody tr th:only-of-type {\n        vertical-align: middle;\n    }\n\n    .dataframe tbody tr th {\n        vertical-align: top;\n    }\n\n    .dataframe thead th {\n        text-align: right;\n    }\n</style>\n<table border=\"1\" class=\"dataframe\">\n  <thead>\n    <tr style=\"text-align: right;\">\n      <th></th>\n      <th></th>\n      <th></th>\n      <th></th>\n      <th></th>\n      <th>f1_score</th>\n      <th>precision</th>\n      <th>recall</th>\n      <th>accuracy</th>\n    </tr>\n    <tr>\n      <th>model_name</th>\n      <th>leg</th>\n      <th>sensor_pos</th>\n      <th>sensor_type</th>\n      <th>features</th>\n      <th></th>\n      <th></th>\n      <th></th>\n      <th></th>\n    </tr>\n  </thead>\n  <tbody>\n    <tr>\n      <th>LSTM</th>\n      <th>both</th>\n      <th>feet</th>\n      <th>gyro</th>\n      <th>freq</th>\n      <td>0.924059</td>\n      <td>0.923777</td>\n      <td>0.923777</td>\n      <td>0.923777</td>\n    </tr>\n  </tbody>\n</table>\n</div>"
     },
     "execution_count": 7,
     "metadata": {},
     "output_type": "execute_result"
    }
   ],
   "source": [
    "results_df.loc[results_df.f1_score == results_df.f1_score.max()]"
   ],
   "metadata": {
    "collapsed": false,
    "pycharm": {
     "name": "#%%\n"
    }
   }
  },
  {
   "cell_type": "markdown",
   "source": [
    "### Worst Experiment"
   ],
   "metadata": {
    "collapsed": false
   }
  },
  {
   "cell_type": "code",
   "execution_count": 8,
   "outputs": [
    {
     "data": {
      "text/plain": "                                                          f1_score  precision  \\\nmodel_name         leg   sensor_pos sensor_type features                        \nGaussianNaiveBayes right feet       acc         freq      0.591257   0.712795   \n\n                                                           recall  accuracy  \nmodel_name         leg   sensor_pos sensor_type features                     \nGaussianNaiveBayes right feet       acc         freq      0.53942   0.53942  ",
      "text/html": "<div>\n<style scoped>\n    .dataframe tbody tr th:only-of-type {\n        vertical-align: middle;\n    }\n\n    .dataframe tbody tr th {\n        vertical-align: top;\n    }\n\n    .dataframe thead th {\n        text-align: right;\n    }\n</style>\n<table border=\"1\" class=\"dataframe\">\n  <thead>\n    <tr style=\"text-align: right;\">\n      <th></th>\n      <th></th>\n      <th></th>\n      <th></th>\n      <th></th>\n      <th>f1_score</th>\n      <th>precision</th>\n      <th>recall</th>\n      <th>accuracy</th>\n    </tr>\n    <tr>\n      <th>model_name</th>\n      <th>leg</th>\n      <th>sensor_pos</th>\n      <th>sensor_type</th>\n      <th>features</th>\n      <th></th>\n      <th></th>\n      <th></th>\n      <th></th>\n    </tr>\n  </thead>\n  <tbody>\n    <tr>\n      <th>GaussianNaiveBayes</th>\n      <th>right</th>\n      <th>feet</th>\n      <th>acc</th>\n      <th>freq</th>\n      <td>0.591257</td>\n      <td>0.712795</td>\n      <td>0.53942</td>\n      <td>0.53942</td>\n    </tr>\n  </tbody>\n</table>\n</div>"
     },
     "execution_count": 8,
     "metadata": {},
     "output_type": "execute_result"
    }
   ],
   "source": [
    "results_df.loc[results_df.f1_score == results_df.f1_score.min()]"
   ],
   "metadata": {
    "collapsed": false,
    "pycharm": {
     "name": "#%%\n"
    }
   }
  },
  {
   "cell_type": "markdown",
   "source": [
    "### Top 10 Experiments"
   ],
   "metadata": {
    "collapsed": false
   }
  },
  {
   "cell_type": "code",
   "execution_count": 9,
   "outputs": [
    {
     "data": {
      "text/plain": "                                                    f1_score  precision  \\\nmodel_name   leg   sensor_pos sensor_type features                        \nLSTM         both  feet       gyro        freq      0.924059   0.923777   \nDecisionTree both  shank      gyro        freq      0.921661   0.923404   \n             right all        gyro        freq      0.917434   0.920126   \n             both  all        gyro        freq      0.917434   0.920126   \n             left  all        gyro        freq      0.917434   0.920126   \nLSTM         both  feet       acc         freq      0.911290   0.910961   \n             right feet       both        freq      0.906234   0.906239   \nDecisionTree both  shank      acc         freq      0.906204   0.909092   \nLSTM         both  feet       both        freq      0.905914   0.905565   \n                   shank      acc         freq      0.905242   0.904890   \n\n                                                      recall  accuracy  \nmodel_name   leg   sensor_pos sensor_type features                      \nLSTM         both  feet       gyro        freq      0.923777  0.923777  \nDecisionTree both  shank      gyro        freq      0.920485  0.920485  \n             right all        gyro        freq      0.915768  0.915768  \n             both  all        gyro        freq      0.915768  0.915768  \n             left  all        gyro        freq      0.915768  0.915768  \nLSTM         both  feet       acc         freq      0.910961  0.910961  \n             right feet       both        freq      0.906239  0.906239  \nDecisionTree both  shank      acc         freq      0.904313  0.904313  \nLSTM         both  feet       both        freq      0.905565  0.905565  \n                   shank      acc         freq      0.904890  0.904890  ",
      "text/html": "<div>\n<style scoped>\n    .dataframe tbody tr th:only-of-type {\n        vertical-align: middle;\n    }\n\n    .dataframe tbody tr th {\n        vertical-align: top;\n    }\n\n    .dataframe thead th {\n        text-align: right;\n    }\n</style>\n<table border=\"1\" class=\"dataframe\">\n  <thead>\n    <tr style=\"text-align: right;\">\n      <th></th>\n      <th></th>\n      <th></th>\n      <th></th>\n      <th></th>\n      <th>f1_score</th>\n      <th>precision</th>\n      <th>recall</th>\n      <th>accuracy</th>\n    </tr>\n    <tr>\n      <th>model_name</th>\n      <th>leg</th>\n      <th>sensor_pos</th>\n      <th>sensor_type</th>\n      <th>features</th>\n      <th></th>\n      <th></th>\n      <th></th>\n      <th></th>\n    </tr>\n  </thead>\n  <tbody>\n    <tr>\n      <th>LSTM</th>\n      <th>both</th>\n      <th>feet</th>\n      <th>gyro</th>\n      <th>freq</th>\n      <td>0.924059</td>\n      <td>0.923777</td>\n      <td>0.923777</td>\n      <td>0.923777</td>\n    </tr>\n    <tr>\n      <th rowspan=\"4\" valign=\"top\">DecisionTree</th>\n      <th>both</th>\n      <th>shank</th>\n      <th>gyro</th>\n      <th>freq</th>\n      <td>0.921661</td>\n      <td>0.923404</td>\n      <td>0.920485</td>\n      <td>0.920485</td>\n    </tr>\n    <tr>\n      <th>right</th>\n      <th>all</th>\n      <th>gyro</th>\n      <th>freq</th>\n      <td>0.917434</td>\n      <td>0.920126</td>\n      <td>0.915768</td>\n      <td>0.915768</td>\n    </tr>\n    <tr>\n      <th>both</th>\n      <th>all</th>\n      <th>gyro</th>\n      <th>freq</th>\n      <td>0.917434</td>\n      <td>0.920126</td>\n      <td>0.915768</td>\n      <td>0.915768</td>\n    </tr>\n    <tr>\n      <th>left</th>\n      <th>all</th>\n      <th>gyro</th>\n      <th>freq</th>\n      <td>0.917434</td>\n      <td>0.920126</td>\n      <td>0.915768</td>\n      <td>0.915768</td>\n    </tr>\n    <tr>\n      <th rowspan=\"2\" valign=\"top\">LSTM</th>\n      <th>both</th>\n      <th>feet</th>\n      <th>acc</th>\n      <th>freq</th>\n      <td>0.911290</td>\n      <td>0.910961</td>\n      <td>0.910961</td>\n      <td>0.910961</td>\n    </tr>\n    <tr>\n      <th>right</th>\n      <th>feet</th>\n      <th>both</th>\n      <th>freq</th>\n      <td>0.906234</td>\n      <td>0.906239</td>\n      <td>0.906239</td>\n      <td>0.906239</td>\n    </tr>\n    <tr>\n      <th>DecisionTree</th>\n      <th>both</th>\n      <th>shank</th>\n      <th>acc</th>\n      <th>freq</th>\n      <td>0.906204</td>\n      <td>0.909092</td>\n      <td>0.904313</td>\n      <td>0.904313</td>\n    </tr>\n    <tr>\n      <th rowspan=\"2\" valign=\"top\">LSTM</th>\n      <th rowspan=\"2\" valign=\"top\">both</th>\n      <th>feet</th>\n      <th>both</th>\n      <th>freq</th>\n      <td>0.905914</td>\n      <td>0.905565</td>\n      <td>0.905565</td>\n      <td>0.905565</td>\n    </tr>\n    <tr>\n      <th>shank</th>\n      <th>acc</th>\n      <th>freq</th>\n      <td>0.905242</td>\n      <td>0.904890</td>\n      <td>0.904890</td>\n      <td>0.904890</td>\n    </tr>\n  </tbody>\n</table>\n</div>"
     },
     "execution_count": 9,
     "metadata": {},
     "output_type": "execute_result"
    }
   ],
   "source": [
    "results_df.sort_values(by=['f1_score'], ascending=False).head(10)"
   ],
   "metadata": {
    "collapsed": false,
    "pycharm": {
     "name": "#%%\n"
    }
   }
  },
  {
   "cell_type": "markdown",
   "source": [
    "### Worst 10 Experiments"
   ],
   "metadata": {
    "collapsed": false
   }
  },
  {
   "cell_type": "code",
   "execution_count": 10,
   "outputs": [
    {
     "data": {
      "text/plain": "                                                          f1_score  precision  \\\nmodel_name         leg   sensor_pos sensor_type features                        \nGaussianNaiveBayes right feet       acc         freq      0.591257   0.712795   \n                                                all       0.594771   0.654400   \n                   both  feet       acc         all       0.599932   0.633267   \n                   right feet       acc         stat      0.603537   0.635471   \n                                    both        freq      0.611911   0.674582   \n                   left  all        acc         all       0.613907   0.635282   \n                   right all        acc         all       0.613907   0.635282   \n                   both  all        acc         all       0.613907   0.635282   \n                   left  all        acc         freq      0.619599   0.686072   \n                   both  all        acc         freq      0.619599   0.686072   \n\n                                                            recall  accuracy  \nmodel_name         leg   sensor_pos sensor_type features                      \nGaussianNaiveBayes right feet       acc         freq      0.539420  0.539420  \n                                                all       0.552224  0.552224  \n                   both  feet       acc         all       0.571092  0.571092  \n                   right feet       acc         stat      0.575809  0.575809  \n                                    both        freq      0.570081  0.570081  \n                   left  all        acc         all       0.594340  0.594340  \n                   right all        acc         all       0.594340  0.594340  \n                   both  all        acc         all       0.594340  0.594340  \n                   left  all        acc         freq      0.577493  0.577493  \n                   both  all        acc         freq      0.577493  0.577493  ",
      "text/html": "<div>\n<style scoped>\n    .dataframe tbody tr th:only-of-type {\n        vertical-align: middle;\n    }\n\n    .dataframe tbody tr th {\n        vertical-align: top;\n    }\n\n    .dataframe thead th {\n        text-align: right;\n    }\n</style>\n<table border=\"1\" class=\"dataframe\">\n  <thead>\n    <tr style=\"text-align: right;\">\n      <th></th>\n      <th></th>\n      <th></th>\n      <th></th>\n      <th></th>\n      <th>f1_score</th>\n      <th>precision</th>\n      <th>recall</th>\n      <th>accuracy</th>\n    </tr>\n    <tr>\n      <th>model_name</th>\n      <th>leg</th>\n      <th>sensor_pos</th>\n      <th>sensor_type</th>\n      <th>features</th>\n      <th></th>\n      <th></th>\n      <th></th>\n      <th></th>\n    </tr>\n  </thead>\n  <tbody>\n    <tr>\n      <th rowspan=\"10\" valign=\"top\">GaussianNaiveBayes</th>\n      <th rowspan=\"2\" valign=\"top\">right</th>\n      <th rowspan=\"2\" valign=\"top\">feet</th>\n      <th rowspan=\"2\" valign=\"top\">acc</th>\n      <th>freq</th>\n      <td>0.591257</td>\n      <td>0.712795</td>\n      <td>0.539420</td>\n      <td>0.539420</td>\n    </tr>\n    <tr>\n      <th>all</th>\n      <td>0.594771</td>\n      <td>0.654400</td>\n      <td>0.552224</td>\n      <td>0.552224</td>\n    </tr>\n    <tr>\n      <th>both</th>\n      <th>feet</th>\n      <th>acc</th>\n      <th>all</th>\n      <td>0.599932</td>\n      <td>0.633267</td>\n      <td>0.571092</td>\n      <td>0.571092</td>\n    </tr>\n    <tr>\n      <th rowspan=\"2\" valign=\"top\">right</th>\n      <th rowspan=\"2\" valign=\"top\">feet</th>\n      <th>acc</th>\n      <th>stat</th>\n      <td>0.603537</td>\n      <td>0.635471</td>\n      <td>0.575809</td>\n      <td>0.575809</td>\n    </tr>\n    <tr>\n      <th>both</th>\n      <th>freq</th>\n      <td>0.611911</td>\n      <td>0.674582</td>\n      <td>0.570081</td>\n      <td>0.570081</td>\n    </tr>\n    <tr>\n      <th>left</th>\n      <th>all</th>\n      <th>acc</th>\n      <th>all</th>\n      <td>0.613907</td>\n      <td>0.635282</td>\n      <td>0.594340</td>\n      <td>0.594340</td>\n    </tr>\n    <tr>\n      <th>right</th>\n      <th>all</th>\n      <th>acc</th>\n      <th>all</th>\n      <td>0.613907</td>\n      <td>0.635282</td>\n      <td>0.594340</td>\n      <td>0.594340</td>\n    </tr>\n    <tr>\n      <th>both</th>\n      <th>all</th>\n      <th>acc</th>\n      <th>all</th>\n      <td>0.613907</td>\n      <td>0.635282</td>\n      <td>0.594340</td>\n      <td>0.594340</td>\n    </tr>\n    <tr>\n      <th>left</th>\n      <th>all</th>\n      <th>acc</th>\n      <th>freq</th>\n      <td>0.619599</td>\n      <td>0.686072</td>\n      <td>0.577493</td>\n      <td>0.577493</td>\n    </tr>\n    <tr>\n      <th>both</th>\n      <th>all</th>\n      <th>acc</th>\n      <th>freq</th>\n      <td>0.619599</td>\n      <td>0.686072</td>\n      <td>0.577493</td>\n      <td>0.577493</td>\n    </tr>\n  </tbody>\n</table>\n</div>"
     },
     "execution_count": 10,
     "metadata": {},
     "output_type": "execute_result"
    }
   ],
   "source": [
    "results_df.sort_values(by=['f1_score'], ascending=True).head(10)"
   ],
   "metadata": {
    "collapsed": false,
    "pycharm": {
     "name": "#%%\n"
    }
   }
  },
  {
   "cell_type": "markdown",
   "source": [
    "### Best Experiment Scores For Each Model"
   ],
   "metadata": {
    "collapsed": false
   }
  },
  {
   "cell_type": "code",
   "execution_count": 11,
   "outputs": [
    {
     "data": {
      "text/plain": "                                                                              f1_score  \\\nmodel_name                             leg   sensor_pos sensor_type features             \nLSTM                                   both  feet       gyro        freq      0.924059   \nDecisionTree                           both  shank      gyro        freq      0.921661   \nRandomForest                           right shank      gyro        freq      0.902533   \nSupportVectorsMachine                  left  feet       acc         freq      0.891821   \nK-NearestNeighbors                     both  shank      both        stat      0.834497   \nK-NearestNeighbors_DynamicTimeWrapping left  feet       acc         freq      0.823955   \nGaussianNaiveBayes                     left  shank      acc         freq      0.724099   \n\n                                                                              precision  \\\nmodel_name                             leg   sensor_pos sensor_type features              \nLSTM                                   both  feet       gyro        freq       0.923777   \nDecisionTree                           both  shank      gyro        freq       0.923404   \nRandomForest                           right shank      gyro        freq       0.903195   \nSupportVectorsMachine                  left  feet       acc         freq       0.890557   \nK-NearestNeighbors                     both  shank      both        stat       0.834520   \nK-NearestNeighbors_DynamicTimeWrapping left  feet       acc         freq       0.826861   \nGaussianNaiveBayes                     left  shank      acc         freq       0.732041   \n\n                                                                                recall  \\\nmodel_name                             leg   sensor_pos sensor_type features             \nLSTM                                   both  feet       gyro        freq      0.923777   \nDecisionTree                           both  shank      gyro        freq      0.920485   \nRandomForest                           right shank      gyro        freq      0.901954   \nSupportVectorsMachine                  left  feet       acc         freq      0.893868   \nK-NearestNeighbors                     both  shank      both        stat      0.850741   \nK-NearestNeighbors_DynamicTimeWrapping left  feet       acc         freq      0.821429   \nGaussianNaiveBayes                     left  shank      acc         freq      0.716981   \n\n                                                                              accuracy  \nmodel_name                             leg   sensor_pos sensor_type features            \nLSTM                                   both  feet       gyro        freq      0.923777  \nDecisionTree                           both  shank      gyro        freq      0.920485  \nRandomForest                           right shank      gyro        freq      0.901954  \nSupportVectorsMachine                  left  feet       acc         freq      0.893868  \nK-NearestNeighbors                     both  shank      both        stat      0.850741  \nK-NearestNeighbors_DynamicTimeWrapping left  feet       acc         freq      0.821429  \nGaussianNaiveBayes                     left  shank      acc         freq      0.716981  ",
      "text/html": "<div>\n<style scoped>\n    .dataframe tbody tr th:only-of-type {\n        vertical-align: middle;\n    }\n\n    .dataframe tbody tr th {\n        vertical-align: top;\n    }\n\n    .dataframe thead th {\n        text-align: right;\n    }\n</style>\n<table border=\"1\" class=\"dataframe\">\n  <thead>\n    <tr style=\"text-align: right;\">\n      <th></th>\n      <th></th>\n      <th></th>\n      <th></th>\n      <th></th>\n      <th>f1_score</th>\n      <th>precision</th>\n      <th>recall</th>\n      <th>accuracy</th>\n    </tr>\n    <tr>\n      <th>model_name</th>\n      <th>leg</th>\n      <th>sensor_pos</th>\n      <th>sensor_type</th>\n      <th>features</th>\n      <th></th>\n      <th></th>\n      <th></th>\n      <th></th>\n    </tr>\n  </thead>\n  <tbody>\n    <tr>\n      <th>LSTM</th>\n      <th>both</th>\n      <th>feet</th>\n      <th>gyro</th>\n      <th>freq</th>\n      <td>0.924059</td>\n      <td>0.923777</td>\n      <td>0.923777</td>\n      <td>0.923777</td>\n    </tr>\n    <tr>\n      <th>DecisionTree</th>\n      <th>both</th>\n      <th>shank</th>\n      <th>gyro</th>\n      <th>freq</th>\n      <td>0.921661</td>\n      <td>0.923404</td>\n      <td>0.920485</td>\n      <td>0.920485</td>\n    </tr>\n    <tr>\n      <th>RandomForest</th>\n      <th>right</th>\n      <th>shank</th>\n      <th>gyro</th>\n      <th>freq</th>\n      <td>0.902533</td>\n      <td>0.903195</td>\n      <td>0.901954</td>\n      <td>0.901954</td>\n    </tr>\n    <tr>\n      <th>SupportVectorsMachine</th>\n      <th>left</th>\n      <th>feet</th>\n      <th>acc</th>\n      <th>freq</th>\n      <td>0.891821</td>\n      <td>0.890557</td>\n      <td>0.893868</td>\n      <td>0.893868</td>\n    </tr>\n    <tr>\n      <th>K-NearestNeighbors</th>\n      <th>both</th>\n      <th>shank</th>\n      <th>both</th>\n      <th>stat</th>\n      <td>0.834497</td>\n      <td>0.834520</td>\n      <td>0.850741</td>\n      <td>0.850741</td>\n    </tr>\n    <tr>\n      <th>K-NearestNeighbors_DynamicTimeWrapping</th>\n      <th>left</th>\n      <th>feet</th>\n      <th>acc</th>\n      <th>freq</th>\n      <td>0.823955</td>\n      <td>0.826861</td>\n      <td>0.821429</td>\n      <td>0.821429</td>\n    </tr>\n    <tr>\n      <th>GaussianNaiveBayes</th>\n      <th>left</th>\n      <th>shank</th>\n      <th>acc</th>\n      <th>freq</th>\n      <td>0.724099</td>\n      <td>0.732041</td>\n      <td>0.716981</td>\n      <td>0.716981</td>\n    </tr>\n  </tbody>\n</table>\n</div>"
     },
     "execution_count": 11,
     "metadata": {},
     "output_type": "execute_result"
    }
   ],
   "source": [
    "results_df.loc[results_df.groupby([\"model_name\"])[\"f1_score\"].idxmax()].sort_values(by=['f1_score'], ascending=False)"
   ],
   "metadata": {
    "collapsed": false,
    "pycharm": {
     "name": "#%%\n"
    }
   }
  },
  {
   "cell_type": "markdown",
   "source": [
    "### Worst Experiment Scores For Each Model"
   ],
   "metadata": {
    "collapsed": false
   }
  },
  {
   "cell_type": "code",
   "execution_count": 12,
   "outputs": [
    {
     "data": {
      "text/plain": "                                                                              f1_score  \\\nmodel_name                             leg   sensor_pos sensor_type features             \nLSTM                                   right feet       gyro        stat      0.714366   \nK-NearestNeighbors                     left  shank      gyro        stat      0.709667   \nK-NearestNeighbors_DynamicTimeWrapping right feet       gyro        stat      0.704220   \nSupportVectorsMachine                  right shank      acc         stat      0.703318   \nRandomForest                           both  all        gyro        stat      0.688535   \nDecisionTree                           both  feet       acc         stat      0.675643   \nGaussianNaiveBayes                     right feet       acc         freq      0.591257   \n\n                                                                              precision  \\\nmodel_name                             leg   sensor_pos sensor_type features              \nLSTM                                   right feet       gyro        stat       0.713659   \nK-NearestNeighbors                     left  shank      gyro        stat       0.684744   \nK-NearestNeighbors_DynamicTimeWrapping right feet       gyro        stat       0.685181   \nSupportVectorsMachine                  right shank      acc         stat       0.671682   \nRandomForest                           both  all        gyro        stat       0.658474   \nDecisionTree                           both  feet       acc         stat       0.663755   \nGaussianNaiveBayes                     right feet       acc         freq       0.712795   \n\n                                                                                recall  \\\nmodel_name                             leg   sensor_pos sensor_type features             \nLSTM                                   right feet       gyro        stat      0.713659   \nK-NearestNeighbors                     left  shank      gyro        stat      0.740903   \nK-NearestNeighbors_DynamicTimeWrapping right feet       gyro        stat      0.726752   \nSupportVectorsMachine                  right shank      acc         stat      0.741914   \nRandomForest                           both  all        gyro        stat      0.722709   \nDecisionTree                           both  feet       acc         stat      0.688342   \nGaussianNaiveBayes                     right feet       acc         freq      0.539420   \n\n                                                                              accuracy  \nmodel_name                             leg   sensor_pos sensor_type features            \nLSTM                                   right feet       gyro        stat      0.713659  \nK-NearestNeighbors                     left  shank      gyro        stat      0.740903  \nK-NearestNeighbors_DynamicTimeWrapping right feet       gyro        stat      0.726752  \nSupportVectorsMachine                  right shank      acc         stat      0.741914  \nRandomForest                           both  all        gyro        stat      0.722709  \nDecisionTree                           both  feet       acc         stat      0.688342  \nGaussianNaiveBayes                     right feet       acc         freq      0.539420  ",
      "text/html": "<div>\n<style scoped>\n    .dataframe tbody tr th:only-of-type {\n        vertical-align: middle;\n    }\n\n    .dataframe tbody tr th {\n        vertical-align: top;\n    }\n\n    .dataframe thead th {\n        text-align: right;\n    }\n</style>\n<table border=\"1\" class=\"dataframe\">\n  <thead>\n    <tr style=\"text-align: right;\">\n      <th></th>\n      <th></th>\n      <th></th>\n      <th></th>\n      <th></th>\n      <th>f1_score</th>\n      <th>precision</th>\n      <th>recall</th>\n      <th>accuracy</th>\n    </tr>\n    <tr>\n      <th>model_name</th>\n      <th>leg</th>\n      <th>sensor_pos</th>\n      <th>sensor_type</th>\n      <th>features</th>\n      <th></th>\n      <th></th>\n      <th></th>\n      <th></th>\n    </tr>\n  </thead>\n  <tbody>\n    <tr>\n      <th>LSTM</th>\n      <th>right</th>\n      <th>feet</th>\n      <th>gyro</th>\n      <th>stat</th>\n      <td>0.714366</td>\n      <td>0.713659</td>\n      <td>0.713659</td>\n      <td>0.713659</td>\n    </tr>\n    <tr>\n      <th>K-NearestNeighbors</th>\n      <th>left</th>\n      <th>shank</th>\n      <th>gyro</th>\n      <th>stat</th>\n      <td>0.709667</td>\n      <td>0.684744</td>\n      <td>0.740903</td>\n      <td>0.740903</td>\n    </tr>\n    <tr>\n      <th>K-NearestNeighbors_DynamicTimeWrapping</th>\n      <th>right</th>\n      <th>feet</th>\n      <th>gyro</th>\n      <th>stat</th>\n      <td>0.704220</td>\n      <td>0.685181</td>\n      <td>0.726752</td>\n      <td>0.726752</td>\n    </tr>\n    <tr>\n      <th>SupportVectorsMachine</th>\n      <th>right</th>\n      <th>shank</th>\n      <th>acc</th>\n      <th>stat</th>\n      <td>0.703318</td>\n      <td>0.671682</td>\n      <td>0.741914</td>\n      <td>0.741914</td>\n    </tr>\n    <tr>\n      <th>RandomForest</th>\n      <th>both</th>\n      <th>all</th>\n      <th>gyro</th>\n      <th>stat</th>\n      <td>0.688535</td>\n      <td>0.658474</td>\n      <td>0.722709</td>\n      <td>0.722709</td>\n    </tr>\n    <tr>\n      <th>DecisionTree</th>\n      <th>both</th>\n      <th>feet</th>\n      <th>acc</th>\n      <th>stat</th>\n      <td>0.675643</td>\n      <td>0.663755</td>\n      <td>0.688342</td>\n      <td>0.688342</td>\n    </tr>\n    <tr>\n      <th>GaussianNaiveBayes</th>\n      <th>right</th>\n      <th>feet</th>\n      <th>acc</th>\n      <th>freq</th>\n      <td>0.591257</td>\n      <td>0.712795</td>\n      <td>0.539420</td>\n      <td>0.539420</td>\n    </tr>\n  </tbody>\n</table>\n</div>"
     },
     "execution_count": 12,
     "metadata": {},
     "output_type": "execute_result"
    }
   ],
   "source": [
    "results_df.loc[results_df.groupby([\"model_name\"])[\"f1_score\"].idxmin()].sort_values(by=['f1_score'], ascending=False)"
   ],
   "metadata": {
    "collapsed": false,
    "pycharm": {
     "name": "#%%\n"
    }
   }
  },
  {
   "cell_type": "code",
   "execution_count": null,
   "outputs": [],
   "source": [],
   "metadata": {
    "collapsed": false,
    "pycharm": {
     "name": "#%%\n"
    }
   }
  }
 ],
 "metadata": {
  "kernelspec": {
   "display_name": "Python 3",
   "language": "python",
   "name": "python3"
  },
  "language_info": {
   "codemirror_mode": {
    "name": "ipython",
    "version": 2
   },
   "file_extension": ".py",
   "mimetype": "text/x-python",
   "name": "python",
   "nbconvert_exporter": "python",
   "pygments_lexer": "ipython2",
   "version": "2.7.6"
  }
 },
 "nbformat": 4,
 "nbformat_minor": 0
}